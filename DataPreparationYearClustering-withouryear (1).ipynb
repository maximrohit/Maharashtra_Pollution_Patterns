{
 "cells": [
  {
   "cell_type": "code",
   "execution_count": 2,
   "metadata": {},
   "outputs": [],
   "source": [
    "# Supress Warnings\n",
    "import warnings\n",
    "warnings.filterwarnings('ignore')\n",
    "import numpy as np\n",
    "import pandas as pd\n",
    "import matplotlib.pyplot as plt\n",
    "import seaborn as sns"
   ]
  },
  {
   "cell_type": "code",
   "execution_count": 3,
   "metadata": {},
   "outputs": [],
   "source": [
    "# To Scale our data\n",
    "from sklearn.preprocessing import scale\n",
    "\n",
    "# To perform KMeans clustering \n",
    "from sklearn.cluster import KMeans\n",
    "\n",
    "# To perform Hierarchical clustering\n",
    "from scipy.cluster.hierarchy import linkage\n",
    "from scipy.cluster.hierarchy import dendrogram\n",
    "from scipy.cluster.hierarchy import cut_tree"
   ]
  },
  {
   "cell_type": "code",
   "execution_count": 4,
   "metadata": {},
   "outputs": [],
   "source": [
    "Base_polpop_iell_csrf=pd.read_csv('C:\\MS\\EDA\\Base_polpop_iell_csrf_17oct.csv')"
   ]
  },
  {
   "cell_type": "code",
   "execution_count": 5,
   "metadata": {},
   "outputs": [
    {
     "data": {
      "text/plain": [
       "Unnamed: 0                           0\n",
       "City_poll                            0\n",
       "Type_of_Location                     0\n",
       "year_number                          0\n",
       "month_number                         0\n",
       "NO2_Median                          38\n",
       "RSPM_PM10_Median                  1738\n",
       "SO2_Median                          38\n",
       "SPM_Median                        2725\n",
       "Median_SO2_MOM_diff                211\n",
       "Median_NO2_MOM_diff                212\n",
       "Median_RSPM_PM10_MOM_diff         1821\n",
       "Median_SPM_MOM_diff               2853\n",
       "NO2_P10                             38\n",
       "RSPM_PM10_P10                     1738\n",
       "SO2_P10                             38\n",
       "SPM_P10                           2725\n",
       "P10_NO2_MOM_diff                   212\n",
       "P10_SO2_MOM_diff                   211\n",
       "P10_RSPM_PM10_MOM_diff            1821\n",
       "P10_SPM_MOM_diff                  2853\n",
       "NO2_P90                             38\n",
       "RSPM_PM10_P90                     1738\n",
       "SO2_P90                             38\n",
       "SPM_P90                           2725\n",
       "month_number_diff                   50\n",
       "P90_NO2_MOM_diff                   212\n",
       "P90_SO2_MOM_diff                   211\n",
       "P90_RSPM_PM10_MOM_diff            1821\n",
       "P90_SPM_MOM_diff                  2853\n",
       "                                  ... \n",
       "micro_industries_services          919\n",
       "small_industries_services          919\n",
       "medium_industries_services         919\n",
       "large_industries_services          919\n",
       "micrototal                         919\n",
       "smalltotal                         919\n",
       "mediumtotal                        919\n",
       "largetotal                         919\n",
       "manu_total                         919\n",
       "service_total                      919\n",
       "industrytotal                      919\n",
       "year_cs                           4424\n",
       "city_cs                           4424\n",
       "carsales_count_thousands          4424\n",
       "city_rf                           4251\n",
       "Year_rf                           4251\n",
       "month_rf                          4251\n",
       "rainfall                          4251\n",
       "total_road                         919\n",
       "National_Highway_per               919\n",
       "State_Highway_per                  919\n",
       "Main_District_Highway_per          919\n",
       "Other_district_Rural_Roads_per     919\n",
       "indus_by_overall                   919\n",
       "indus_by_forest                    919\n",
       "indus_by_nonforest                 919\n",
       "rec_id                               0\n",
       "RainPerArea                       4251\n",
       "CarSalesPerArea                   4474\n",
       "RainPerCarSales                   5235\n",
       "Length: 106, dtype: int64"
      ]
     },
     "execution_count": 5,
     "metadata": {},
     "output_type": "execute_result"
    }
   ],
   "source": [
    "Base_polpop_iell_csrf.isnull().sum()"
   ]
  },
  {
   "cell_type": "code",
   "execution_count": 12,
   "metadata": {},
   "outputs": [],
   "source": [
    "YearClusterDataNSo2=Base_polpop_iell_csrf[['rec_id','NO2_Median','NO2_P10','NO2_P90','SO2_Median','SO2_P10','SO2_P90']]"
   ]
  },
  {
   "cell_type": "code",
   "execution_count": 14,
   "metadata": {},
   "outputs": [
    {
     "data": {
      "text/plain": [
       "rec_id        False\n",
       "NO2_Median     True\n",
       "NO2_P10        True\n",
       "NO2_P90        True\n",
       "SO2_Median     True\n",
       "SO2_P10        True\n",
       "SO2_P90        True\n",
       "dtype: bool"
      ]
     },
     "execution_count": 14,
     "metadata": {},
     "output_type": "execute_result"
    }
   ],
   "source": [
    "YearClusterDataNSo2.isnull().any(axis=0) "
   ]
  },
  {
   "cell_type": "code",
   "execution_count": 15,
   "metadata": {},
   "outputs": [
    {
     "data": {
      "text/plain": [
       "rec_id         0\n",
       "NO2_Median    38\n",
       "NO2_P10       38\n",
       "NO2_P90       38\n",
       "SO2_Median    38\n",
       "SO2_P10       38\n",
       "SO2_P90       38\n",
       "dtype: int64"
      ]
     },
     "execution_count": 15,
     "metadata": {},
     "output_type": "execute_result"
    }
   ],
   "source": [
    "YearClusterDataNSo2.isnull().sum()"
   ]
  },
  {
   "cell_type": "code",
   "execution_count": 16,
   "metadata": {},
   "outputs": [],
   "source": [
    "YearClusterDataNSo2.dropna(inplace=True)"
   ]
  },
  {
   "cell_type": "code",
   "execution_count": 17,
   "metadata": {},
   "outputs": [],
   "source": [
    "YearClusterDataNSo2_ori=YearClusterDataNSo2"
   ]
  },
  {
   "cell_type": "code",
   "execution_count": 18,
   "metadata": {},
   "outputs": [],
   "source": [
    "YearClusterDataNSo2=YearClusterDataNSo2[['NO2_Median','NO2_P10','NO2_P90','SO2_Median','SO2_P10','SO2_P90']]"
   ]
  },
  {
   "cell_type": "code",
   "execution_count": 19,
   "metadata": {},
   "outputs": [
    {
     "data": {
      "text/plain": [
       "NO2_Median    0\n",
       "NO2_P10       0\n",
       "NO2_P90       0\n",
       "SO2_Median    0\n",
       "SO2_P10       0\n",
       "SO2_P90       0\n",
       "dtype: int64"
      ]
     },
     "execution_count": 19,
     "metadata": {},
     "output_type": "execute_result"
    }
   ],
   "source": [
    "YearClusterDataNSo2.isnull().sum()"
   ]
  },
  {
   "cell_type": "code",
   "execution_count": 22,
   "metadata": {},
   "outputs": [
    {
     "data": {
      "text/plain": [
       "<matplotlib.axes._subplots.AxesSubplot at 0x20da3dd4cf8>"
      ]
     },
     "execution_count": 22,
     "metadata": {},
     "output_type": "execute_result"
    },
    {
     "data": {
      "image/png": "[encoded data removed]",
      "text/plain": [
       "<Figure size 432x288 with 1 Axes>"
      ]
     },
     "metadata": {},
     "output_type": "display_data"
    }
   ],
   "source": [
    "sns.boxplot(y=\"NO2_Median\", data=YearClusterDataNSo2)"
   ]
  },
  {
   "cell_type": "code",
   "execution_count": 23,
   "metadata": {},
   "outputs": [],
   "source": [
    "from sklearn.preprocessing import StandardScaler\n",
    "standard_scaler = StandardScaler()\n",
    "YearClusterDataNSo2_norm = standard_scaler.fit_transform(YearClusterDataNSo2)"
   ]
  },
  {
   "cell_type": "code",
   "execution_count": 24,
   "metadata": {},
   "outputs": [],
   "source": [
    "from sklearn.neighbors import NearestNeighbors\n",
    "from random import sample\n",
    "from numpy.random import uniform\n",
    "import numpy as np\n",
    "from math import isnan\n",
    " \n",
    "def hopkins(X):\n",
    "    d = X.shape[1]\n",
    "    #d = len(vars) # columns\n",
    "    n = len(X) # rows\n",
    "    m = int(0.1 * n) \n",
    "    nbrs = NearestNeighbors(n_neighbors=1).fit(X.values)\n",
    " \n",
    "    rand_X = sample(range(0, n, 1), m)\n",
    " \n",
    "    ujd = []\n",
    "    wjd = []\n",
    "    for j in range(0, m):\n",
    "        u_dist, _ = nbrs.kneighbors(uniform(np.amin(X,axis=0),np.amax(X,axis=0),d).reshape(1, -1), 2, return_distance=True)\n",
    "        ujd.append(u_dist[0][1])\n",
    "        w_dist, _ = nbrs.kneighbors(X.iloc[rand_X[j]].values.reshape(1, -1), 2, return_distance=True)\n",
    "        wjd.append(w_dist[0][1])\n",
    " \n",
    "    H = sum(ujd) / (sum(ujd) + sum(wjd))\n",
    "    if isnan(H):\n",
    "        print(ujd, wjd)\n",
    "        H = 0\n",
    " \n",
    "    return H"
   ]
  },
  {
   "cell_type": "code",
   "execution_count": 25,
   "metadata": {},
   "outputs": [
    {
     "ename": "AttributeError",
     "evalue": "'numpy.ndarray' object has no attribute 'values'",
     "output_type": "error",
     "traceback": [
      "\u001b[1;31m---------------------------------------------------------------------------\u001b[0m",
      "\u001b[1;31mAttributeError\u001b[0m                            Traceback (most recent call last)",
      "\u001b[1;32m<ipython-input-25-6931af3f09a4>\u001b[0m in \u001b[0;36m<module>\u001b[1;34m()\u001b[0m\n\u001b[1;32m----> 1\u001b[1;33m \u001b[0mhopkins\u001b[0m\u001b[1;33m(\u001b[0m\u001b[0mYearClusterDataNSo2_norm\u001b[0m\u001b[1;33m)\u001b[0m\u001b[1;33m\u001b[0m\u001b[0m\n\u001b[0m",
      "\u001b[1;32m<ipython-input-24-53981c731d97>\u001b[0m in \u001b[0;36mhopkins\u001b[1;34m(X)\u001b[0m\n\u001b[0;32m     10\u001b[0m     \u001b[0mn\u001b[0m \u001b[1;33m=\u001b[0m \u001b[0mlen\u001b[0m\u001b[1;33m(\u001b[0m\u001b[0mX\u001b[0m\u001b[1;33m)\u001b[0m \u001b[1;31m# rows\u001b[0m\u001b[1;33m\u001b[0m\u001b[0m\n\u001b[0;32m     11\u001b[0m     \u001b[0mm\u001b[0m \u001b[1;33m=\u001b[0m \u001b[0mint\u001b[0m\u001b[1;33m(\u001b[0m\u001b[1;36m0.1\u001b[0m \u001b[1;33m*\u001b[0m \u001b[0mn\u001b[0m\u001b[1;33m)\u001b[0m\u001b[1;33m\u001b[0m\u001b[0m\n\u001b[1;32m---> 12\u001b[1;33m     \u001b[0mnbrs\u001b[0m \u001b[1;33m=\u001b[0m \u001b[0mNearestNeighbors\u001b[0m\u001b[1;33m(\u001b[0m\u001b[0mn_neighbors\u001b[0m\u001b[1;33m=\u001b[0m\u001b[1;36m1\u001b[0m\u001b[1;33m)\u001b[0m\u001b[1;33m.\u001b[0m\u001b[0mfit\u001b[0m\u001b[1;33m(\u001b[0m\u001b[0mX\u001b[0m\u001b[1;33m.\u001b[0m\u001b[0mvalues\u001b[0m\u001b[1;33m)\u001b[0m\u001b[1;33m\u001b[0m\u001b[0m\n\u001b[0m\u001b[0;32m     13\u001b[0m \u001b[1;33m\u001b[0m\u001b[0m\n\u001b[0;32m     14\u001b[0m     \u001b[0mrand_X\u001b[0m \u001b[1;33m=\u001b[0m \u001b[0msample\u001b[0m\u001b[1;33m(\u001b[0m\u001b[0mrange\u001b[0m\u001b[1;33m(\u001b[0m\u001b[1;36m0\u001b[0m\u001b[1;33m,\u001b[0m \u001b[0mn\u001b[0m\u001b[1;33m,\u001b[0m \u001b[1;36m1\u001b[0m\u001b[1;33m)\u001b[0m\u001b[1;33m,\u001b[0m \u001b[0mm\u001b[0m\u001b[1;33m)\u001b[0m\u001b[1;33m\u001b[0m\u001b[0m\n",
      "\u001b[1;31mAttributeError\u001b[0m: 'numpy.ndarray' object has no attribute 'values'"
     ]
    }
   ],
   "source": [
    "hopkins(YearClusterDataNSo2_norm)"
   ]
  },
  {
   "cell_type": "code",
   "execution_count": 26,
   "metadata": {},
   "outputs": [
    {
     "data": {
      "image/png": "[encoded data removed]",
      "text/plain": [
       "<Figure size 432x288 with 1 Axes>"
      ]
     },
     "metadata": {},
     "output_type": "display_data"
    }
   ],
   "source": [
    "# heirarchical clustering\n",
    "mergings = linkage(YearClusterDataNSo2_norm, method = \"single\", metric='euclidean')\n",
    "dendrogram(mergings)\n",
    "plt.show()"
   ]
  },
  {
   "cell_type": "code",
   "execution_count": 27,
   "metadata": {},
   "outputs": [
    {
     "data": {
      "image/png": "[encoded data removed]",
      "text/plain": [
       "<Figure size 432x288 with 1 Axes>"
      ]
     },
     "metadata": {},
     "output_type": "display_data"
    }
   ],
   "source": [
    "# heirarchical clustering\n",
    "mergings = linkage(YearClusterDataNSo2_norm, method = \"complete\", metric='euclidean')\n",
    "dendrogram(mergings)\n",
    "plt.show()"
   ]
  },
  {
   "cell_type": "code",
   "execution_count": 29,
   "metadata": {},
   "outputs": [
    {
     "data": {
      "text/html": [
       "<div>\n",
       "<style scoped>\n",
       "    .dataframe tbody tr th:only-of-type {\n",
       "        vertical-align: middle;\n",
       "    }\n",
       "\n",
       "    .dataframe tbody tr th {\n",
       "        vertical-align: top;\n",
       "    }\n",
       "\n",
       "    .dataframe thead th {\n",
       "        text-align: right;\n",
       "    }\n",
       "</style>\n",
       "<table border=\"1\" class=\"dataframe\">\n",
       "  <thead>\n",
       "    <tr style=\"text-align: right;\">\n",
       "      <th></th>\n",
       "      <th>rec_id</th>\n",
       "      <th>NO2_Median</th>\n",
       "      <th>NO2_P10</th>\n",
       "      <th>NO2_P90</th>\n",
       "      <th>SO2_Median</th>\n",
       "      <th>SO2_P10</th>\n",
       "      <th>SO2_P90</th>\n",
       "    </tr>\n",
       "  </thead>\n",
       "  <tbody>\n",
       "    <tr>\n",
       "      <th>0</th>\n",
       "      <td>0</td>\n",
       "      <td>12.0</td>\n",
       "      <td>10.4</td>\n",
       "      <td>14.4</td>\n",
       "      <td>11.0</td>\n",
       "      <td>7.8</td>\n",
       "      <td>12.6</td>\n",
       "    </tr>\n",
       "    <tr>\n",
       "      <th>1</th>\n",
       "      <td>1</td>\n",
       "      <td>11.0</td>\n",
       "      <td>10.2</td>\n",
       "      <td>11.8</td>\n",
       "      <td>9.0</td>\n",
       "      <td>8.2</td>\n",
       "      <td>9.8</td>\n",
       "    </tr>\n",
       "    <tr>\n",
       "      <th>2</th>\n",
       "      <td>2</td>\n",
       "      <td>10.0</td>\n",
       "      <td>10.0</td>\n",
       "      <td>10.0</td>\n",
       "      <td>9.0</td>\n",
       "      <td>9.0</td>\n",
       "      <td>9.0</td>\n",
       "    </tr>\n",
       "    <tr>\n",
       "      <th>3</th>\n",
       "      <td>3</td>\n",
       "      <td>14.0</td>\n",
       "      <td>12.6</td>\n",
       "      <td>15.0</td>\n",
       "      <td>12.0</td>\n",
       "      <td>11.6</td>\n",
       "      <td>13.0</td>\n",
       "    </tr>\n",
       "    <tr>\n",
       "      <th>4</th>\n",
       "      <td>4</td>\n",
       "      <td>14.0</td>\n",
       "      <td>11.0</td>\n",
       "      <td>14.6</td>\n",
       "      <td>12.0</td>\n",
       "      <td>9.6</td>\n",
       "      <td>13.0</td>\n",
       "    </tr>\n",
       "  </tbody>\n",
       "</table>\n",
       "</div>"
      ],
      "text/plain": [
       "   rec_id  NO2_Median  NO2_P10  NO2_P90  SO2_Median  SO2_P10  SO2_P90\n",
       "0       0        12.0     10.4     14.4        11.0      7.8     12.6\n",
       "1       1        11.0     10.2     11.8         9.0      8.2      9.8\n",
       "2       2        10.0     10.0     10.0         9.0      9.0      9.0\n",
       "3       3        14.0     12.6     15.0        12.0     11.6     13.0\n",
       "4       4        14.0     11.0     14.6        12.0      9.6     13.0"
      ]
     },
     "execution_count": 29,
     "metadata": {},
     "output_type": "execute_result"
    }
   ],
   "source": [
    "YearClusterDataNSo2_ori.head()"
   ]
  },
  {
   "cell_type": "code",
   "execution_count": 65,
   "metadata": {},
   "outputs": [],
   "source": [
    "clusterCut = pd.Series(cut_tree(mergings, n_clusters = 4).reshape(-1,))\n",
    "YearClusterDataNSo2_OriClus = pd.concat([YearClusterDataNSo2_ori, clusterCut], axis=1)"
   ]
  },
  {
   "cell_type": "code",
   "execution_count": 66,
   "metadata": {},
   "outputs": [
    {
     "data": {
      "text/plain": [
       "Index([    'rec_id', 'NO2_Median',    'NO2_P10',    'NO2_P90', 'SO2_Median',\n",
       "          'SO2_P10',    'SO2_P90',            0],\n",
       "      dtype='object')"
      ]
     },
     "execution_count": 66,
     "metadata": {},
     "output_type": "execute_result"
    }
   ],
   "source": [
    "YearClusterDataNSo2_OriClus.columns"
   ]
  },
  {
   "cell_type": "code",
   "execution_count": 67,
   "metadata": {},
   "outputs": [],
   "source": [
    "YearClusterDataNSo2_OriClus.columns=[ 'rec_id',  'NO2_Median',     'NO2_P10',\n",
    "           'NO2_P90',  'SO2_Median',     'SO2_P10',     'SO2_P90',    'ClusterId']"
   ]
  },
  {
   "cell_type": "code",
   "execution_count": 68,
   "metadata": {},
   "outputs": [
    {
     "data": {
      "text/html": [
       "<div>\n",
       "<style scoped>\n",
       "    .dataframe tbody tr th:only-of-type {\n",
       "        vertical-align: middle;\n",
       "    }\n",
       "\n",
       "    .dataframe tbody tr th {\n",
       "        vertical-align: top;\n",
       "    }\n",
       "\n",
       "    .dataframe thead th {\n",
       "        text-align: right;\n",
       "    }\n",
       "</style>\n",
       "<table border=\"1\" class=\"dataframe\">\n",
       "  <thead>\n",
       "    <tr style=\"text-align: right;\">\n",
       "      <th></th>\n",
       "      <th>rec_id</th>\n",
       "      <th>NO2_Median</th>\n",
       "      <th>NO2_P10</th>\n",
       "      <th>NO2_P90</th>\n",
       "      <th>SO2_Median</th>\n",
       "      <th>SO2_P10</th>\n",
       "      <th>SO2_P90</th>\n",
       "      <th>ClusterId</th>\n",
       "    </tr>\n",
       "  </thead>\n",
       "  <tbody>\n",
       "    <tr>\n",
       "      <th>0</th>\n",
       "      <td>0.0</td>\n",
       "      <td>12.0</td>\n",
       "      <td>10.4</td>\n",
       "      <td>14.4</td>\n",
       "      <td>11.0</td>\n",
       "      <td>7.8</td>\n",
       "      <td>12.6</td>\n",
       "      <td>0.0</td>\n",
       "    </tr>\n",
       "    <tr>\n",
       "      <th>1</th>\n",
       "      <td>1.0</td>\n",
       "      <td>11.0</td>\n",
       "      <td>10.2</td>\n",
       "      <td>11.8</td>\n",
       "      <td>9.0</td>\n",
       "      <td>8.2</td>\n",
       "      <td>9.8</td>\n",
       "      <td>0.0</td>\n",
       "    </tr>\n",
       "    <tr>\n",
       "      <th>2</th>\n",
       "      <td>2.0</td>\n",
       "      <td>10.0</td>\n",
       "      <td>10.0</td>\n",
       "      <td>10.0</td>\n",
       "      <td>9.0</td>\n",
       "      <td>9.0</td>\n",
       "      <td>9.0</td>\n",
       "      <td>0.0</td>\n",
       "    </tr>\n",
       "    <tr>\n",
       "      <th>3</th>\n",
       "      <td>3.0</td>\n",
       "      <td>14.0</td>\n",
       "      <td>12.6</td>\n",
       "      <td>15.0</td>\n",
       "      <td>12.0</td>\n",
       "      <td>11.6</td>\n",
       "      <td>13.0</td>\n",
       "      <td>0.0</td>\n",
       "    </tr>\n",
       "    <tr>\n",
       "      <th>4</th>\n",
       "      <td>4.0</td>\n",
       "      <td>14.0</td>\n",
       "      <td>11.0</td>\n",
       "      <td>14.6</td>\n",
       "      <td>12.0</td>\n",
       "      <td>9.6</td>\n",
       "      <td>13.0</td>\n",
       "      <td>0.0</td>\n",
       "    </tr>\n",
       "  </tbody>\n",
       "</table>\n",
       "</div>"
      ],
      "text/plain": [
       "   rec_id  NO2_Median  NO2_P10  NO2_P90  SO2_Median  SO2_P10  SO2_P90  \\\n",
       "0     0.0        12.0     10.4     14.4        11.0      7.8     12.6   \n",
       "1     1.0        11.0     10.2     11.8         9.0      8.2      9.8   \n",
       "2     2.0        10.0     10.0     10.0         9.0      9.0      9.0   \n",
       "3     3.0        14.0     12.6     15.0        12.0     11.6     13.0   \n",
       "4     4.0        14.0     11.0     14.6        12.0      9.6     13.0   \n",
       "\n",
       "   ClusterId  \n",
       "0        0.0  \n",
       "1        0.0  \n",
       "2        0.0  \n",
       "3        0.0  \n",
       "4        0.0  "
      ]
     },
     "execution_count": 68,
     "metadata": {},
     "output_type": "execute_result"
    }
   ],
   "source": [
    "YearClusterDataNSo2_OriClus.head()"
   ]
  },
  {
   "cell_type": "code",
   "execution_count": 69,
   "metadata": {},
   "outputs": [],
   "source": [
    "clusters_NO2_Median = \tpd.DataFrame(YearClusterDataNSo2_OriClus.groupby([\"ClusterId\"]).NO2_Median.mean())\n",
    "clusters_NO2_P10 = \tpd.DataFrame(YearClusterDataNSo2_OriClus.groupby([\"ClusterId\"]).NO2_P10.mean())\n",
    "clusters_NO2_P90 = \tpd.DataFrame(YearClusterDataNSo2_OriClus.groupby([\"ClusterId\"]).NO2_P90.mean())\n",
    "clusters_SO2_Median = \tpd.DataFrame(YearClusterDataNSo2_OriClus.groupby([\"ClusterId\"]).SO2_Median.mean())\n",
    "clusters_SO2_P10 = \tpd.DataFrame(YearClusterDataNSo2_OriClus.groupby([\"ClusterId\"]).SO2_P10.mean())\n",
    "clusters_SO2_P90 = \tpd.DataFrame(YearClusterDataNSo2_OriClus.groupby([\"ClusterId\"]).SO2_P90.mean())"
   ]
  },
  {
   "cell_type": "code",
   "execution_count": 71,
   "metadata": {},
   "outputs": [
    {
     "data": {
      "text/html": [
       "<div>\n",
       "<style scoped>\n",
       "    .dataframe tbody tr th:only-of-type {\n",
       "        vertical-align: middle;\n",
       "    }\n",
       "\n",
       "    .dataframe tbody tr th {\n",
       "        vertical-align: top;\n",
       "    }\n",
       "\n",
       "    .dataframe thead th {\n",
       "        text-align: right;\n",
       "    }\n",
       "</style>\n",
       "<table border=\"1\" class=\"dataframe\">\n",
       "  <thead>\n",
       "    <tr style=\"text-align: right;\">\n",
       "      <th></th>\n",
       "      <th>ClusterID</th>\n",
       "      <th>clusters_NO2_Median</th>\n",
       "      <th>clusters_NO2_P10</th>\n",
       "      <th>clusters_NO2_P90</th>\n",
       "      <th>clusters_SO2_Median</th>\n",
       "      <th>clusters_SO2_P10</th>\n",
       "      <th>clusters_SO2_P90</th>\n",
       "    </tr>\n",
       "  </thead>\n",
       "  <tbody>\n",
       "    <tr>\n",
       "      <th>0</th>\n",
       "      <td>0</td>\n",
       "      <td>24.690627</td>\n",
       "      <td>19.555168</td>\n",
       "      <td>31.540514</td>\n",
       "      <td>15.616845</td>\n",
       "      <td>13.003909</td>\n",
       "      <td>19.124973</td>\n",
       "    </tr>\n",
       "    <tr>\n",
       "      <th>1</th>\n",
       "      <td>1</td>\n",
       "      <td>41.021001</td>\n",
       "      <td>34.144723</td>\n",
       "      <td>49.281153</td>\n",
       "      <td>20.909361</td>\n",
       "      <td>17.028311</td>\n",
       "      <td>26.265031</td>\n",
       "    </tr>\n",
       "    <tr>\n",
       "      <th>2</th>\n",
       "      <td>2</td>\n",
       "      <td>45.506325</td>\n",
       "      <td>38.311446</td>\n",
       "      <td>52.263373</td>\n",
       "      <td>31.684639</td>\n",
       "      <td>27.167229</td>\n",
       "      <td>36.303614</td>\n",
       "    </tr>\n",
       "    <tr>\n",
       "      <th>3</th>\n",
       "      <td>3</td>\n",
       "      <td>40.017708</td>\n",
       "      <td>36.870694</td>\n",
       "      <td>43.911528</td>\n",
       "      <td>31.336111</td>\n",
       "      <td>29.127222</td>\n",
       "      <td>33.980347</td>\n",
       "    </tr>\n",
       "  </tbody>\n",
       "</table>\n",
       "</div>"
      ],
      "text/plain": [
       "   ClusterID  clusters_NO2_Median  clusters_NO2_P10  clusters_NO2_P90  \\\n",
       "0          0            24.690627         19.555168         31.540514   \n",
       "1          1            41.021001         34.144723         49.281153   \n",
       "2          2            45.506325         38.311446         52.263373   \n",
       "3          3            40.017708         36.870694         43.911528   \n",
       "\n",
       "   clusters_SO2_Median  clusters_SO2_P10  clusters_SO2_P90  \n",
       "0            15.616845         13.003909         19.124973  \n",
       "1            20.909361         17.028311         26.265031  \n",
       "2            31.684639         27.167229         36.303614  \n",
       "3            31.336111         29.127222         33.980347  "
      ]
     },
     "execution_count": 71,
     "metadata": {},
     "output_type": "execute_result"
    }
   ],
   "source": [
    "df = pd.concat([pd.Series([0,1,2,3]), clusters_NO2_Median, clusters_NO2_P10, clusters_NO2_P90,clusters_SO2_Median,clusters_SO2_P10,clusters_SO2_P90], axis=1)\n",
    "df.columns = [\"ClusterID\", \"clusters_NO2_Median\", \"clusters_NO2_P10\", \"clusters_NO2_P90\",\"clusters_SO2_Median\",\"clusters_SO2_P10\",\"clusters_SO2_P90\"]\n",
    "df.head()"
   ]
  },
  {
   "cell_type": "code",
   "execution_count": 72,
   "metadata": {},
   "outputs": [
    {
     "data": {
      "text/plain": [
       "<matplotlib.axes._subplots.AxesSubplot at 0x20da80749b0>"
      ]
     },
     "execution_count": 72,
     "metadata": {},
     "output_type": "execute_result"
    },
    {
     "data": {
      "image/png": "[encoded data removed]",
      "text/plain": [
       "<Figure size 432x288 with 1 Axes>"
      ]
     },
     "metadata": {},
     "output_type": "display_data"
    }
   ],
   "source": [
    "#plotting barplot\n",
    "sns.barplot(x=df.ClusterID, y=df.clusters_NO2_Median)"
   ]
  },
  {
   "cell_type": "code",
   "execution_count": 73,
   "metadata": {},
   "outputs": [
    {
     "data": {
      "text/plain": [
       "<matplotlib.axes._subplots.AxesSubplot at 0x20da9b234a8>"
      ]
     },
     "execution_count": 73,
     "metadata": {},
     "output_type": "execute_result"
    },
    {
     "data": {
      "image/png": "[encoded data removed]",
      "text/plain": [
       "<Figure size 432x288 with 1 Axes>"
      ]
     },
     "metadata": {},
     "output_type": "display_data"
    }
   ],
   "source": [
    "#plotting barplot\n",
    "sns.barplot(x=df.ClusterID, y=df.clusters_NO2_P10)"
   ]
  },
  {
   "cell_type": "code",
   "execution_count": 74,
   "metadata": {},
   "outputs": [
    {
     "data": {
      "text/plain": [
       "<matplotlib.axes._subplots.AxesSubplot at 0x20da7ff9198>"
      ]
     },
     "execution_count": 74,
     "metadata": {},
     "output_type": "execute_result"
    },
    {
     "data": {
      "image/png": "[encoded data removed]",
      "text/plain": [
       "<Figure size 432x288 with 1 Axes>"
      ]
     },
     "metadata": {},
     "output_type": "display_data"
    }
   ],
   "source": [
    "#plotting barplot\n",
    "sns.barplot(x=df.ClusterID, y=df.clusters_NO2_P90)"
   ]
  },
  {
   "cell_type": "code",
   "execution_count": 75,
   "metadata": {},
   "outputs": [
    {
     "data": {
      "text/plain": [
       "Index(['ClusterID', 'clusters_NO2_Median', 'clusters_NO2_P10',\n",
       "       'clusters_NO2_P90', 'clusters_SO2_Median', 'clusters_SO2_P10',\n",
       "       'clusters_SO2_P90'],\n",
       "      dtype='object')"
      ]
     },
     "execution_count": 75,
     "metadata": {},
     "output_type": "execute_result"
    }
   ],
   "source": [
    "df.columns"
   ]
  },
  {
   "cell_type": "code",
   "execution_count": 77,
   "metadata": {},
   "outputs": [
    {
     "data": {
      "text/plain": [
       "<matplotlib.axes._subplots.AxesSubplot at 0x20da3c6b208>"
      ]
     },
     "execution_count": 77,
     "metadata": {},
     "output_type": "execute_result"
    },
    {
     "data": {
      "image/png": "[encoded data removed]",
      "text/plain": [
       "<Figure size 432x288 with 1 Axes>"
      ]
     },
     "metadata": {},
     "output_type": "display_data"
    }
   ],
   "source": [
    "#plotting barplot\n",
    "sns.barplot(x=df.ClusterID, y=df.clusters_SO2_P10)"
   ]
  },
  {
   "cell_type": "code",
   "execution_count": 78,
   "metadata": {},
   "outputs": [
    {
     "data": {
      "text/plain": [
       "<matplotlib.axes._subplots.AxesSubplot at 0x20da68c8cc0>"
      ]
     },
     "execution_count": 78,
     "metadata": {},
     "output_type": "execute_result"
    },
    {
     "data": {
      "image/png": "[encoded data removed]",
      "text/plain": [
       "<Figure size 432x288 with 1 Axes>"
      ]
     },
     "metadata": {},
     "output_type": "display_data"
    }
   ],
   "source": [
    "#plotting barplot\n",
    "sns.barplot(x=df.ClusterID, y=df.clusters_SO2_Median)"
   ]
  },
  {
   "cell_type": "code",
   "execution_count": 79,
   "metadata": {},
   "outputs": [
    {
     "data": {
      "text/plain": [
       "<matplotlib.axes._subplots.AxesSubplot at 0x20da9fbff28>"
      ]
     },
     "execution_count": 79,
     "metadata": {},
     "output_type": "execute_result"
    },
    {
     "data": {
      "image/png": "[encoded data removed]",
      "text/plain": [
       "<Figure size 432x288 with 1 Axes>"
      ]
     },
     "metadata": {},
     "output_type": "display_data"
    }
   ],
   "source": [
    "#plotting barplot\n",
    "sns.barplot(x=df.ClusterID, y=df.clusters_SO2_P90)"
   ]
  },
  {
   "cell_type": "code",
   "execution_count": 80,
   "metadata": {},
   "outputs": [
    {
     "data": {
      "text/html": [
       "<div>\n",
       "<style scoped>\n",
       "    .dataframe tbody tr th:only-of-type {\n",
       "        vertical-align: middle;\n",
       "    }\n",
       "\n",
       "    .dataframe tbody tr th {\n",
       "        vertical-align: top;\n",
       "    }\n",
       "\n",
       "    .dataframe thead th {\n",
       "        text-align: right;\n",
       "    }\n",
       "</style>\n",
       "<table border=\"1\" class=\"dataframe\">\n",
       "  <thead>\n",
       "    <tr style=\"text-align: right;\">\n",
       "      <th></th>\n",
       "      <th>ClusterID</th>\n",
       "      <th>clusters_NO2_Median</th>\n",
       "      <th>clusters_NO2_P10</th>\n",
       "      <th>clusters_NO2_P90</th>\n",
       "      <th>clusters_SO2_Median</th>\n",
       "      <th>clusters_SO2_P10</th>\n",
       "      <th>clusters_SO2_P90</th>\n",
       "    </tr>\n",
       "  </thead>\n",
       "  <tbody>\n",
       "    <tr>\n",
       "      <th>0</th>\n",
       "      <td>0</td>\n",
       "      <td>24.690627</td>\n",
       "      <td>19.555168</td>\n",
       "      <td>31.540514</td>\n",
       "      <td>15.616845</td>\n",
       "      <td>13.003909</td>\n",
       "      <td>19.124973</td>\n",
       "    </tr>\n",
       "  </tbody>\n",
       "</table>\n",
       "</div>"
      ],
      "text/plain": [
       "   ClusterID  clusters_NO2_Median  clusters_NO2_P10  clusters_NO2_P90  \\\n",
       "0          0            24.690627         19.555168         31.540514   \n",
       "\n",
       "   clusters_SO2_Median  clusters_SO2_P10  clusters_SO2_P90  \n",
       "0            15.616845         13.003909         19.124973  "
      ]
     },
     "execution_count": 80,
     "metadata": {},
     "output_type": "execute_result"
    }
   ],
   "source": [
    "df[df.ClusterID==0]"
   ]
  },
  {
   "cell_type": "code",
   "execution_count": 100,
   "metadata": {},
   "outputs": [
    {
     "name": "stdout",
     "output_type": "stream",
     "text": [
      "             variables     values\n",
      "0            ClusterID   0.000000\n",
      "1  clusters_NO2_Median  24.690627\n",
      "2     clusters_NO2_P10  19.555168\n",
      "3     clusters_NO2_P90  31.540514\n",
      "4  clusters_SO2_Median  15.616845\n",
      "5     clusters_SO2_P10  13.003909\n",
      "6     clusters_SO2_P90  19.124973\n",
      "             variables     values\n",
      "0            ClusterID   1.000000\n",
      "1  clusters_NO2_Median  41.021001\n",
      "2     clusters_NO2_P10  34.144723\n",
      "3     clusters_NO2_P90  49.281153\n",
      "4  clusters_SO2_Median  20.909361\n",
      "5     clusters_SO2_P10  17.028311\n",
      "6     clusters_SO2_P90  26.265031\n",
      "             variables     values\n",
      "0            ClusterID   2.000000\n",
      "1  clusters_NO2_Median  45.506325\n",
      "2     clusters_NO2_P10  38.311446\n",
      "3     clusters_NO2_P90  52.263373\n",
      "4  clusters_SO2_Median  31.684639\n",
      "5     clusters_SO2_P10  27.167229\n",
      "6     clusters_SO2_P90  36.303614\n",
      "             variables     values\n",
      "0            ClusterID   3.000000\n",
      "1  clusters_NO2_Median  40.017708\n",
      "2     clusters_NO2_P10  36.870694\n",
      "3     clusters_NO2_P90  43.911528\n",
      "4  clusters_SO2_Median  31.336111\n",
      "5     clusters_SO2_P10  29.127222\n",
      "6     clusters_SO2_P90  33.980347\n"
     ]
    },
    {
     "data": {
      "image/png": "[encoded data removed]",
      "text/plain": [
       "<Figure size 1080x360 with 4 Axes>"
      ]
     },
     "metadata": {},
     "output_type": "display_data"
    }
   ],
   "source": [
    "plt.figure(figsize = (15,5))\n",
    "for i in range(0, 4):    \n",
    "    ClusterOne=np.transpose(df[df.ClusterID==i])\n",
    "    ClusterOne.reset_index(inplace=True)\n",
    "    ClusterOne.columns=['variables', 'values']\n",
    "    ClusterOne['values']=ClusterOne['values'].map(float)\n",
    "    print(ClusterOne)\n",
    "    plt.subplot(2, 2, i+1)\n",
    "    t=sns.barplot(x='variables',y='values',data=ClusterOne)\n",
    "    t.set_xticklabels(labels=ClusterOne.variables,rotation=90)"
   ]
  },
  {
   "cell_type": "code",
   "execution_count": 83,
   "metadata": {},
   "outputs": [
    {
     "data": {
      "text/plain": [
       "Index(['rec_id', 'NO2_Median', 'NO2_P10', 'NO2_P90', 'SO2_Median', 'SO2_P10',\n",
       "       'SO2_P90', 'ClusterId'],\n",
       "      dtype='object')"
      ]
     },
     "execution_count": 83,
     "metadata": {},
     "output_type": "execute_result"
    }
   ],
   "source": [
    "YearClusterDataNSo2_OriClus.columns"
   ]
  },
  {
   "cell_type": "code",
   "execution_count": 84,
   "metadata": {},
   "outputs": [],
   "source": [
    "woyCluster=YearClusterDataNSo2_OriClus[['rec_id','ClusterId']]"
   ]
  },
  {
   "cell_type": "code",
   "execution_count": 85,
   "metadata": {},
   "outputs": [],
   "source": [
    "Base_polpop_iell_csrf_ClusWoYear=Base_polpop_iell_csrf.merge(woyCluster,how='left', suffixes=('_data', '_cluster'),left_on=['rec_id'], right_on=['rec_id'])"
   ]
  },
  {
   "cell_type": "code",
   "execution_count": 86,
   "metadata": {},
   "outputs": [
    {
     "data": {
      "text/plain": [
       "Index(['Unnamed: 0', 'City_poll', 'Type_of_Location', 'year_number',\n",
       "       'month_number', 'NO2_Median', 'RSPM_PM10_Median', 'SO2_Median',\n",
       "       'SPM_Median', 'Median_SO2_MOM_diff',\n",
       "       ...\n",
       "       'Main_District_Highway_per', 'Other_district_Rural_Roads_per',\n",
       "       'indus_by_overall', 'indus_by_forest', 'indus_by_nonforest', 'rec_id',\n",
       "       'RainPerArea', 'CarSalesPerArea', 'RainPerCarSales', 'ClusterId'],\n",
       "      dtype='object', length=107)"
      ]
     },
     "execution_count": 86,
     "metadata": {},
     "output_type": "execute_result"
    }
   ],
   "source": [
    "Base_polpop_iell_csrf_ClusWoYear.columns"
   ]
  },
  {
   "cell_type": "code",
   "execution_count": 94,
   "metadata": {},
   "outputs": [],
   "source": [
    "Base_ClusWoYear=Base_polpop_iell_csrf_ClusWoYear[['City_poll','Type_of_Location', 'ClusterId','year_number','month_number']]"
   ]
  },
  {
   "cell_type": "code",
   "execution_count": 95,
   "metadata": {},
   "outputs": [
    {
     "data": {
      "text/html": [
       "<div>\n",
       "<style scoped>\n",
       "    .dataframe tbody tr th:only-of-type {\n",
       "        vertical-align: middle;\n",
       "    }\n",
       "\n",
       "    .dataframe tbody tr th {\n",
       "        vertical-align: top;\n",
       "    }\n",
       "\n",
       "    .dataframe thead th {\n",
       "        text-align: right;\n",
       "    }\n",
       "</style>\n",
       "<table border=\"1\" class=\"dataframe\">\n",
       "  <thead>\n",
       "    <tr style=\"text-align: right;\">\n",
       "      <th></th>\n",
       "      <th>City_poll</th>\n",
       "      <th>Type_of_Location</th>\n",
       "      <th>ClusterId</th>\n",
       "      <th>year_number</th>\n",
       "      <th>month_number</th>\n",
       "    </tr>\n",
       "  </thead>\n",
       "  <tbody>\n",
       "    <tr>\n",
       "      <th>0</th>\n",
       "      <td>AKOLA</td>\n",
       "      <td>Industrial</td>\n",
       "      <td>0.0</td>\n",
       "      <td>2011</td>\n",
       "      <td>1.0</td>\n",
       "    </tr>\n",
       "    <tr>\n",
       "      <th>1</th>\n",
       "      <td>AKOLA</td>\n",
       "      <td>Industrial</td>\n",
       "      <td>0.0</td>\n",
       "      <td>2011</td>\n",
       "      <td>2.0</td>\n",
       "    </tr>\n",
       "    <tr>\n",
       "      <th>2</th>\n",
       "      <td>AKOLA</td>\n",
       "      <td>Industrial</td>\n",
       "      <td>0.0</td>\n",
       "      <td>2011</td>\n",
       "      <td>3.0</td>\n",
       "    </tr>\n",
       "    <tr>\n",
       "      <th>3</th>\n",
       "      <td>AKOLA</td>\n",
       "      <td>Industrial</td>\n",
       "      <td>0.0</td>\n",
       "      <td>2011</td>\n",
       "      <td>4.0</td>\n",
       "    </tr>\n",
       "    <tr>\n",
       "      <th>4</th>\n",
       "      <td>AKOLA</td>\n",
       "      <td>Industrial</td>\n",
       "      <td>0.0</td>\n",
       "      <td>2011</td>\n",
       "      <td>5.0</td>\n",
       "    </tr>\n",
       "  </tbody>\n",
       "</table>\n",
       "</div>"
      ],
      "text/plain": [
       "  City_poll Type_of_Location  ClusterId  year_number  month_number\n",
       "0     AKOLA       Industrial        0.0         2011           1.0\n",
       "1     AKOLA       Industrial        0.0         2011           2.0\n",
       "2     AKOLA       Industrial        0.0         2011           3.0\n",
       "3     AKOLA       Industrial        0.0         2011           4.0\n",
       "4     AKOLA       Industrial        0.0         2011           5.0"
      ]
     },
     "execution_count": 95,
     "metadata": {},
     "output_type": "execute_result"
    }
   ],
   "source": [
    "Base_ClusWoYear.head()"
   ]
  },
  {
   "cell_type": "code",
   "execution_count": 96,
   "metadata": {},
   "outputs": [],
   "source": [
    "Base_ClusWoYear=Base_ClusWoYear.sort_values(by=['City_poll', 'year_number','month_number'])"
   ]
  },
  {
   "cell_type": "code",
   "execution_count": 97,
   "metadata": {},
   "outputs": [
    {
     "data": {
      "text/plain": [
       "(5715, 5)"
      ]
     },
     "execution_count": 97,
     "metadata": {},
     "output_type": "execute_result"
    }
   ],
   "source": [
    "Base_ClusWoYear.shape"
   ]
  },
  {
   "cell_type": "code",
   "execution_count": 98,
   "metadata": {},
   "outputs": [
    {
     "data": {
      "text/html": [
       "<div>\n",
       "<style scoped>\n",
       "    .dataframe tbody tr th:only-of-type {\n",
       "        vertical-align: middle;\n",
       "    }\n",
       "\n",
       "    .dataframe tbody tr th {\n",
       "        vertical-align: top;\n",
       "    }\n",
       "\n",
       "    .dataframe thead th {\n",
       "        text-align: right;\n",
       "    }\n",
       "</style>\n",
       "<table border=\"1\" class=\"dataframe\">\n",
       "  <thead>\n",
       "    <tr style=\"text-align: right;\">\n",
       "      <th></th>\n",
       "      <th>City_poll</th>\n",
       "      <th>Type_of_Location</th>\n",
       "      <th>ClusterId</th>\n",
       "      <th>year_number</th>\n",
       "      <th>month_number</th>\n",
       "    </tr>\n",
       "  </thead>\n",
       "  <tbody>\n",
       "    <tr>\n",
       "      <th>0</th>\n",
       "      <td>AKOLA</td>\n",
       "      <td>Industrial</td>\n",
       "      <td>0.0</td>\n",
       "      <td>2011</td>\n",
       "      <td>1.0</td>\n",
       "    </tr>\n",
       "    <tr>\n",
       "      <th>12</th>\n",
       "      <td>AKOLA</td>\n",
       "      <td>Residential</td>\n",
       "      <td>0.0</td>\n",
       "      <td>2011</td>\n",
       "      <td>1.0</td>\n",
       "    </tr>\n",
       "    <tr>\n",
       "      <th>1</th>\n",
       "      <td>AKOLA</td>\n",
       "      <td>Industrial</td>\n",
       "      <td>0.0</td>\n",
       "      <td>2011</td>\n",
       "      <td>2.0</td>\n",
       "    </tr>\n",
       "    <tr>\n",
       "      <th>13</th>\n",
       "      <td>AKOLA</td>\n",
       "      <td>Residential</td>\n",
       "      <td>0.0</td>\n",
       "      <td>2011</td>\n",
       "      <td>2.0</td>\n",
       "    </tr>\n",
       "    <tr>\n",
       "      <th>2</th>\n",
       "      <td>AKOLA</td>\n",
       "      <td>Industrial</td>\n",
       "      <td>0.0</td>\n",
       "      <td>2011</td>\n",
       "      <td>3.0</td>\n",
       "    </tr>\n",
       "  </tbody>\n",
       "</table>\n",
       "</div>"
      ],
      "text/plain": [
       "   City_poll Type_of_Location  ClusterId  year_number  month_number\n",
       "0      AKOLA       Industrial        0.0         2011           1.0\n",
       "12     AKOLA      Residential        0.0         2011           1.0\n",
       "1      AKOLA       Industrial        0.0         2011           2.0\n",
       "13     AKOLA      Residential        0.0         2011           2.0\n",
       "2      AKOLA       Industrial        0.0         2011           3.0"
      ]
     },
     "execution_count": 98,
     "metadata": {},
     "output_type": "execute_result"
    }
   ],
   "source": [
    "Base_ClusWoYear.head()"
   ]
  },
  {
   "cell_type": "code",
   "execution_count": 99,
   "metadata": {},
   "outputs": [],
   "source": [
    "Base_ClusWoYear.to_csv(path_or_buf ='C:\\MS\\EDA\\Base_ClusWoYear_19oct.csv')"
   ]
  },
  {
   "cell_type": "code",
   "execution_count": null,
   "metadata": {},
   "outputs": [],
   "source": []
  },
  {
   "cell_type": "markdown",
   "metadata": {},
   "source": [
    "---- kmeans"
   ]
  },
  {
   "cell_type": "code",
   "execution_count": 59,
   "metadata": {},
   "outputs": [
    {
     "data": {
      "text/plain": [
       "KMeans(algorithm='auto', copy_x=True, init='k-means++', max_iter=50,\n",
       "    n_clusters=7, n_init=10, n_jobs=1, precompute_distances='auto',\n",
       "    random_state=None, tol=0.0001, verbose=0)"
      ]
     },
     "execution_count": 59,
     "metadata": {},
     "output_type": "execute_result"
    }
   ],
   "source": [
    "# Kmeans with K=5\n",
    "model_clus5 = KMeans(n_clusters = 7, max_iter=50)\n",
    "model_clus5.fit(YearClusterDataNSo2_norm)"
   ]
  },
  {
   "cell_type": "markdown",
   "metadata": {},
   "source": [
    "## Silhouette Analysis\n",
    "\n",
    "$$\\text{silhouette score}=\\frac{p-q}{max(p,q)}$$\n",
    "\n",
    "$p$ is the mean distance to the points in the nearest cluster that the data point is not a part of\n",
    "\n",
    "$q$ is the mean intra-cluster distance to all the points in its own cluster.\n",
    "\n",
    "* The value of the silhouette score range lies between -1 to 1. \n",
    "\n",
    "* A score closer to 1 indicates that the data point is very similar to other data points in the cluster, \n",
    "\n",
    "* A score closer to -1 indicates that the data point is not similar to the data points in its cluster.m"
   ]
  },
  {
   "cell_type": "code",
   "execution_count": 61,
   "metadata": {},
   "outputs": [],
   "source": [
    "from sklearn.metrics import silhouette_score\n",
    "sse_ = []\n",
    "for k in range(2, 15):\n",
    "    kmeans = KMeans(n_clusters=k).fit(YearClusterDataNSo2_norm)\n",
    "    sse_.append([k, silhouette_score(YearClusterDataNSo2_norm, kmeans.labels_)])"
   ]
  },
  {
   "cell_type": "code",
   "execution_count": 62,
   "metadata": {},
   "outputs": [
    {
     "data": {
      "image/png": "[encoded data removed]",
      "text/plain": [
       "<Figure size 432x288 with 1 Axes>"
      ]
     },
     "metadata": {},
     "output_type": "display_data"
    }
   ],
   "source": [
    "plt.plot(pd.DataFrame(sse_)[0], pd.DataFrame(sse_)[1]);"
   ]
  },
  {
   "cell_type": "markdown",
   "metadata": {},
   "source": [
    "### 4 seems to get a spike"
   ]
  },
  {
   "cell_type": "code",
   "execution_count": 63,
   "metadata": {},
   "outputs": [
    {
     "data": {
      "text/plain": [
       "[<matplotlib.lines.Line2D at 0x20da8482c50>]"
      ]
     },
     "execution_count": 63,
     "metadata": {},
     "output_type": "execute_result"
    },
    {
     "data": {
      "image/png": "[encoded data removed]",
      "text/plain": [
       "<Figure size 432x288 with 1 Axes>"
      ]
     },
     "metadata": {},
     "output_type": "display_data"
    }
   ],
   "source": [
    "# sum of squared distances\n",
    "ssd = []\n",
    "for num_clusters in list(range(1,21)):\n",
    "    model_clus = KMeans(n_clusters = num_clusters, max_iter=50)\n",
    "    model_clus.fit(YearClusterDataNSo2_norm)\n",
    "    ssd.append(model_clus.inertia_)\n",
    "\n",
    "plt.plot(ssd)"
   ]
  },
  {
   "cell_type": "markdown",
   "metadata": {},
   "source": [
    "#### 5 is at a lower end may be four truely is better"
   ]
  },
  {
   "cell_type": "code",
   "execution_count": null,
   "metadata": {},
   "outputs": [],
   "source": []
  },
  {
   "cell_type": "code",
   "execution_count": null,
   "metadata": {},
   "outputs": [],
   "source": []
  }
 ],
 "metadata": {
  "kernelspec": {
   "display_name": "Python 3",
   "language": "python",
   "name": "python3"
  },
  "language_info": {
   "codemirror_mode": {
    "name": "ipython",
    "version": 3
   },
   "file_extension": ".py",
   "mimetype": "text/x-python",
   "name": "python",
   "nbconvert_exporter": "python",
   "pygments_lexer": "ipython3",
   "version": "3.6.5"
  }
 },
 "nbformat": 4,
 "nbformat_minor": 2
}
