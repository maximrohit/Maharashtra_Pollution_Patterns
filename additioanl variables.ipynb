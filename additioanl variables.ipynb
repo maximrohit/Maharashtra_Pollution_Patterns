{
 "cells": [
  {
   "cell_type": "code",
   "execution_count": 1,
   "metadata": {},
   "outputs": [],
   "source": [
    "# Supress Warnings\n",
    "import warnings\n",
    "warnings.filterwarnings('ignore')\n",
    "import numpy as np\n",
    "import pandas as pd\n",
    "import matplotlib.pyplot as plt\n",
    "import seaborn as sns"
   ]
  },
  {
   "cell_type": "code",
   "execution_count": 2,
   "metadata": {},
   "outputs": [],
   "source": [
    "Base_polpop_iell_csrf=pd.read_csv('C:\\MS\\EDA\\Base_polpop_iell_csrf_16oct.csv')"
   ]
  },
  {
   "cell_type": "code",
   "execution_count": 3,
   "metadata": {},
   "outputs": [
    {
     "data": {
      "text/plain": [
       "Index(['Unnamed: 0', 'Unnamed: 0.1', 'Unnamed: 0.1.1',\n",
       "       'City_Town_Village_Area', 'Type_of_Location', 'TS', 'year_number',\n",
       "       'month_number', 'NO2_Median', 'RSPM_PM10_Median', 'SO2_Median',\n",
       "       'SPM_Median', 'Median_SO2_MOM_diff', 'Median_NO2_MOM_diff',\n",
       "       'Median_RSPM_PM10_MOM_diff', 'Median_SPM_MOM_diff', 'NO2_P10',\n",
       "       'RSPM_PM10_P10', 'SO2_P10', 'SPM_P10', 'P10_NO2_MOM_diff',\n",
       "       'P10_SO2_MOM_diff', 'P10_RSPM_PM10_MOM_diff', 'P10_SPM_MOM_diff',\n",
       "       'NO2_P90', 'RSPM_PM10_P90', 'SO2_P90', 'SPM_P90', 'month_number_diff',\n",
       "       'P90_NO2_MOM_diff', 'P90_SO2_MOM_diff', 'P90_RSPM_PM10_MOM_diff',\n",
       "       'P90_SPM_MOM_diff', 'year_number_diff', 'NO2_Median_YOY_diff',\n",
       "       'SO2_Median_YOY_diff', 'RSPM_PM10_Median_YOY_diff',\n",
       "       'SPM_Median_YOY_diff', 'NO2_P10_YOY_diff', 'SO2_P10_YOY_diff',\n",
       "       'RSPM_PM10_P10_YOY_diff', 'SPM_P10_YOY_diff', 'NO2_P90_YOY_diff',\n",
       "       'SO2_P90_YOY_diff', 'RSPM_PM10_P90_YOY_diff', 'SPM_P90_YOY_diff',\n",
       "       'District_Name', 'Year_ppiellsc', 'Male', 'Female', 'Total',\n",
       "       'Population_Density', 'Sex_Ratio', 'Literacy_Rate', 'City',\n",
       "       'elevation_in_mtrs', 'lowlatitude', 'highlatitude', 'lowlongitude',\n",
       "       'highlongitude', 'forestarea_in_thhector', 'forestarea_in_percentage',\n",
       "       'overall_area_thhector', 'non_forest_area',\n",
       "       'non_forest_area_percentage', 'Non_Agriculturea_Land',\n",
       "       'Non_Agriculturea_Land_percentage', 'Cultivablea_Barrena_land',\n",
       "       'Cultivablea_Barrena_land_percentage', 'National_Highway_km',\n",
       "       'State_Highway_km', 'Main_District_Highway_km',\n",
       "       'Other_district_Rural_Roads_km', 'Length_of_rail_line_km',\n",
       "       'Industrial_Areas_hectare', 'micro_industries_manu',\n",
       "       'small_industries_manu', 'medium_industries_manu',\n",
       "       'large_industries_manu', 'micro_industries_services',\n",
       "       'small_industries_services', 'medium_industries_services',\n",
       "       'large_industries_services', 'micrototal', 'smalltotal', 'mediumtotal',\n",
       "       'largetotal', 'manu_total', 'service_total', 'industrytotal', 'year',\n",
       "       'city', 'count.thousands', 'District', 'Year_rainfall', 'month',\n",
       "       'rainfall'],\n",
       "      dtype='object')"
      ]
     },
     "execution_count": 3,
     "metadata": {},
     "output_type": "execute_result"
    }
   ],
   "source": [
    "Base_polpop_iell_csrf.columns"
   ]
  },
  {
   "cell_type": "code",
   "execution_count": 6,
   "metadata": {},
   "outputs": [],
   "source": [
    "Base_polpop_iell_csrf=Base_polpop_iell_csrf[['City_Town_Village_Area', 'Type_of_Location', 'year_number',\n",
    "       'month_number', 'NO2_Median', 'RSPM_PM10_Median', 'SO2_Median',\n",
    "       'SPM_Median', 'Median_SO2_MOM_diff', 'Median_NO2_MOM_diff',\n",
    "       'Median_RSPM_PM10_MOM_diff', 'Median_SPM_MOM_diff', 'NO2_P10',\n",
    "       'RSPM_PM10_P10', 'SO2_P10', 'SPM_P10', 'P10_NO2_MOM_diff',\n",
    "       'P10_SO2_MOM_diff', 'P10_RSPM_PM10_MOM_diff', 'P10_SPM_MOM_diff',\n",
    "       'NO2_P90', 'RSPM_PM10_P90', 'SO2_P90', 'SPM_P90', 'month_number_diff',\n",
    "       'P90_NO2_MOM_diff', 'P90_SO2_MOM_diff', 'P90_RSPM_PM10_MOM_diff',\n",
    "       'P90_SPM_MOM_diff', 'year_number_diff', 'NO2_Median_YOY_diff',\n",
    "       'SO2_Median_YOY_diff', 'RSPM_PM10_Median_YOY_diff',\n",
    "       'SPM_Median_YOY_diff', 'NO2_P10_YOY_diff', 'SO2_P10_YOY_diff',\n",
    "       'RSPM_PM10_P10_YOY_diff', 'SPM_P10_YOY_diff', 'NO2_P90_YOY_diff',\n",
    "       'SO2_P90_YOY_diff', 'RSPM_PM10_P90_YOY_diff', 'SPM_P90_YOY_diff',\n",
    "       'District_Name', 'Year_ppiellsc', 'Male', 'Female', 'Total',\n",
    "       'Population_Density', 'Sex_Ratio', 'Literacy_Rate', 'City',\n",
    "       'elevation_in_mtrs', 'lowlatitude', 'highlatitude', 'lowlongitude',\n",
    "       'highlongitude', 'forestarea_in_thhector', 'forestarea_in_percentage',\n",
    "       'overall_area_thhector', 'non_forest_area',\n",
    "       'non_forest_area_percentage', 'Non_Agriculturea_Land',\n",
    "       'Non_Agriculturea_Land_percentage', 'Cultivablea_Barrena_land',\n",
    "       'Cultivablea_Barrena_land_percentage', 'National_Highway_km',\n",
    "       'State_Highway_km', 'Main_District_Highway_km',\n",
    "       'Other_district_Rural_Roads_km', 'Length_of_rail_line_km',\n",
    "       'Industrial_Areas_hectare', 'micro_industries_manu',\n",
    "       'small_industries_manu', 'medium_industries_manu',\n",
    "       'large_industries_manu', 'micro_industries_services',\n",
    "       'small_industries_services', 'medium_industries_services',\n",
    "       'large_industries_services', 'micrototal', 'smalltotal', 'mediumtotal',\n",
    "       'largetotal', 'manu_total', 'service_total', 'industrytotal', 'year',\n",
    "       'city', 'count.thousands', 'District', 'Year_rainfall', 'month',\n",
    "       'rainfall']]"
   ]
  },
  {
   "cell_type": "code",
   "execution_count": 7,
   "metadata": {},
   "outputs": [],
   "source": [
    "Base_polpop_iell_csrf.columns=['City_poll', 'Type_of_Location',  'year_number',\n",
    "       'month_number', 'NO2_Median', 'RSPM_PM10_Median', 'SO2_Median',\n",
    "       'SPM_Median', 'Median_SO2_MOM_diff', 'Median_NO2_MOM_diff',\n",
    "       'Median_RSPM_PM10_MOM_diff', 'Median_SPM_MOM_diff', 'NO2_P10',\n",
    "       'RSPM_PM10_P10', 'SO2_P10', 'SPM_P10', 'P10_NO2_MOM_diff',\n",
    "       'P10_SO2_MOM_diff', 'P10_RSPM_PM10_MOM_diff', 'P10_SPM_MOM_diff',\n",
    "       'NO2_P90', 'RSPM_PM10_P90', 'SO2_P90', 'SPM_P90', 'month_number_diff',\n",
    "       'P90_NO2_MOM_diff', 'P90_SO2_MOM_diff', 'P90_RSPM_PM10_MOM_diff',\n",
    "       'P90_SPM_MOM_diff', 'year_number_diff', 'NO2_Median_YOY_diff',\n",
    "       'SO2_Median_YOY_diff', 'RSPM_PM10_Median_YOY_diff',\n",
    "       'SPM_Median_YOY_diff', 'NO2_P10_YOY_diff', 'SO2_P10_YOY_diff',\n",
    "       'RSPM_PM10_P10_YOY_diff', 'SPM_P10_YOY_diff', 'NO2_P90_YOY_diff',\n",
    "       'SO2_P90_YOY_diff', 'RSPM_PM10_P90_YOY_diff', 'SPM_P90_YOY_diff',\n",
    "       'city_pp', 'Year_pp', 'Male', 'Female', 'Total',\n",
    "       'Population_Density', 'Sex_Ratio', 'Literacy_Rate', 'City',\n",
    "       'elevation_in_mtrs', 'lowlatitude', 'highlatitude', 'lowlongitude',\n",
    "       'highlongitude', 'forestarea_in_thhector', 'forestarea_in_percentage',\n",
    "       'overall_area_thhector', 'non_forest_area',\n",
    "       'non_forest_area_percentage', 'Non_Agriculturea_Land',\n",
    "       'Non_Agriculturea_Land_percentage', 'Cultivablea_Barrena_land',\n",
    "       'Cultivablea_Barrena_land_percentage', 'National_Highway_km',\n",
    "       'State_Highway_km', 'Main_District_Highway_km',\n",
    "       'Other_district_Rural_Roads_km', 'Length_of_rail_line_km',\n",
    "       'Industrial_Areas_hectare', 'micro_industries_manu',\n",
    "       'small_industries_manu', 'medium_industries_manu',\n",
    "       'large_industries_manu', 'micro_industries_services',\n",
    "       'small_industries_services', 'medium_industries_services',\n",
    "       'large_industries_services', 'micrototal', 'smalltotal', 'mediumtotal',\n",
    "       'largetotal', 'manu_total', 'service_total', 'industrytotal', 'year_cs',\n",
    "       'city_cs', 'carsales_count_thousands', 'city_rf', 'Year_rf', 'month_rf',\n",
    "       'rainfall']"
   ]
  },
  {
   "cell_type": "code",
   "execution_count": 12,
   "metadata": {},
   "outputs": [
    {
     "data": {
      "text/plain": [
       "(5715, 93)"
      ]
     },
     "execution_count": 12,
     "metadata": {},
     "output_type": "execute_result"
    }
   ],
   "source": [
    "Base_polpop_iell_csrf.shape"
   ]
  },
  {
   "cell_type": "code",
   "execution_count": 11,
   "metadata": {},
   "outputs": [
    {
     "data": {
      "text/plain": [
       "City_poll                                 0\n",
       "Type_of_Location                          0\n",
       "year_number                               0\n",
       "month_number                              0\n",
       "NO2_Median                               38\n",
       "RSPM_PM10_Median                       1738\n",
       "SO2_Median                               38\n",
       "SPM_Median                             2725\n",
       "Median_SO2_MOM_diff                     211\n",
       "Median_NO2_MOM_diff                     212\n",
       "Median_RSPM_PM10_MOM_diff              1821\n",
       "Median_SPM_MOM_diff                    2853\n",
       "NO2_P10                                  38\n",
       "RSPM_PM10_P10                          1738\n",
       "SO2_P10                                  38\n",
       "SPM_P10                                2725\n",
       "P10_NO2_MOM_diff                        212\n",
       "P10_SO2_MOM_diff                        211\n",
       "P10_RSPM_PM10_MOM_diff                 1821\n",
       "P10_SPM_MOM_diff                       2853\n",
       "NO2_P90                                  38\n",
       "RSPM_PM10_P90                          1738\n",
       "SO2_P90                                  38\n",
       "SPM_P90                                2725\n",
       "month_number_diff                        50\n",
       "P90_NO2_MOM_diff                        212\n",
       "P90_SO2_MOM_diff                        211\n",
       "P90_RSPM_PM10_MOM_diff                 1821\n",
       "P90_SPM_MOM_diff                       2853\n",
       "year_number_diff                         50\n",
       "                                       ... \n",
       "Cultivablea_Barrena_land                919\n",
       "Cultivablea_Barrena_land_percentage     919\n",
       "National_Highway_km                     919\n",
       "State_Highway_km                        919\n",
       "Main_District_Highway_km                919\n",
       "Other_district_Rural_Roads_km           919\n",
       "Length_of_rail_line_km                  919\n",
       "Industrial_Areas_hectare                919\n",
       "micro_industries_manu                   919\n",
       "small_industries_manu                   919\n",
       "medium_industries_manu                  919\n",
       "large_industries_manu                   919\n",
       "micro_industries_services               919\n",
       "small_industries_services               919\n",
       "medium_industries_services              919\n",
       "large_industries_services               919\n",
       "micrototal                              919\n",
       "smalltotal                              919\n",
       "mediumtotal                             919\n",
       "largetotal                              919\n",
       "manu_total                              919\n",
       "service_total                           919\n",
       "industrytotal                           919\n",
       "year_cs                                4424\n",
       "city_cs                                4424\n",
       "carsales_count_thousands               4424\n",
       "city_rf                                4251\n",
       "Year_rf                                4251\n",
       "month_rf                               4251\n",
       "rainfall                               4251\n",
       "Length: 93, dtype: int64"
      ]
     },
     "execution_count": 11,
     "metadata": {},
     "output_type": "execute_result"
    }
   ],
   "source": [
    "Base_polpop_iell_csrf.isnull().sum()"
   ]
  },
  {
   "cell_type": "code",
   "execution_count": 13,
   "metadata": {},
   "outputs": [
    {
     "data": {
      "text/plain": [
       "Index(['City_poll', 'Type_of_Location', 'year_number', 'month_number',\n",
       "       'NO2_Median', 'RSPM_PM10_Median', 'SO2_Median', 'SPM_Median',\n",
       "       'Median_SO2_MOM_diff', 'Median_NO2_MOM_diff',\n",
       "       'Median_RSPM_PM10_MOM_diff', 'Median_SPM_MOM_diff', 'NO2_P10',\n",
       "       'RSPM_PM10_P10', 'SO2_P10', 'SPM_P10', 'P10_NO2_MOM_diff',\n",
       "       'P10_SO2_MOM_diff', 'P10_RSPM_PM10_MOM_diff', 'P10_SPM_MOM_diff',\n",
       "       'NO2_P90', 'RSPM_PM10_P90', 'SO2_P90', 'SPM_P90', 'month_number_diff',\n",
       "       'P90_NO2_MOM_diff', 'P90_SO2_MOM_diff', 'P90_RSPM_PM10_MOM_diff',\n",
       "       'P90_SPM_MOM_diff', 'year_number_diff', 'NO2_Median_YOY_diff',\n",
       "       'SO2_Median_YOY_diff', 'RSPM_PM10_Median_YOY_diff',\n",
       "       'SPM_Median_YOY_diff', 'NO2_P10_YOY_diff', 'SO2_P10_YOY_diff',\n",
       "       'RSPM_PM10_P10_YOY_diff', 'SPM_P10_YOY_diff', 'NO2_P90_YOY_diff',\n",
       "       'SO2_P90_YOY_diff', 'RSPM_PM10_P90_YOY_diff', 'SPM_P90_YOY_diff',\n",
       "       'city_pp', 'Year_pp', 'Male', 'Female', 'Total', 'Population_Density',\n",
       "       'Sex_Ratio', 'Literacy_Rate', 'City', 'elevation_in_mtrs',\n",
       "       'lowlatitude', 'highlatitude', 'lowlongitude', 'highlongitude',\n",
       "       'forestarea_in_thhector', 'forestarea_in_percentage',\n",
       "       'overall_area_thhector', 'non_forest_area',\n",
       "       'non_forest_area_percentage', 'Non_Agriculturea_Land',\n",
       "       'Non_Agriculturea_Land_percentage', 'Cultivablea_Barrena_land',\n",
       "       'Cultivablea_Barrena_land_percentage', 'National_Highway_km',\n",
       "       'State_Highway_km', 'Main_District_Highway_km',\n",
       "       'Other_district_Rural_Roads_km', 'Length_of_rail_line_km',\n",
       "       'Industrial_Areas_hectare', 'micro_industries_manu',\n",
       "       'small_industries_manu', 'medium_industries_manu',\n",
       "       'large_industries_manu', 'micro_industries_services',\n",
       "       'small_industries_services', 'medium_industries_services',\n",
       "       'large_industries_services', 'micrototal', 'smalltotal', 'mediumtotal',\n",
       "       'largetotal', 'manu_total', 'service_total', 'industrytotal', 'year_cs',\n",
       "       'city_cs', 'carsales_count_thousands', 'city_rf', 'Year_rf', 'month_rf',\n",
       "       'rainfall'],\n",
       "      dtype='object')"
      ]
     },
     "execution_count": 13,
     "metadata": {},
     "output_type": "execute_result"
    }
   ],
   "source": [
    "Base_polpop_iell_csrf.columns"
   ]
  },
  {
   "cell_type": "code",
   "execution_count": 15,
   "metadata": {},
   "outputs": [],
   "source": [
    " Base_polpop_iell_csrf['total_road']=Base_polpop_iell_csrf.National_Highway_km+Base_polpop_iell_csrf.State_Highway_km+Base_polpop_iell_csrf.Main_District_Highway_km+Base_polpop_iell_csrf.Other_district_Rural_Roads_km"
   ]
  },
  {
   "cell_type": "code",
   "execution_count": 16,
   "metadata": {},
   "outputs": [],
   "source": [
    "Base_polpop_iell_csrf['National_Highway_per']= (Base_polpop_iell_csrf['National_Highway_km']*100)/Base_polpop_iell_csrf['total_road']"
   ]
  },
  {
   "cell_type": "code",
   "execution_count": 17,
   "metadata": {},
   "outputs": [
    {
     "data": {
      "text/plain": [
       "0    4.523529\n",
       "1    4.523529\n",
       "2    4.523529\n",
       "3    4.523529\n",
       "4    4.523529\n",
       "Name: National_Highway_per, dtype: float64"
      ]
     },
     "execution_count": 17,
     "metadata": {},
     "output_type": "execute_result"
    }
   ],
   "source": [
    "Base_polpop_iell_csrf['National_Highway_per'].head()"
   ]
  },
  {
   "cell_type": "code",
   "execution_count": 18,
   "metadata": {},
   "outputs": [
    {
     "data": {
      "text/plain": [
       "0    2831.86\n",
       "1    2831.86\n",
       "2    2831.86\n",
       "3    2831.86\n",
       "4    2831.86\n",
       "Name: total_road, dtype: float64"
      ]
     },
     "execution_count": 18,
     "metadata": {},
     "output_type": "execute_result"
    }
   ],
   "source": [
    " Base_polpop_iell_csrf['total_road'].head()"
   ]
  },
  {
   "cell_type": "code",
   "execution_count": 19,
   "metadata": {},
   "outputs": [],
   "source": [
    "Base_polpop_iell_csrf['State_Highway_per']= (Base_polpop_iell_csrf['State_Highway_km']*100)/Base_polpop_iell_csrf['total_road']"
   ]
  },
  {
   "cell_type": "code",
   "execution_count": 20,
   "metadata": {},
   "outputs": [],
   "source": [
    "Base_polpop_iell_csrf['Main_District_Highway_per']= (Base_polpop_iell_csrf['Main_District_Highway_km']*100)/Base_polpop_iell_csrf['total_road']"
   ]
  },
  {
   "cell_type": "code",
   "execution_count": 21,
   "metadata": {},
   "outputs": [],
   "source": [
    "Base_polpop_iell_csrf['Other_district_Rural_Roads_per']= (Base_polpop_iell_csrf['Other_district_Rural_Roads_km']*100)/Base_polpop_iell_csrf['total_road']"
   ]
  },
  {
   "cell_type": "code",
   "execution_count": 22,
   "metadata": {},
   "outputs": [
    {
     "data": {
      "text/html": [
       "<div>\n",
       "<style scoped>\n",
       "    .dataframe tbody tr th:only-of-type {\n",
       "        vertical-align: middle;\n",
       "    }\n",
       "\n",
       "    .dataframe tbody tr th {\n",
       "        vertical-align: top;\n",
       "    }\n",
       "\n",
       "    .dataframe thead th {\n",
       "        text-align: right;\n",
       "    }\n",
       "</style>\n",
       "<table border=\"1\" class=\"dataframe\">\n",
       "  <thead>\n",
       "    <tr style=\"text-align: right;\">\n",
       "      <th></th>\n",
       "      <th>City_poll</th>\n",
       "      <th>Type_of_Location</th>\n",
       "      <th>year_number</th>\n",
       "      <th>month_number</th>\n",
       "      <th>NO2_Median</th>\n",
       "      <th>RSPM_PM10_Median</th>\n",
       "      <th>SO2_Median</th>\n",
       "      <th>SPM_Median</th>\n",
       "      <th>Median_SO2_MOM_diff</th>\n",
       "      <th>Median_NO2_MOM_diff</th>\n",
       "      <th>...</th>\n",
       "      <th>carsales_count_thousands</th>\n",
       "      <th>city_rf</th>\n",
       "      <th>Year_rf</th>\n",
       "      <th>month_rf</th>\n",
       "      <th>rainfall</th>\n",
       "      <th>total_road</th>\n",
       "      <th>National_Highway_per</th>\n",
       "      <th>State_Highway_per</th>\n",
       "      <th>Main_District_Highway_per</th>\n",
       "      <th>Other_district_Rural_Roads_per</th>\n",
       "    </tr>\n",
       "  </thead>\n",
       "  <tbody>\n",
       "    <tr>\n",
       "      <th>0</th>\n",
       "      <td>AKOLA</td>\n",
       "      <td>Industrial</td>\n",
       "      <td>2011</td>\n",
       "      <td>1.0</td>\n",
       "      <td>12.0</td>\n",
       "      <td>149.0</td>\n",
       "      <td>11.0</td>\n",
       "      <td>NaN</td>\n",
       "      <td>NaN</td>\n",
       "      <td>NaN</td>\n",
       "      <td>...</td>\n",
       "      <td>NaN</td>\n",
       "      <td>NaN</td>\n",
       "      <td>NaN</td>\n",
       "      <td>NaN</td>\n",
       "      <td>NaN</td>\n",
       "      <td>2831.86</td>\n",
       "      <td>4.523529</td>\n",
       "      <td>19.354417</td>\n",
       "      <td>36.394455</td>\n",
       "      <td>39.7276</td>\n",
       "    </tr>\n",
       "    <tr>\n",
       "      <th>1</th>\n",
       "      <td>AKOLA</td>\n",
       "      <td>Industrial</td>\n",
       "      <td>2011</td>\n",
       "      <td>2.0</td>\n",
       "      <td>11.0</td>\n",
       "      <td>143.0</td>\n",
       "      <td>9.0</td>\n",
       "      <td>NaN</td>\n",
       "      <td>-2.0</td>\n",
       "      <td>-1.0</td>\n",
       "      <td>...</td>\n",
       "      <td>NaN</td>\n",
       "      <td>NaN</td>\n",
       "      <td>NaN</td>\n",
       "      <td>NaN</td>\n",
       "      <td>NaN</td>\n",
       "      <td>2831.86</td>\n",
       "      <td>4.523529</td>\n",
       "      <td>19.354417</td>\n",
       "      <td>36.394455</td>\n",
       "      <td>39.7276</td>\n",
       "    </tr>\n",
       "    <tr>\n",
       "      <th>2</th>\n",
       "      <td>AKOLA</td>\n",
       "      <td>Industrial</td>\n",
       "      <td>2011</td>\n",
       "      <td>3.0</td>\n",
       "      <td>10.0</td>\n",
       "      <td>139.0</td>\n",
       "      <td>9.0</td>\n",
       "      <td>NaN</td>\n",
       "      <td>0.0</td>\n",
       "      <td>-1.0</td>\n",
       "      <td>...</td>\n",
       "      <td>NaN</td>\n",
       "      <td>NaN</td>\n",
       "      <td>NaN</td>\n",
       "      <td>NaN</td>\n",
       "      <td>NaN</td>\n",
       "      <td>2831.86</td>\n",
       "      <td>4.523529</td>\n",
       "      <td>19.354417</td>\n",
       "      <td>36.394455</td>\n",
       "      <td>39.7276</td>\n",
       "    </tr>\n",
       "    <tr>\n",
       "      <th>3</th>\n",
       "      <td>AKOLA</td>\n",
       "      <td>Industrial</td>\n",
       "      <td>2011</td>\n",
       "      <td>4.0</td>\n",
       "      <td>14.0</td>\n",
       "      <td>165.0</td>\n",
       "      <td>12.0</td>\n",
       "      <td>NaN</td>\n",
       "      <td>3.0</td>\n",
       "      <td>4.0</td>\n",
       "      <td>...</td>\n",
       "      <td>NaN</td>\n",
       "      <td>NaN</td>\n",
       "      <td>NaN</td>\n",
       "      <td>NaN</td>\n",
       "      <td>NaN</td>\n",
       "      <td>2831.86</td>\n",
       "      <td>4.523529</td>\n",
       "      <td>19.354417</td>\n",
       "      <td>36.394455</td>\n",
       "      <td>39.7276</td>\n",
       "    </tr>\n",
       "    <tr>\n",
       "      <th>4</th>\n",
       "      <td>AKOLA</td>\n",
       "      <td>Industrial</td>\n",
       "      <td>2011</td>\n",
       "      <td>5.0</td>\n",
       "      <td>14.0</td>\n",
       "      <td>148.0</td>\n",
       "      <td>12.0</td>\n",
       "      <td>NaN</td>\n",
       "      <td>0.0</td>\n",
       "      <td>0.0</td>\n",
       "      <td>...</td>\n",
       "      <td>NaN</td>\n",
       "      <td>NaN</td>\n",
       "      <td>NaN</td>\n",
       "      <td>NaN</td>\n",
       "      <td>NaN</td>\n",
       "      <td>2831.86</td>\n",
       "      <td>4.523529</td>\n",
       "      <td>19.354417</td>\n",
       "      <td>36.394455</td>\n",
       "      <td>39.7276</td>\n",
       "    </tr>\n",
       "  </tbody>\n",
       "</table>\n",
       "<p>5 rows × 98 columns</p>\n",
       "</div>"
      ],
      "text/plain": [
       "  City_poll Type_of_Location  year_number  month_number  NO2_Median  \\\n",
       "0     AKOLA       Industrial         2011           1.0        12.0   \n",
       "1     AKOLA       Industrial         2011           2.0        11.0   \n",
       "2     AKOLA       Industrial         2011           3.0        10.0   \n",
       "3     AKOLA       Industrial         2011           4.0        14.0   \n",
       "4     AKOLA       Industrial         2011           5.0        14.0   \n",
       "\n",
       "   RSPM_PM10_Median  SO2_Median  SPM_Median  Median_SO2_MOM_diff  \\\n",
       "0             149.0        11.0         NaN                  NaN   \n",
       "1             143.0         9.0         NaN                 -2.0   \n",
       "2             139.0         9.0         NaN                  0.0   \n",
       "3             165.0        12.0         NaN                  3.0   \n",
       "4             148.0        12.0         NaN                  0.0   \n",
       "\n",
       "   Median_NO2_MOM_diff               ...                \\\n",
       "0                  NaN               ...                 \n",
       "1                 -1.0               ...                 \n",
       "2                 -1.0               ...                 \n",
       "3                  4.0               ...                 \n",
       "4                  0.0               ...                 \n",
       "\n",
       "   carsales_count_thousands  city_rf  Year_rf  month_rf  rainfall  total_road  \\\n",
       "0                       NaN      NaN      NaN       NaN       NaN     2831.86   \n",
       "1                       NaN      NaN      NaN       NaN       NaN     2831.86   \n",
       "2                       NaN      NaN      NaN       NaN       NaN     2831.86   \n",
       "3                       NaN      NaN      NaN       NaN       NaN     2831.86   \n",
       "4                       NaN      NaN      NaN       NaN       NaN     2831.86   \n",
       "\n",
       "   National_Highway_per  State_Highway_per  Main_District_Highway_per  \\\n",
       "0              4.523529          19.354417                  36.394455   \n",
       "1              4.523529          19.354417                  36.394455   \n",
       "2              4.523529          19.354417                  36.394455   \n",
       "3              4.523529          19.354417                  36.394455   \n",
       "4              4.523529          19.354417                  36.394455   \n",
       "\n",
       "   Other_district_Rural_Roads_per  \n",
       "0                         39.7276  \n",
       "1                         39.7276  \n",
       "2                         39.7276  \n",
       "3                         39.7276  \n",
       "4                         39.7276  \n",
       "\n",
       "[5 rows x 98 columns]"
      ]
     },
     "execution_count": 22,
     "metadata": {},
     "output_type": "execute_result"
    }
   ],
   "source": [
    "Base_polpop_iell_csrf.head()"
   ]
  },
  {
   "cell_type": "code",
   "execution_count": 23,
   "metadata": {},
   "outputs": [
    {
     "data": {
      "text/plain": [
       "Index(['City_poll', 'Type_of_Location', 'year_number', 'month_number',\n",
       "       'NO2_Median', 'RSPM_PM10_Median', 'SO2_Median', 'SPM_Median',\n",
       "       'Median_SO2_MOM_diff', 'Median_NO2_MOM_diff',\n",
       "       'Median_RSPM_PM10_MOM_diff', 'Median_SPM_MOM_diff', 'NO2_P10',\n",
       "       'RSPM_PM10_P10', 'SO2_P10', 'SPM_P10', 'P10_NO2_MOM_diff',\n",
       "       'P10_SO2_MOM_diff', 'P10_RSPM_PM10_MOM_diff', 'P10_SPM_MOM_diff',\n",
       "       'NO2_P90', 'RSPM_PM10_P90', 'SO2_P90', 'SPM_P90', 'month_number_diff',\n",
       "       'P90_NO2_MOM_diff', 'P90_SO2_MOM_diff', 'P90_RSPM_PM10_MOM_diff',\n",
       "       'P90_SPM_MOM_diff', 'year_number_diff', 'NO2_Median_YOY_diff',\n",
       "       'SO2_Median_YOY_diff', 'RSPM_PM10_Median_YOY_diff',\n",
       "       'SPM_Median_YOY_diff', 'NO2_P10_YOY_diff', 'SO2_P10_YOY_diff',\n",
       "       'RSPM_PM10_P10_YOY_diff', 'SPM_P10_YOY_diff', 'NO2_P90_YOY_diff',\n",
       "       'SO2_P90_YOY_diff', 'RSPM_PM10_P90_YOY_diff', 'SPM_P90_YOY_diff',\n",
       "       'city_pp', 'Year_pp', 'Male', 'Female', 'Total', 'Population_Density',\n",
       "       'Sex_Ratio', 'Literacy_Rate', 'City', 'elevation_in_mtrs',\n",
       "       'lowlatitude', 'highlatitude', 'lowlongitude', 'highlongitude',\n",
       "       'forestarea_in_thhector', 'forestarea_in_percentage',\n",
       "       'overall_area_thhector', 'non_forest_area',\n",
       "       'non_forest_area_percentage', 'Non_Agriculturea_Land',\n",
       "       'Non_Agriculturea_Land_percentage', 'Cultivablea_Barrena_land',\n",
       "       'Cultivablea_Barrena_land_percentage', 'National_Highway_km',\n",
       "       'State_Highway_km', 'Main_District_Highway_km',\n",
       "       'Other_district_Rural_Roads_km', 'Length_of_rail_line_km',\n",
       "       'Industrial_Areas_hectare', 'micro_industries_manu',\n",
       "       'small_industries_manu', 'medium_industries_manu',\n",
       "       'large_industries_manu', 'micro_industries_services',\n",
       "       'small_industries_services', 'medium_industries_services',\n",
       "       'large_industries_services', 'micrototal', 'smalltotal', 'mediumtotal',\n",
       "       'largetotal', 'manu_total', 'service_total', 'industrytotal', 'year_cs',\n",
       "       'city_cs', 'carsales_count_thousands', 'city_rf', 'Year_rf', 'month_rf',\n",
       "       'rainfall', 'total_road', 'National_Highway_per', 'State_Highway_per',\n",
       "       'Main_District_Highway_per', 'Other_district_Rural_Roads_per'],\n",
       "      dtype='object')"
      ]
     },
     "execution_count": 23,
     "metadata": {},
     "output_type": "execute_result"
    }
   ],
   "source": [
    "Base_polpop_iell_csrf.columns"
   ]
  },
  {
   "cell_type": "code",
   "execution_count": 44,
   "metadata": {},
   "outputs": [
    {
     "data": {
      "text/plain": [
       "'5644.95'"
      ]
     },
     "execution_count": 44,
     "metadata": {},
     "output_type": "execute_result"
    }
   ],
   "source": [
    "'5,644.95'.replace(',', '')"
   ]
  },
  {
   "cell_type": "code",
   "execution_count": 49,
   "metadata": {},
   "outputs": [
    {
     "data": {
      "text/html": [
       "<div>\n",
       "<style scoped>\n",
       "    .dataframe tbody tr th:only-of-type {\n",
       "        vertical-align: middle;\n",
       "    }\n",
       "\n",
       "    .dataframe tbody tr th {\n",
       "        vertical-align: top;\n",
       "    }\n",
       "\n",
       "    .dataframe thead th {\n",
       "        text-align: right;\n",
       "    }\n",
       "</style>\n",
       "<table border=\"1\" class=\"dataframe\">\n",
       "  <thead>\n",
       "    <tr style=\"text-align: right;\">\n",
       "      <th></th>\n",
       "      <th>City_poll</th>\n",
       "      <th>Type_of_Location</th>\n",
       "      <th>year_number</th>\n",
       "      <th>month_number</th>\n",
       "      <th>NO2_Median</th>\n",
       "      <th>RSPM_PM10_Median</th>\n",
       "      <th>SO2_Median</th>\n",
       "      <th>SPM_Median</th>\n",
       "      <th>Median_SO2_MOM_diff</th>\n",
       "      <th>Median_NO2_MOM_diff</th>\n",
       "      <th>...</th>\n",
       "      <th>carsales_count_thousands</th>\n",
       "      <th>city_rf</th>\n",
       "      <th>Year_rf</th>\n",
       "      <th>month_rf</th>\n",
       "      <th>rainfall</th>\n",
       "      <th>total_road</th>\n",
       "      <th>National_Highway_per</th>\n",
       "      <th>State_Highway_per</th>\n",
       "      <th>Main_District_Highway_per</th>\n",
       "      <th>Other_district_Rural_Roads_per</th>\n",
       "    </tr>\n",
       "  </thead>\n",
       "  <tbody>\n",
       "  </tbody>\n",
       "</table>\n",
       "<p>0 rows × 98 columns</p>\n",
       "</div>"
      ],
      "text/plain": [
       "Empty DataFrame\n",
       "Columns: [City_poll, Type_of_Location, year_number, month_number, NO2_Median, RSPM_PM10_Median, SO2_Median, SPM_Median, Median_SO2_MOM_diff, Median_NO2_MOM_diff, Median_RSPM_PM10_MOM_diff, Median_SPM_MOM_diff, NO2_P10, RSPM_PM10_P10, SO2_P10, SPM_P10, P10_NO2_MOM_diff, P10_SO2_MOM_diff, P10_RSPM_PM10_MOM_diff, P10_SPM_MOM_diff, NO2_P90, RSPM_PM10_P90, SO2_P90, SPM_P90, month_number_diff, P90_NO2_MOM_diff, P90_SO2_MOM_diff, P90_RSPM_PM10_MOM_diff, P90_SPM_MOM_diff, year_number_diff, NO2_Median_YOY_diff, SO2_Median_YOY_diff, RSPM_PM10_Median_YOY_diff, SPM_Median_YOY_diff, NO2_P10_YOY_diff, SO2_P10_YOY_diff, RSPM_PM10_P10_YOY_diff, SPM_P10_YOY_diff, NO2_P90_YOY_diff, SO2_P90_YOY_diff, RSPM_PM10_P90_YOY_diff, SPM_P90_YOY_diff, city_pp, Year_pp, Male, Female, Total, Population_Density, Sex_Ratio, Literacy_Rate, City, elevation_in_mtrs, lowlatitude, highlatitude, lowlongitude, highlongitude, forestarea_in_thhector, forestarea_in_percentage, overall_area_thhector, non_forest_area, non_forest_area_percentage, Non_Agriculturea_Land, Non_Agriculturea_Land_percentage, Cultivablea_Barrena_land, Cultivablea_Barrena_land_percentage, National_Highway_km, State_Highway_km, Main_District_Highway_km, Other_district_Rural_Roads_km, Length_of_rail_line_km, Industrial_Areas_hectare, micro_industries_manu, small_industries_manu, medium_industries_manu, large_industries_manu, micro_industries_services, small_industries_services, medium_industries_services, large_industries_services, micrototal, smalltotal, mediumtotal, largetotal, manu_total, service_total, industrytotal, year_cs, city_cs, carsales_count_thousands, city_rf, Year_rf, month_rf, rainfall, total_road, National_Highway_per, State_Highway_per, Main_District_Highway_per, Other_district_Rural_Roads_per]\n",
       "Index: []\n",
       "\n",
       "[0 rows x 98 columns]"
      ]
     },
     "execution_count": 49,
     "metadata": {},
     "output_type": "execute_result"
    }
   ],
   "source": [
    "Base_polpop_iell_csrf[Base_polpop_iell_csrf.Industrial_Areas_hectare=='5,644.95']"
   ]
  },
  {
   "cell_type": "code",
   "execution_count": 47,
   "metadata": {},
   "outputs": [],
   "source": [
    "Base_polpop_iell_csrf['Industrial_Areas_hectare']= Base_polpop_iell_csrf.Industrial_Areas_hectare.str.replace(',', '')"
   ]
  },
  {
   "cell_type": "code",
   "execution_count": 50,
   "metadata": {},
   "outputs": [],
   "source": [
    "Base_polpop_iell_csrf['indus_by_overall']=((Base_polpop_iell_csrf.Industrial_Areas_hectare.map(float)/1000)/Base_polpop_iell_csrf.overall_area_thhector.map(float))"
   ]
  },
  {
   "cell_type": "code",
   "execution_count": 51,
   "metadata": {},
   "outputs": [
    {
     "data": {
      "text/plain": [
       "0    0.002107\n",
       "1    0.002107\n",
       "2    0.002107\n",
       "3    0.002107\n",
       "4    0.002107\n",
       "Name: indus_by_overall, dtype: float64"
      ]
     },
     "execution_count": 51,
     "metadata": {},
     "output_type": "execute_result"
    }
   ],
   "source": [
    "Base_polpop_iell_csrf['indus_by_overall'].head()"
   ]
  },
  {
   "cell_type": "code",
   "execution_count": 52,
   "metadata": {},
   "outputs": [],
   "source": [
    "Base_polpop_iell_csrf['indus_by_forest']=((Base_polpop_iell_csrf.Industrial_Areas_hectare.map(float)/1000)/Base_polpop_iell_csrf.forestarea_in_thhector.map(float))"
   ]
  },
  {
   "cell_type": "code",
   "execution_count": 53,
   "metadata": {},
   "outputs": [],
   "source": [
    "Base_polpop_iell_csrf['indus_by_nonforest']=((Base_polpop_iell_csrf.Industrial_Areas_hectare.map(float)/1000)/Base_polpop_iell_csrf.non_forest_area.map(float))"
   ]
  },
  {
   "cell_type": "code",
   "execution_count": 55,
   "metadata": {},
   "outputs": [
    {
     "data": {
      "text/plain": [
       "RangeIndex(start=0, stop=5715, step=1)"
      ]
     },
     "execution_count": 55,
     "metadata": {},
     "output_type": "execute_result"
    }
   ],
   "source": [
    "Base_polpop_iell_csrf.index"
   ]
  },
  {
   "cell_type": "code",
   "execution_count": 56,
   "metadata": {},
   "outputs": [],
   "source": [
    "Base_polpop_iell_csrf['rec_id']=Base_polpop_iell_csrf.index"
   ]
  },
  {
   "cell_type": "code",
   "execution_count": 62,
   "metadata": {},
   "outputs": [
    {
     "name": "stdout",
     "output_type": "stream",
     "text": [
      "City_poll\n",
      "Type_of_Location\n",
      "year_number\n",
      "month_number\n",
      "NO2_Median\n",
      "RSPM_PM10_Median\n",
      "SO2_Median\n",
      "SPM_Median\n",
      "Median_SO2_MOM_diff\n",
      "Median_NO2_MOM_diff\n",
      "Median_RSPM_PM10_MOM_diff\n",
      "Median_SPM_MOM_diff\n",
      "NO2_P10\n",
      "RSPM_PM10_P10\n",
      "SO2_P10\n",
      "SPM_P10\n",
      "P10_NO2_MOM_diff\n",
      "P10_SO2_MOM_diff\n",
      "P10_RSPM_PM10_MOM_diff\n",
      "P10_SPM_MOM_diff\n",
      "NO2_P90\n",
      "RSPM_PM10_P90\n",
      "SO2_P90\n",
      "SPM_P90\n",
      "month_number_diff\n",
      "P90_NO2_MOM_diff\n",
      "P90_SO2_MOM_diff\n",
      "P90_RSPM_PM10_MOM_diff\n",
      "P90_SPM_MOM_diff\n",
      "year_number_diff\n",
      "NO2_Median_YOY_diff\n",
      "SO2_Median_YOY_diff\n",
      "RSPM_PM10_Median_YOY_diff\n",
      "SPM_Median_YOY_diff\n",
      "NO2_P10_YOY_diff\n",
      "SO2_P10_YOY_diff\n",
      "RSPM_PM10_P10_YOY_diff\n",
      "SPM_P10_YOY_diff\n",
      "NO2_P90_YOY_diff\n",
      "SO2_P90_YOY_diff\n",
      "RSPM_PM10_P90_YOY_diff\n",
      "SPM_P90_YOY_diff\n",
      "city_pp\n",
      "Year_pp\n",
      "Male\n",
      "Female\n",
      "Total\n",
      "Population_Density\n",
      "Sex_Ratio\n",
      "Literacy_Rate\n",
      "City\n",
      "elevation_in_mtrs\n",
      "lowlatitude\n",
      "highlatitude\n",
      "lowlongitude\n",
      "highlongitude\n",
      "forestarea_in_thhector\n",
      "forestarea_in_percentage\n",
      "overall_area_thhector\n",
      "non_forest_area\n",
      "non_forest_area_percentage\n",
      "Non_Agriculturea_Land\n",
      "Non_Agriculturea_Land_percentage\n",
      "Cultivablea_Barrena_land\n",
      "Cultivablea_Barrena_land_percentage\n",
      "National_Highway_km\n",
      "State_Highway_km\n",
      "Main_District_Highway_km\n",
      "Other_district_Rural_Roads_km\n",
      "Length_of_rail_line_km\n",
      "Industrial_Areas_hectare\n",
      "micro_industries_manu\n",
      "small_industries_manu\n",
      "medium_industries_manu\n",
      "large_industries_manu\n",
      "micro_industries_services\n",
      "small_industries_services\n",
      "medium_industries_services\n",
      "large_industries_services\n",
      "micrototal\n",
      "smalltotal\n",
      "mediumtotal\n",
      "largetotal\n",
      "manu_total\n",
      "service_total\n",
      "industrytotal\n",
      "year_cs\n",
      "city_cs\n",
      "carsales_count_thousands\n",
      "city_rf\n",
      "Year_rf\n",
      "month_rf\n",
      "rainfall\n",
      "total_road\n",
      "National_Highway_per\n",
      "State_Highway_per\n",
      "Main_District_Highway_per\n",
      "Other_district_Rural_Roads_per\n",
      "indus_by_overall\n",
      "indus_by_forest\n",
      "indus_by_nonforest\n",
      "rec_id\n"
     ]
    }
   ],
   "source": [
    "for col in Base_polpop_iell_csrf.columns: \n",
    "    print(col)"
   ]
  },
  {
   "cell_type": "code",
   "execution_count": 63,
   "metadata": {},
   "outputs": [],
   "source": [
    "Base_polpop_iell_csrf['RainPerArea']=Base_polpop_iell_csrf.rainfall/Base_polpop_iell_csrf.overall_area_thhector"
   ]
  },
  {
   "cell_type": "code",
   "execution_count": 64,
   "metadata": {},
   "outputs": [],
   "source": [
    "Base_polpop_iell_csrf['CarSalesPerArea']=Base_polpop_iell_csrf.carsales_count_thousands/Base_polpop_iell_csrf.overall_area_thhector"
   ]
  },
  {
   "cell_type": "code",
   "execution_count": 65,
   "metadata": {},
   "outputs": [],
   "source": [
    "Base_polpop_iell_csrf['RainPerCarSales']=Base_polpop_iell_csrf.rainfall/Base_polpop_iell_csrf.carsales_count_thousands"
   ]
  },
  {
   "cell_type": "code",
   "execution_count": 66,
   "metadata": {},
   "outputs": [],
   "source": [
    "Base_polpop_iell_csrf.to_csv(path_or_buf ='C:\\MS\\EDA\\Base_polpop_iell_csrf_17oct.csv')"
   ]
  }
 ],
 "metadata": {
  "kernelspec": {
   "display_name": "Python 3",
   "language": "python",
   "name": "python3"
  },
  "language_info": {
   "codemirror_mode": {
    "name": "ipython",
    "version": 3
   },
   "file_extension": ".py",
   "mimetype": "text/x-python",
   "name": "python",
   "nbconvert_exporter": "python",
   "pygments_lexer": "ipython3",
   "version": "3.6.5"
  }
 },
 "nbformat": 4,
 "nbformat_minor": 2
}
