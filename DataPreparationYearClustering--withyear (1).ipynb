{
 "cells": [
  {
   "cell_type": "code",
   "execution_count": 214,
   "metadata": {},
   "outputs": [],
   "source": [
    "# Supress Warnings\n",
    "import warnings\n",
    "warnings.filterwarnings('ignore')\n",
    "import numpy as np\n",
    "import pandas as pd\n",
    "import matplotlib.pyplot as plt\n",
    "import seaborn as sns"
   ]
  },
  {
   "cell_type": "code",
   "execution_count": 2,
   "metadata": {},
   "outputs": [],
   "source": [
    "# To Scale our data\n",
    "from sklearn.preprocessing import scale\n",
    "\n",
    "# To perform KMeans clustering \n",
    "from sklearn.cluster import KMeans\n",
    "\n",
    "# To perform Hierarchical clustering\n",
    "from scipy.cluster.hierarchy import linkage\n",
    "from scipy.cluster.hierarchy import dendrogram\n",
    "from scipy.cluster.hierarchy import cut_tree"
   ]
  },
  {
   "cell_type": "code",
   "execution_count": 7,
   "metadata": {},
   "outputs": [],
   "source": [
    "Base_polpop_iell_csrf=pd.read_csv('C:\\MS\\EDA\\Base_polpop_iell_csrf_17oct.csv')"
   ]
  },
  {
   "cell_type": "code",
   "execution_count": 4,
   "metadata": {},
   "outputs": [
    {
     "data": {
      "text/plain": [
       "Unnamed: 0                           0\n",
       "City_poll                            0\n",
       "Type_of_Location                     0\n",
       "year_number                          0\n",
       "month_number                         0\n",
       "NO2_Median                          38\n",
       "RSPM_PM10_Median                  1738\n",
       "SO2_Median                          38\n",
       "SPM_Median                        2725\n",
       "Median_SO2_MOM_diff                211\n",
       "Median_NO2_MOM_diff                212\n",
       "Median_RSPM_PM10_MOM_diff         1821\n",
       "Median_SPM_MOM_diff               2853\n",
       "NO2_P10                             38\n",
       "RSPM_PM10_P10                     1738\n",
       "SO2_P10                             38\n",
       "SPM_P10                           2725\n",
       "P10_NO2_MOM_diff                   212\n",
       "P10_SO2_MOM_diff                   211\n",
       "P10_RSPM_PM10_MOM_diff            1821\n",
       "P10_SPM_MOM_diff                  2853\n",
       "NO2_P90                             38\n",
       "RSPM_PM10_P90                     1738\n",
       "SO2_P90                             38\n",
       "SPM_P90                           2725\n",
       "month_number_diff                   50\n",
       "P90_NO2_MOM_diff                   212\n",
       "P90_SO2_MOM_diff                   211\n",
       "P90_RSPM_PM10_MOM_diff            1821\n",
       "P90_SPM_MOM_diff                  2853\n",
       "                                  ... \n",
       "micro_industries_services          919\n",
       "small_industries_services          919\n",
       "medium_industries_services         919\n",
       "large_industries_services          919\n",
       "micrototal                         919\n",
       "smalltotal                         919\n",
       "mediumtotal                        919\n",
       "largetotal                         919\n",
       "manu_total                         919\n",
       "service_total                      919\n",
       "industrytotal                      919\n",
       "year_cs                           4424\n",
       "city_cs                           4424\n",
       "carsales_count_thousands          4424\n",
       "city_rf                           4251\n",
       "Year_rf                           4251\n",
       "month_rf                          4251\n",
       "rainfall                          4251\n",
       "total_road                         919\n",
       "National_Highway_per               919\n",
       "State_Highway_per                  919\n",
       "Main_District_Highway_per          919\n",
       "Other_district_Rural_Roads_per     919\n",
       "indus_by_overall                   919\n",
       "indus_by_forest                    919\n",
       "indus_by_nonforest                 919\n",
       "rec_id                               0\n",
       "RainPerArea                       4251\n",
       "CarSalesPerArea                   4474\n",
       "RainPerCarSales                   5235\n",
       "Length: 106, dtype: int64"
      ]
     },
     "execution_count": 4,
     "metadata": {},
     "output_type": "execute_result"
    }
   ],
   "source": [
    "Base_polpop_iell_csrf.isnull().sum()"
   ]
  },
  {
   "cell_type": "code",
   "execution_count": 8,
   "metadata": {},
   "outputs": [],
   "source": [
    "YearClusterData=Base_polpop_iell_csrf[['year_number','NO2_Median','Median_NO2_MOM_diff','NO2_P10','P10_NO2_MOM_diff','NO2_P90','P90_NO2_MOM_diff','NO2_Median_YOY_diff','NO2_P10_YOY_diff','NO2_P90_YOY_diff','SO2_Median','Median_SO2_MOM_diff','SO2_P10','P10_SO2_MOM_diff','SO2_P90','P90_SO2_MOM_diff','SO2_Median_YOY_diff','SO2_P10_YOY_diff','SO2_P90_YOY_diff','RSPM_PM10_Median','Median_RSPM_PM10_MOM_diff','RSPM_PM10_P10','P10_RSPM_PM10_MOM_diff','RSPM_PM10_P90','P90_RSPM_PM10_MOM_diff','RSPM_PM10_Median_YOY_diff','RSPM_PM10_P10_YOY_diff','RSPM_PM10_P90_YOY_diff']]"
   ]
  },
  {
   "cell_type": "code",
   "execution_count": 18,
   "metadata": {},
   "outputs": [],
   "source": [
    "YearClusterDataLtd=Base_polpop_iell_csrf[['year_number','NO2_Median','NO2_P10','NO2_P90','SO2_Median','SO2_P10','SO2_P90','RSPM_PM10_Median','RSPM_PM10_P10','RSPM_PM10_P90']]"
   ]
  },
  {
   "cell_type": "code",
   "execution_count": 116,
   "metadata": {},
   "outputs": [],
   "source": [
    "YearClusterDataNSo2=Base_polpop_iell_csrf[['rec_id','year_number','NO2_Median','NO2_P10','NO2_P90','SO2_Median','SO2_P10','SO2_P90']]"
   ]
  },
  {
   "cell_type": "code",
   "execution_count": 117,
   "metadata": {},
   "outputs": [
    {
     "data": {
      "text/plain": [
       "1987"
      ]
     },
     "execution_count": 117,
     "metadata": {},
     "output_type": "execute_result"
    }
   ],
   "source": [
    "min(YearClusterDataNSo2.year_number)"
   ]
  },
  {
   "cell_type": "code",
   "execution_count": 118,
   "metadata": {},
   "outputs": [],
   "source": [
    "YearClusterDataNSo2.year_number=YearClusterDataNSo2.year_number-1986"
   ]
  },
  {
   "cell_type": "code",
   "execution_count": 119,
   "metadata": {},
   "outputs": [
    {
     "data": {
      "text/plain": [
       "(5715, 10)"
      ]
     },
     "execution_count": 119,
     "metadata": {},
     "output_type": "execute_result"
    }
   ],
   "source": [
    "YearClusterDataLtd.shape"
   ]
  },
  {
   "cell_type": "code",
   "execution_count": 120,
   "metadata": {},
   "outputs": [
    {
     "data": {
      "text/plain": [
       "rec_id         False\n",
       "year_number    False\n",
       "NO2_Median      True\n",
       "NO2_P10         True\n",
       "NO2_P90         True\n",
       "SO2_Median      True\n",
       "SO2_P10         True\n",
       "SO2_P90         True\n",
       "dtype: bool"
      ]
     },
     "execution_count": 120,
     "metadata": {},
     "output_type": "execute_result"
    }
   ],
   "source": [
    "YearClusterDataNSo2.isnull().any(axis=0) "
   ]
  },
  {
   "cell_type": "code",
   "execution_count": 101,
   "metadata": {},
   "outputs": [
    {
     "data": {
      "text/plain": [
       "rec_id          0\n",
       "year_number     0\n",
       "NO2_Median     38\n",
       "NO2_P10        38\n",
       "NO2_P90        38\n",
       "SO2_Median     38\n",
       "SO2_P10        38\n",
       "SO2_P90        38\n",
       "dtype: int64"
      ]
     },
     "execution_count": 101,
     "metadata": {},
     "output_type": "execute_result"
    }
   ],
   "source": [
    "YearClusterDataNSo2.isnull().sum()"
   ]
  },
  {
   "cell_type": "code",
   "execution_count": 121,
   "metadata": {},
   "outputs": [],
   "source": [
    "YearClusterDataNSo2.dropna(inplace=True)"
   ]
  },
  {
   "cell_type": "code",
   "execution_count": 122,
   "metadata": {},
   "outputs": [],
   "source": [
    "YearClusterDataNSo2_ori=YearClusterDataNSo2"
   ]
  },
  {
   "cell_type": "code",
   "execution_count": 123,
   "metadata": {},
   "outputs": [],
   "source": [
    "YearClusterDataNSo2=YearClusterDataNSo2[['year_number','NO2_Median','NO2_P10','NO2_P90','SO2_Median','SO2_P10','SO2_P90']]"
   ]
  },
  {
   "cell_type": "code",
   "execution_count": 124,
   "metadata": {},
   "outputs": [
    {
     "data": {
      "text/plain": [
       "year_number    0\n",
       "NO2_Median     0\n",
       "NO2_P10        0\n",
       "NO2_P90        0\n",
       "SO2_Median     0\n",
       "SO2_P10        0\n",
       "SO2_P90        0\n",
       "dtype: int64"
      ]
     },
     "execution_count": 124,
     "metadata": {},
     "output_type": "execute_result"
    }
   ],
   "source": [
    "YearClusterDataNSo2.isnull().sum()"
   ]
  },
  {
   "cell_type": "code",
   "execution_count": 128,
   "metadata": {},
   "outputs": [
    {
     "ename": "AttributeError",
     "evalue": "'DataFrame' object has no attribute 'RSPM_PM10_Median'",
     "output_type": "error",
     "traceback": [
      "\u001b[1;31m---------------------------------------------------------------------------\u001b[0m",
      "\u001b[1;31mAttributeError\u001b[0m                            Traceback (most recent call last)",
      "\u001b[1;32m<ipython-input-128-c0c307eacc3d>\u001b[0m in \u001b[0;36m<module>\u001b[1;34m()\u001b[0m\n\u001b[1;32m----> 1\u001b[1;33m \u001b[0mYearClusterDataNSo2\u001b[0m\u001b[1;33m.\u001b[0m\u001b[0mloc\u001b[0m\u001b[1;33m[\u001b[0m\u001b[0mYearClusterDataNSo2\u001b[0m\u001b[1;33m.\u001b[0m\u001b[0mRSPM_PM10_Median\u001b[0m\u001b[1;33m.\u001b[0m\u001b[0misnull\u001b[0m\u001b[1;33m(\u001b[0m\u001b[1;33m)\u001b[0m\u001b[1;33m,\u001b[0m\u001b[1;33m[\u001b[0m\u001b[1;34m'year_number'\u001b[0m\u001b[1;33m]\u001b[0m\u001b[1;33m]\u001b[0m\u001b[1;33m.\u001b[0m\u001b[0mmin\u001b[0m\u001b[1;33m(\u001b[0m\u001b[1;33m)\u001b[0m\u001b[1;33m\u001b[0m\u001b[0m\n\u001b[0m",
      "\u001b[1;32mC:\\ProgramData\\Anaconda3\\lib\\site-packages\\pandas\\core\\generic.py\u001b[0m in \u001b[0;36m__getattr__\u001b[1;34m(self, name)\u001b[0m\n\u001b[0;32m   4370\u001b[0m             \u001b[1;32mif\u001b[0m \u001b[0mself\u001b[0m\u001b[1;33m.\u001b[0m\u001b[0m_info_axis\u001b[0m\u001b[1;33m.\u001b[0m\u001b[0m_can_hold_identifiers_and_holds_name\u001b[0m\u001b[1;33m(\u001b[0m\u001b[0mname\u001b[0m\u001b[1;33m)\u001b[0m\u001b[1;33m:\u001b[0m\u001b[1;33m\u001b[0m\u001b[0m\n\u001b[0;32m   4371\u001b[0m                 \u001b[1;32mreturn\u001b[0m \u001b[0mself\u001b[0m\u001b[1;33m[\u001b[0m\u001b[0mname\u001b[0m\u001b[1;33m]\u001b[0m\u001b[1;33m\u001b[0m\u001b[0m\n\u001b[1;32m-> 4372\u001b[1;33m             \u001b[1;32mreturn\u001b[0m \u001b[0mobject\u001b[0m\u001b[1;33m.\u001b[0m\u001b[0m__getattribute__\u001b[0m\u001b[1;33m(\u001b[0m\u001b[0mself\u001b[0m\u001b[1;33m,\u001b[0m \u001b[0mname\u001b[0m\u001b[1;33m)\u001b[0m\u001b[1;33m\u001b[0m\u001b[0m\n\u001b[0m\u001b[0;32m   4373\u001b[0m \u001b[1;33m\u001b[0m\u001b[0m\n\u001b[0;32m   4374\u001b[0m     \u001b[1;32mdef\u001b[0m \u001b[0m__setattr__\u001b[0m\u001b[1;33m(\u001b[0m\u001b[0mself\u001b[0m\u001b[1;33m,\u001b[0m \u001b[0mname\u001b[0m\u001b[1;33m,\u001b[0m \u001b[0mvalue\u001b[0m\u001b[1;33m)\u001b[0m\u001b[1;33m:\u001b[0m\u001b[1;33m\u001b[0m\u001b[0m\n",
      "\u001b[1;31mAttributeError\u001b[0m: 'DataFrame' object has no attribute 'RSPM_PM10_Median'"
     ]
    }
   ],
   "source": [
    "YearClusterDataLtd.loc[YearClusterDataLtd.RSPM_PM10_Median.isnull(),['year_number']].min()"
   ]
  },
  {
   "cell_type": "code",
   "execution_count": 126,
   "metadata": {},
   "outputs": [
    {
     "data": {
      "text/plain": [
       "year_number    20\n",
       "dtype: int64"
      ]
     },
     "execution_count": 126,
     "metadata": {},
     "output_type": "execute_result"
    }
   ],
   "source": [
    "YearClusterDataLtd.loc[YearClusterDataLtd.RSPM_PM10_Median.isnull(),['year_number']].max()"
   ]
  },
  {
   "cell_type": "code",
   "execution_count": 127,
   "metadata": {},
   "outputs": [
    {
     "data": {
      "text/plain": [
       "13    195\n",
       "14    189\n",
       "12    173\n",
       "16    172\n",
       "15    162\n",
       "11    161\n",
       "10    132\n",
       "8      96\n",
       "9      76\n",
       "7      72\n",
       "4      66\n",
       "5      64\n",
       "18     48\n",
       "20     29\n",
       "6      26\n",
       "17     24\n",
       "19     22\n",
       "3      18\n",
       "2       7\n",
       "1       6\n",
       "Name: year_number, dtype: int64"
      ]
     },
     "execution_count": 127,
     "metadata": {},
     "output_type": "execute_result"
    }
   ],
   "source": [
    "YearClusterDataLtd.loc[YearClusterDataLtd.RSPM_PM10_Median.isnull(),'year_number'].value_counts()"
   ]
  },
  {
   "cell_type": "code",
   "execution_count": 130,
   "metadata": {},
   "outputs": [
    {
     "data": {
      "text/plain": [
       "25    489\n",
       "27    443\n",
       "26    440\n",
       "28    432\n",
       "29    423\n",
       "24    384\n",
       "22    300\n",
       "21    300\n",
       "23    276\n",
       "20    267\n",
       "13    195\n",
       "14    189\n",
       "19    178\n",
       "12    173\n",
       "16    172\n",
       "15    162\n",
       "11    161\n",
       "18    144\n",
       "10    132\n",
       "8      96\n",
       "9      76\n",
       "7      72\n",
       "4      66\n",
       "5      64\n",
       "6      26\n",
       "17     24\n",
       "3      18\n",
       "2       7\n",
       "1       6\n",
       "Name: year_number, dtype: int64"
      ]
     },
     "execution_count": 130,
     "metadata": {},
     "output_type": "execute_result"
    }
   ],
   "source": [
    "YearClusterDataLtd['year_number'].value_counts()"
   ]
  },
  {
   "cell_type": "code",
   "execution_count": null,
   "metadata": {},
   "outputs": [],
   "source": []
  },
  {
   "cell_type": "code",
   "execution_count": 131,
   "metadata": {
    "scrolled": true
   },
   "outputs": [
    {
     "name": "stdout",
     "output_type": "stream",
     "text": [
      "year_number                  11.000000\n",
      "NO2_Median                   22.500000\n",
      "Median_NO2_MOM_diff           5.354167\n",
      "NO2_P10                      20.800000\n",
      "P10_NO2_MOM_diff              4.745000\n",
      "NO2_P90                      25.600000\n",
      "P90_NO2_MOM_diff              6.505000\n",
      "NO2_Median_YOY_diff           9.100000\n",
      "NO2_P10_YOY_diff              8.315000\n",
      "NO2_P90_YOY_diff             11.600000\n",
      "SO2_Median                   14.500000\n",
      "Median_SO2_MOM_diff           2.900000\n",
      "SO2_P10                      12.500000\n",
      "P10_SO2_MOM_diff              2.240000\n",
      "SO2_P90                      17.750000\n",
      "P90_SO2_MOM_diff              3.800000\n",
      "SO2_Median_YOY_diff           5.050000\n",
      "SO2_P10_YOY_diff              4.167500\n",
      "SO2_P90_YOY_diff              6.822500\n",
      "RSPM_PM10_Median             53.000000\n",
      "Median_RSPM_PM10_MOM_diff    25.500000\n",
      "RSPM_PM10_P10                37.100000\n",
      "P10_RSPM_PM10_MOM_diff       18.900000\n",
      "RSPM_PM10_P90                68.400000\n",
      "P90_RSPM_PM10_MOM_diff       32.475000\n",
      "RSPM_PM10_Median_YOY_diff    35.127500\n",
      "RSPM_PM10_P10_YOY_diff       27.200000\n",
      "RSPM_PM10_P90_YOY_diff       51.751000\n",
      "dtype: float64\n"
     ]
    },
    {
     "data": {
      "image/png": "[encoded data removed]",
      "text/plain": [
       "<Figure size 432x288 with 1 Axes>"
      ]
     },
     "metadata": {},
     "output_type": "display_data"
    }
   ],
   "source": [
    "# outlier treatment for Amount\n",
    "plt.boxplot(YearClusterDataNSo2.NO2_Median)\n",
    "Q1 = YearClusterData.quantile(0.25)\n",
    "Q3 = YearClusterData.quantile(0.75)\n",
    "IQR = Q3 - Q1\n",
    "print(IQR)\n",
    "#RFM = RFM[(RFM.Amount >= Q1 - 1.5*IQR) & (RFM.Amount <= Q3 + 1.5*IQR)]"
   ]
  },
  {
   "cell_type": "code",
   "execution_count": 132,
   "metadata": {},
   "outputs": [
    {
     "data": {
      "text/plain": [
       "<matplotlib.axes._subplots.AxesSubplot at 0x1d50f4ea780>"
      ]
     },
     "execution_count": 132,
     "metadata": {},
     "output_type": "execute_result"
    },
    {
     "data": {
      "image/png": "[encoded data removed]",
      "text/plain": [
       "<Figure size 432x288 with 1 Axes>"
      ]
     },
     "metadata": {},
     "output_type": "display_data"
    }
   ],
   "source": [
    "sns.boxplot(y=\"NO2_Median\", data=YearClusterDataNSo2)"
   ]
  },
  {
   "cell_type": "code",
   "execution_count": 133,
   "metadata": {},
   "outputs": [],
   "source": [
    "from sklearn.preprocessing import StandardScaler\n",
    "standard_scaler = StandardScaler()\n",
    "YearClusterDataNSo2_norm = standard_scaler.fit_transform(YearClusterDataNSo2)"
   ]
  },
  {
   "cell_type": "code",
   "execution_count": 134,
   "metadata": {},
   "outputs": [],
   "source": [
    "from sklearn.neighbors import NearestNeighbors\n",
    "from random import sample\n",
    "from numpy.random import uniform\n",
    "import numpy as np\n",
    "from math import isnan\n",
    " \n",
    "def hopkins(X):\n",
    "    d = X.shape[1]\n",
    "    #d = len(vars) # columns\n",
    "    n = len(X) # rows\n",
    "    m = int(0.1 * n) \n",
    "    nbrs = NearestNeighbors(n_neighbors=1).fit(X.values)\n",
    " \n",
    "    rand_X = sample(range(0, n, 1), m)\n",
    " \n",
    "    ujd = []\n",
    "    wjd = []\n",
    "    for j in range(0, m):\n",
    "        u_dist, _ = nbrs.kneighbors(uniform(np.amin(X,axis=0),np.amax(X,axis=0),d).reshape(1, -1), 2, return_distance=True)\n",
    "        ujd.append(u_dist[0][1])\n",
    "        w_dist, _ = nbrs.kneighbors(X.iloc[rand_X[j]].values.reshape(1, -1), 2, return_distance=True)\n",
    "        wjd.append(w_dist[0][1])\n",
    " \n",
    "    H = sum(ujd) / (sum(ujd) + sum(wjd))\n",
    "    if isnan(H):\n",
    "        print(ujd, wjd)\n",
    "        H = 0\n",
    " \n",
    "    return H"
   ]
  },
  {
   "cell_type": "code",
   "execution_count": 135,
   "metadata": {},
   "outputs": [
    {
     "ename": "AttributeError",
     "evalue": "'numpy.ndarray' object has no attribute 'values'",
     "output_type": "error",
     "traceback": [
      "\u001b[1;31m---------------------------------------------------------------------------\u001b[0m",
      "\u001b[1;31mAttributeError\u001b[0m                            Traceback (most recent call last)",
      "\u001b[1;32m<ipython-input-135-6931af3f09a4>\u001b[0m in \u001b[0;36m<module>\u001b[1;34m()\u001b[0m\n\u001b[1;32m----> 1\u001b[1;33m \u001b[0mhopkins\u001b[0m\u001b[1;33m(\u001b[0m\u001b[0mYearClusterDataNSo2_norm\u001b[0m\u001b[1;33m)\u001b[0m\u001b[1;33m\u001b[0m\u001b[0m\n\u001b[0m",
      "\u001b[1;32m<ipython-input-134-53981c731d97>\u001b[0m in \u001b[0;36mhopkins\u001b[1;34m(X)\u001b[0m\n\u001b[0;32m     10\u001b[0m     \u001b[0mn\u001b[0m \u001b[1;33m=\u001b[0m \u001b[0mlen\u001b[0m\u001b[1;33m(\u001b[0m\u001b[0mX\u001b[0m\u001b[1;33m)\u001b[0m \u001b[1;31m# rows\u001b[0m\u001b[1;33m\u001b[0m\u001b[0m\n\u001b[0;32m     11\u001b[0m     \u001b[0mm\u001b[0m \u001b[1;33m=\u001b[0m \u001b[0mint\u001b[0m\u001b[1;33m(\u001b[0m\u001b[1;36m0.1\u001b[0m \u001b[1;33m*\u001b[0m \u001b[0mn\u001b[0m\u001b[1;33m)\u001b[0m\u001b[1;33m\u001b[0m\u001b[0m\n\u001b[1;32m---> 12\u001b[1;33m     \u001b[0mnbrs\u001b[0m \u001b[1;33m=\u001b[0m \u001b[0mNearestNeighbors\u001b[0m\u001b[1;33m(\u001b[0m\u001b[0mn_neighbors\u001b[0m\u001b[1;33m=\u001b[0m\u001b[1;36m1\u001b[0m\u001b[1;33m)\u001b[0m\u001b[1;33m.\u001b[0m\u001b[0mfit\u001b[0m\u001b[1;33m(\u001b[0m\u001b[0mX\u001b[0m\u001b[1;33m.\u001b[0m\u001b[0mvalues\u001b[0m\u001b[1;33m)\u001b[0m\u001b[1;33m\u001b[0m\u001b[0m\n\u001b[0m\u001b[0;32m     13\u001b[0m \u001b[1;33m\u001b[0m\u001b[0m\n\u001b[0;32m     14\u001b[0m     \u001b[0mrand_X\u001b[0m \u001b[1;33m=\u001b[0m \u001b[0msample\u001b[0m\u001b[1;33m(\u001b[0m\u001b[0mrange\u001b[0m\u001b[1;33m(\u001b[0m\u001b[1;36m0\u001b[0m\u001b[1;33m,\u001b[0m \u001b[0mn\u001b[0m\u001b[1;33m,\u001b[0m \u001b[1;36m1\u001b[0m\u001b[1;33m)\u001b[0m\u001b[1;33m,\u001b[0m \u001b[0mm\u001b[0m\u001b[1;33m)\u001b[0m\u001b[1;33m\u001b[0m\u001b[0m\n",
      "\u001b[1;31mAttributeError\u001b[0m: 'numpy.ndarray' object has no attribute 'values'"
     ]
    }
   ],
   "source": [
    "hopkins(YearClusterDataNSo2_norm)"
   ]
  },
  {
   "cell_type": "code",
   "execution_count": 136,
   "metadata": {},
   "outputs": [
    {
     "data": {
      "image/png": "[encoded data removed]",
      "text/plain": [
       "<Figure size 432x288 with 1 Axes>"
      ]
     },
     "metadata": {},
     "output_type": "display_data"
    }
   ],
   "source": [
    "# heirarchical clustering\n",
    "mergings = linkage(YearClusterDataNSo2_norm, method = \"single\", metric='euclidean')\n",
    "dendrogram(mergings)\n",
    "plt.show()"
   ]
  },
  {
   "cell_type": "code",
   "execution_count": 137,
   "metadata": {},
   "outputs": [
    {
     "data": {
      "image/png": "[encoded data removed]",
      "text/plain": [
       "<Figure size 432x288 with 1 Axes>"
      ]
     },
     "metadata": {},
     "output_type": "display_data"
    }
   ],
   "source": [
    "# heirarchical clustering\n",
    "mergings = linkage(YearClusterDataNSo2_norm, method = \"complete\", metric='euclidean')\n",
    "dendrogram(mergings)\n",
    "plt.show()"
   ]
  },
  {
   "cell_type": "code",
   "execution_count": 139,
   "metadata": {},
   "outputs": [
    {
     "data": {
      "text/html": [
       "<div>\n",
       "<style scoped>\n",
       "    .dataframe tbody tr th:only-of-type {\n",
       "        vertical-align: middle;\n",
       "    }\n",
       "\n",
       "    .dataframe tbody tr th {\n",
       "        vertical-align: top;\n",
       "    }\n",
       "\n",
       "    .dataframe thead th {\n",
       "        text-align: right;\n",
       "    }\n",
       "</style>\n",
       "<table border=\"1\" class=\"dataframe\">\n",
       "  <thead>\n",
       "    <tr style=\"text-align: right;\">\n",
       "      <th></th>\n",
       "      <th>rec_id</th>\n",
       "      <th>year_number</th>\n",
       "      <th>NO2_Median</th>\n",
       "      <th>NO2_P10</th>\n",
       "      <th>NO2_P90</th>\n",
       "      <th>SO2_Median</th>\n",
       "      <th>SO2_P10</th>\n",
       "      <th>SO2_P90</th>\n",
       "    </tr>\n",
       "  </thead>\n",
       "  <tbody>\n",
       "    <tr>\n",
       "      <th>0</th>\n",
       "      <td>0</td>\n",
       "      <td>25</td>\n",
       "      <td>12.0</td>\n",
       "      <td>10.4</td>\n",
       "      <td>14.4</td>\n",
       "      <td>11.0</td>\n",
       "      <td>7.8</td>\n",
       "      <td>12.6</td>\n",
       "    </tr>\n",
       "    <tr>\n",
       "      <th>1</th>\n",
       "      <td>1</td>\n",
       "      <td>25</td>\n",
       "      <td>11.0</td>\n",
       "      <td>10.2</td>\n",
       "      <td>11.8</td>\n",
       "      <td>9.0</td>\n",
       "      <td>8.2</td>\n",
       "      <td>9.8</td>\n",
       "    </tr>\n",
       "    <tr>\n",
       "      <th>2</th>\n",
       "      <td>2</td>\n",
       "      <td>25</td>\n",
       "      <td>10.0</td>\n",
       "      <td>10.0</td>\n",
       "      <td>10.0</td>\n",
       "      <td>9.0</td>\n",
       "      <td>9.0</td>\n",
       "      <td>9.0</td>\n",
       "    </tr>\n",
       "    <tr>\n",
       "      <th>3</th>\n",
       "      <td>3</td>\n",
       "      <td>25</td>\n",
       "      <td>14.0</td>\n",
       "      <td>12.6</td>\n",
       "      <td>15.0</td>\n",
       "      <td>12.0</td>\n",
       "      <td>11.6</td>\n",
       "      <td>13.0</td>\n",
       "    </tr>\n",
       "    <tr>\n",
       "      <th>4</th>\n",
       "      <td>4</td>\n",
       "      <td>25</td>\n",
       "      <td>14.0</td>\n",
       "      <td>11.0</td>\n",
       "      <td>14.6</td>\n",
       "      <td>12.0</td>\n",
       "      <td>9.6</td>\n",
       "      <td>13.0</td>\n",
       "    </tr>\n",
       "  </tbody>\n",
       "</table>\n",
       "</div>"
      ],
      "text/plain": [
       "   rec_id  year_number  NO2_Median  NO2_P10  NO2_P90  SO2_Median  SO2_P10  \\\n",
       "0       0           25        12.0     10.4     14.4        11.0      7.8   \n",
       "1       1           25        11.0     10.2     11.8         9.0      8.2   \n",
       "2       2           25        10.0     10.0     10.0         9.0      9.0   \n",
       "3       3           25        14.0     12.6     15.0        12.0     11.6   \n",
       "4       4           25        14.0     11.0     14.6        12.0      9.6   \n",
       "\n",
       "   SO2_P90  \n",
       "0     12.6  \n",
       "1      9.8  \n",
       "2      9.0  \n",
       "3     13.0  \n",
       "4     13.0  "
      ]
     },
     "execution_count": 139,
     "metadata": {},
     "output_type": "execute_result"
    }
   ],
   "source": [
    "YearClusterDataNSo2_ori.head()"
   ]
  },
  {
   "cell_type": "code",
   "execution_count": 225,
   "metadata": {},
   "outputs": [],
   "source": [
    "clusterCut = pd.Series(cut_tree(mergings, n_clusters = 4).reshape(-1,))\n",
    "YearClusterDataNSo2_OriClus = pd.concat([YearClusterDataNSo2_ori, clusterCut], axis=1)"
   ]
  },
  {
   "cell_type": "code",
   "execution_count": 226,
   "metadata": {},
   "outputs": [
    {
     "data": {
      "text/plain": [
       "Index([     'rec_id', 'year_number',  'NO2_Median',     'NO2_P10',\n",
       "           'NO2_P90',  'SO2_Median',     'SO2_P10',     'SO2_P90',\n",
       "                   0],\n",
       "      dtype='object')"
      ]
     },
     "execution_count": 226,
     "metadata": {},
     "output_type": "execute_result"
    }
   ],
   "source": [
    "YearClusterDataNSo2_OriClus.columns"
   ]
  },
  {
   "cell_type": "code",
   "execution_count": 227,
   "metadata": {},
   "outputs": [],
   "source": [
    "YearClusterDataNSo2_OriClus.columns=[ 'rec_id', 'year_number',  'NO2_Median',     'NO2_P10',\n",
    "           'NO2_P90',  'SO2_Median',     'SO2_P10',     'SO2_P90',    'ClusterId']"
   ]
  },
  {
   "cell_type": "code",
   "execution_count": 228,
   "metadata": {},
   "outputs": [
    {
     "data": {
      "text/html": [
       "<div>\n",
       "<style scoped>\n",
       "    .dataframe tbody tr th:only-of-type {\n",
       "        vertical-align: middle;\n",
       "    }\n",
       "\n",
       "    .dataframe tbody tr th {\n",
       "        vertical-align: top;\n",
       "    }\n",
       "\n",
       "    .dataframe thead th {\n",
       "        text-align: right;\n",
       "    }\n",
       "</style>\n",
       "<table border=\"1\" class=\"dataframe\">\n",
       "  <thead>\n",
       "    <tr style=\"text-align: right;\">\n",
       "      <th></th>\n",
       "      <th>rec_id</th>\n",
       "      <th>year_number</th>\n",
       "      <th>NO2_Median</th>\n",
       "      <th>NO2_P10</th>\n",
       "      <th>NO2_P90</th>\n",
       "      <th>SO2_Median</th>\n",
       "      <th>SO2_P10</th>\n",
       "      <th>SO2_P90</th>\n",
       "      <th>ClusterId</th>\n",
       "    </tr>\n",
       "  </thead>\n",
       "  <tbody>\n",
       "    <tr>\n",
       "      <th>0</th>\n",
       "      <td>0.0</td>\n",
       "      <td>25.0</td>\n",
       "      <td>12.0</td>\n",
       "      <td>10.4</td>\n",
       "      <td>14.4</td>\n",
       "      <td>11.0</td>\n",
       "      <td>7.8</td>\n",
       "      <td>12.6</td>\n",
       "      <td>0.0</td>\n",
       "    </tr>\n",
       "    <tr>\n",
       "      <th>1</th>\n",
       "      <td>1.0</td>\n",
       "      <td>25.0</td>\n",
       "      <td>11.0</td>\n",
       "      <td>10.2</td>\n",
       "      <td>11.8</td>\n",
       "      <td>9.0</td>\n",
       "      <td>8.2</td>\n",
       "      <td>9.8</td>\n",
       "      <td>0.0</td>\n",
       "    </tr>\n",
       "    <tr>\n",
       "      <th>2</th>\n",
       "      <td>2.0</td>\n",
       "      <td>25.0</td>\n",
       "      <td>10.0</td>\n",
       "      <td>10.0</td>\n",
       "      <td>10.0</td>\n",
       "      <td>9.0</td>\n",
       "      <td>9.0</td>\n",
       "      <td>9.0</td>\n",
       "      <td>0.0</td>\n",
       "    </tr>\n",
       "    <tr>\n",
       "      <th>3</th>\n",
       "      <td>3.0</td>\n",
       "      <td>25.0</td>\n",
       "      <td>14.0</td>\n",
       "      <td>12.6</td>\n",
       "      <td>15.0</td>\n",
       "      <td>12.0</td>\n",
       "      <td>11.6</td>\n",
       "      <td>13.0</td>\n",
       "      <td>0.0</td>\n",
       "    </tr>\n",
       "    <tr>\n",
       "      <th>4</th>\n",
       "      <td>4.0</td>\n",
       "      <td>25.0</td>\n",
       "      <td>14.0</td>\n",
       "      <td>11.0</td>\n",
       "      <td>14.6</td>\n",
       "      <td>12.0</td>\n",
       "      <td>9.6</td>\n",
       "      <td>13.0</td>\n",
       "      <td>0.0</td>\n",
       "    </tr>\n",
       "  </tbody>\n",
       "</table>\n",
       "</div>"
      ],
      "text/plain": [
       "   rec_id  year_number  NO2_Median  NO2_P10  NO2_P90  SO2_Median  SO2_P10  \\\n",
       "0     0.0         25.0        12.0     10.4     14.4        11.0      7.8   \n",
       "1     1.0         25.0        11.0     10.2     11.8         9.0      8.2   \n",
       "2     2.0         25.0        10.0     10.0     10.0         9.0      9.0   \n",
       "3     3.0         25.0        14.0     12.6     15.0        12.0     11.6   \n",
       "4     4.0         25.0        14.0     11.0     14.6        12.0      9.6   \n",
       "\n",
       "   SO2_P90  ClusterId  \n",
       "0     12.6        0.0  \n",
       "1      9.8        0.0  \n",
       "2      9.0        0.0  \n",
       "3     13.0        0.0  \n",
       "4     13.0        0.0  "
      ]
     },
     "execution_count": 228,
     "metadata": {},
     "output_type": "execute_result"
    }
   ],
   "source": [
    "YearClusterDataNSo2_OriClus.head()"
   ]
  },
  {
   "cell_type": "code",
   "execution_count": 229,
   "metadata": {},
   "outputs": [],
   "source": [
    "clusters_NO2_Median = \tpd.DataFrame(YearClusterDataNSo2_OriClus.groupby([\"ClusterId\"]).NO2_Median.mean())\n",
    "clusters_NO2_P10 = \tpd.DataFrame(YearClusterDataNSo2_OriClus.groupby([\"ClusterId\"]).NO2_P10.mean())\n",
    "clusters_NO2_P90 = \tpd.DataFrame(YearClusterDataNSo2_OriClus.groupby([\"ClusterId\"]).NO2_P90.mean())\n",
    "clusters_SO2_Median = \tpd.DataFrame(YearClusterDataNSo2_OriClus.groupby([\"ClusterId\"]).SO2_Median.mean())\n",
    "clusters_SO2_P10 = \tpd.DataFrame(YearClusterDataNSo2_OriClus.groupby([\"ClusterId\"]).SO2_P10.mean())\n",
    "clusters_SO2_P90 = \tpd.DataFrame(YearClusterDataNSo2_OriClus.groupby([\"ClusterId\"]).SO2_P90.mean())\n",
    "clusters_year_number = \tpd.DataFrame(YearClusterDataNSo2_OriClus.groupby([\"ClusterId\"]).year_number.mean())\n",
    "\n"
   ]
  },
  {
   "cell_type": "code",
   "execution_count": 230,
   "metadata": {},
   "outputs": [
    {
     "data": {
      "text/html": [
       "<div>\n",
       "<style scoped>\n",
       "    .dataframe tbody tr th:only-of-type {\n",
       "        vertical-align: middle;\n",
       "    }\n",
       "\n",
       "    .dataframe tbody tr th {\n",
       "        vertical-align: top;\n",
       "    }\n",
       "\n",
       "    .dataframe thead th {\n",
       "        text-align: right;\n",
       "    }\n",
       "</style>\n",
       "<table border=\"1\" class=\"dataframe\">\n",
       "  <thead>\n",
       "    <tr style=\"text-align: right;\">\n",
       "      <th></th>\n",
       "      <th>ClusterID</th>\n",
       "      <th>clusters_NO2_Median</th>\n",
       "      <th>clusters_NO2_P10</th>\n",
       "      <th>clusters_NO2_P90</th>\n",
       "      <th>clusters_SO2_Median</th>\n",
       "      <th>clusters_SO2_P10</th>\n",
       "      <th>clusters_SO2_P90</th>\n",
       "      <th>clusters_year_number</th>\n",
       "    </tr>\n",
       "  </thead>\n",
       "  <tbody>\n",
       "    <tr>\n",
       "      <th>0</th>\n",
       "      <td>0</td>\n",
       "      <td>28.917638</td>\n",
       "      <td>23.450373</td>\n",
       "      <td>35.899026</td>\n",
       "      <td>17.447149</td>\n",
       "      <td>14.460739</td>\n",
       "      <td>21.369117</td>\n",
       "      <td>20.791204</td>\n",
       "    </tr>\n",
       "    <tr>\n",
       "      <th>1</th>\n",
       "      <td>1</td>\n",
       "      <td>40.728069</td>\n",
       "      <td>33.594826</td>\n",
       "      <td>49.909585</td>\n",
       "      <td>17.501444</td>\n",
       "      <td>14.446606</td>\n",
       "      <td>22.450903</td>\n",
       "      <td>21.068592</td>\n",
       "    </tr>\n",
       "    <tr>\n",
       "      <th>2</th>\n",
       "      <td>2</td>\n",
       "      <td>47.138277</td>\n",
       "      <td>39.610508</td>\n",
       "      <td>55.464181</td>\n",
       "      <td>29.582203</td>\n",
       "      <td>24.824379</td>\n",
       "      <td>35.768192</td>\n",
       "      <td>19.793785</td>\n",
       "    </tr>\n",
       "    <tr>\n",
       "      <th>3</th>\n",
       "      <td>3</td>\n",
       "      <td>38.364103</td>\n",
       "      <td>35.645641</td>\n",
       "      <td>41.345641</td>\n",
       "      <td>30.466667</td>\n",
       "      <td>29.117949</td>\n",
       "      <td>32.411282</td>\n",
       "      <td>14.948718</td>\n",
       "    </tr>\n",
       "  </tbody>\n",
       "</table>\n",
       "</div>"
      ],
      "text/plain": [
       "   ClusterID  clusters_NO2_Median  clusters_NO2_P10  clusters_NO2_P90  \\\n",
       "0          0            28.917638         23.450373         35.899026   \n",
       "1          1            40.728069         33.594826         49.909585   \n",
       "2          2            47.138277         39.610508         55.464181   \n",
       "3          3            38.364103         35.645641         41.345641   \n",
       "\n",
       "   clusters_SO2_Median  clusters_SO2_P10  clusters_SO2_P90  \\\n",
       "0            17.447149         14.460739         21.369117   \n",
       "1            17.501444         14.446606         22.450903   \n",
       "2            29.582203         24.824379         35.768192   \n",
       "3            30.466667         29.117949         32.411282   \n",
       "\n",
       "   clusters_year_number  \n",
       "0             20.791204  \n",
       "1             21.068592  \n",
       "2             19.793785  \n",
       "3             14.948718  "
      ]
     },
     "execution_count": 230,
     "metadata": {},
     "output_type": "execute_result"
    }
   ],
   "source": [
    "df = pd.concat([pd.Series([0,1,2,3]), clusters_NO2_Median, clusters_NO2_P10, clusters_NO2_P90,clusters_SO2_Median,clusters_SO2_P10,clusters_SO2_P90,clusters_year_number], axis=1)\n",
    "df.columns = [\"ClusterID\", \"clusters_NO2_Median\", \"clusters_NO2_P10\", \"clusters_NO2_P90\",\"clusters_SO2_Median\",\"clusters_SO2_P10\",\"clusters_SO2_P90\",\"clusters_year_number\"]\n",
    "df.head()"
   ]
  },
  {
   "cell_type": "code",
   "execution_count": 231,
   "metadata": {},
   "outputs": [
    {
     "data": {
      "text/plain": [
       "<matplotlib.axes._subplots.AxesSubplot at 0x1d516a87ac8>"
      ]
     },
     "execution_count": 231,
     "metadata": {},
     "output_type": "execute_result"
    },
    {
     "data": {
      "image/png": "[encoded data removed]",
      "text/plain": [
       "<Figure size 432x288 with 1 Axes>"
      ]
     },
     "metadata": {},
     "output_type": "display_data"
    }
   ],
   "source": [
    "#plotting barplot\n",
    "sns.barplot(x=df.ClusterID, y=df.clusters_NO2_Median)"
   ]
  },
  {
   "cell_type": "code",
   "execution_count": 232,
   "metadata": {},
   "outputs": [
    {
     "data": {
      "text/plain": [
       "<matplotlib.axes._subplots.AxesSubplot at 0x1d514e68358>"
      ]
     },
     "execution_count": 232,
     "metadata": {},
     "output_type": "execute_result"
    },
    {
     "data": {
      "image/png": "[encoded data removed]",
      "text/plain": [
       "<Figure size 432x288 with 1 Axes>"
      ]
     },
     "metadata": {},
     "output_type": "display_data"
    }
   ],
   "source": [
    "#plotting barplot\n",
    "sns.barplot(x=df.ClusterID, y=df.clusters_NO2_P10)"
   ]
  },
  {
   "cell_type": "code",
   "execution_count": 233,
   "metadata": {},
   "outputs": [
    {
     "data": {
      "text/plain": [
       "<matplotlib.axes._subplots.AxesSubplot at 0x1d514e608d0>"
      ]
     },
     "execution_count": 233,
     "metadata": {},
     "output_type": "execute_result"
    },
    {
     "data": {
      "image/png": "[encoded data removed]",
      "text/plain": [
       "<Figure size 432x288 with 1 Axes>"
      ]
     },
     "metadata": {},
     "output_type": "display_data"
    }
   ],
   "source": [
    "#plotting barplot\n",
    "sns.barplot(x=df.ClusterID, y=df.clusters_NO2_P90)"
   ]
  },
  {
   "cell_type": "code",
   "execution_count": 234,
   "metadata": {},
   "outputs": [
    {
     "data": {
      "text/plain": [
       "Index(['ClusterID', 'clusters_NO2_Median', 'clusters_NO2_P10',\n",
       "       'clusters_NO2_P90', 'clusters_SO2_Median', 'clusters_SO2_P10',\n",
       "       'clusters_SO2_P90', 'clusters_year_number'],\n",
       "      dtype='object')"
      ]
     },
     "execution_count": 234,
     "metadata": {},
     "output_type": "execute_result"
    }
   ],
   "source": [
    "df.columns"
   ]
  },
  {
   "cell_type": "code",
   "execution_count": 235,
   "metadata": {},
   "outputs": [
    {
     "data": {
      "text/plain": [
       "<matplotlib.axes._subplots.AxesSubplot at 0x1d51341e4a8>"
      ]
     },
     "execution_count": 235,
     "metadata": {},
     "output_type": "execute_result"
    },
    {
     "data": {
      "image/png": "[encoded data removed]",
      "text/plain": [
       "<Figure size 432x288 with 1 Axes>"
      ]
     },
     "metadata": {},
     "output_type": "display_data"
    }
   ],
   "source": [
    "#plotting barplot\n",
    "sns.barplot(x=df.ClusterID, y=df.clusters_year_number)"
   ]
  },
  {
   "cell_type": "code",
   "execution_count": 236,
   "metadata": {},
   "outputs": [
    {
     "data": {
      "text/plain": [
       "<matplotlib.axes._subplots.AxesSubplot at 0x1d511c5b160>"
      ]
     },
     "execution_count": 236,
     "metadata": {},
     "output_type": "execute_result"
    },
    {
     "data": {
      "image/png": "[encoded data removed]",
      "text/plain": [
       "<Figure size 432x288 with 1 Axes>"
      ]
     },
     "metadata": {},
     "output_type": "display_data"
    }
   ],
   "source": [
    "#plotting barplot\n",
    "sns.barplot(x=df.ClusterID, y=df.clusters_SO2_P10)"
   ]
  },
  {
   "cell_type": "code",
   "execution_count": 237,
   "metadata": {},
   "outputs": [
    {
     "data": {
      "text/plain": [
       "<matplotlib.axes._subplots.AxesSubplot at 0x1d516df5ba8>"
      ]
     },
     "execution_count": 237,
     "metadata": {},
     "output_type": "execute_result"
    },
    {
     "data": {
      "image/png": "[encoded data removed]",
      "text/plain": [
       "<Figure size 432x288 with 1 Axes>"
      ]
     },
     "metadata": {},
     "output_type": "display_data"
    }
   ],
   "source": [
    "#plotting barplot\n",
    "sns.barplot(x=df.ClusterID, y=df.clusters_SO2_Median)"
   ]
  },
  {
   "cell_type": "code",
   "execution_count": 238,
   "metadata": {},
   "outputs": [
    {
     "data": {
      "text/plain": [
       "<matplotlib.axes._subplots.AxesSubplot at 0x1d50fc8af98>"
      ]
     },
     "execution_count": 238,
     "metadata": {},
     "output_type": "execute_result"
    },
    {
     "data": {
      "image/png": "[encoded data removed]",
      "text/plain": [
       "<Figure size 432x288 with 1 Axes>"
      ]
     },
     "metadata": {},
     "output_type": "display_data"
    }
   ],
   "source": [
    "#plotting barplot\n",
    "sns.barplot(x=df.ClusterID, y=df.clusters_SO2_P90)"
   ]
  },
  {
   "cell_type": "code",
   "execution_count": 159,
   "metadata": {},
   "outputs": [
    {
     "data": {
      "text/html": [
       "<div>\n",
       "<style scoped>\n",
       "    .dataframe tbody tr th:only-of-type {\n",
       "        vertical-align: middle;\n",
       "    }\n",
       "\n",
       "    .dataframe tbody tr th {\n",
       "        vertical-align: top;\n",
       "    }\n",
       "\n",
       "    .dataframe thead th {\n",
       "        text-align: right;\n",
       "    }\n",
       "</style>\n",
       "<table border=\"1\" class=\"dataframe\">\n",
       "  <thead>\n",
       "    <tr style=\"text-align: right;\">\n",
       "      <th></th>\n",
       "      <th>ClusterID</th>\n",
       "      <th>clusters_NO2_Median</th>\n",
       "      <th>clusters_NO2_P10</th>\n",
       "      <th>clusters_NO2_P90</th>\n",
       "      <th>clusters_SO2_Median</th>\n",
       "      <th>clusters_SO2_P10</th>\n",
       "      <th>clusters_SO2_P90</th>\n",
       "      <th>clusters_year_number</th>\n",
       "    </tr>\n",
       "  </thead>\n",
       "  <tbody>\n",
       "    <tr>\n",
       "      <th>0</th>\n",
       "      <td>0</td>\n",
       "      <td>27.187339</td>\n",
       "      <td>21.728194</td>\n",
       "      <td>34.271439</td>\n",
       "      <td>15.268426</td>\n",
       "      <td>12.511784</td>\n",
       "      <td>19.039605</td>\n",
       "      <td>21.264467</td>\n",
       "    </tr>\n",
       "  </tbody>\n",
       "</table>\n",
       "</div>"
      ],
      "text/plain": [
       "   ClusterID  clusters_NO2_Median  clusters_NO2_P10  clusters_NO2_P90  \\\n",
       "0          0            27.187339         21.728194         34.271439   \n",
       "\n",
       "   clusters_SO2_Median  clusters_SO2_P10  clusters_SO2_P90  \\\n",
       "0            15.268426         12.511784         19.039605   \n",
       "\n",
       "   clusters_year_number  \n",
       "0             21.264467  "
      ]
     },
     "execution_count": 159,
     "metadata": {},
     "output_type": "execute_result"
    }
   ],
   "source": [
    "df[df.ClusterID==0]"
   ]
  },
  {
   "cell_type": "code",
   "execution_count": 239,
   "metadata": {},
   "outputs": [
    {
     "data": {
      "text/html": [
       "<div>\n",
       "<style scoped>\n",
       "    .dataframe tbody tr th:only-of-type {\n",
       "        vertical-align: middle;\n",
       "    }\n",
       "\n",
       "    .dataframe tbody tr th {\n",
       "        vertical-align: top;\n",
       "    }\n",
       "\n",
       "    .dataframe thead th {\n",
       "        text-align: right;\n",
       "    }\n",
       "</style>\n",
       "<table border=\"1\" class=\"dataframe\">\n",
       "  <thead>\n",
       "    <tr style=\"text-align: right;\">\n",
       "      <th></th>\n",
       "      <th>variables</th>\n",
       "      <th>values</th>\n",
       "      <th>0</th>\n",
       "    </tr>\n",
       "  </thead>\n",
       "  <tbody>\n",
       "    <tr>\n",
       "      <th>0</th>\n",
       "      <td>ClusterID</td>\n",
       "      <td>4.000000</td>\n",
       "      <td>ClusterID</td>\n",
       "    </tr>\n",
       "    <tr>\n",
       "      <th>1</th>\n",
       "      <td>clusters_NO2_Median</td>\n",
       "      <td>38.364103</td>\n",
       "      <td>clusters_NO2_Median</td>\n",
       "    </tr>\n",
       "    <tr>\n",
       "      <th>2</th>\n",
       "      <td>clusters_NO2_P10</td>\n",
       "      <td>35.645641</td>\n",
       "      <td>clusters_NO2_P10</td>\n",
       "    </tr>\n",
       "    <tr>\n",
       "      <th>3</th>\n",
       "      <td>clusters_NO2_P90</td>\n",
       "      <td>41.345641</td>\n",
       "      <td>clusters_NO2_P90</td>\n",
       "    </tr>\n",
       "    <tr>\n",
       "      <th>4</th>\n",
       "      <td>clusters_SO2_Median</td>\n",
       "      <td>30.466667</td>\n",
       "      <td>clusters_SO2_Median</td>\n",
       "    </tr>\n",
       "    <tr>\n",
       "      <th>5</th>\n",
       "      <td>clusters_SO2_P10</td>\n",
       "      <td>29.117949</td>\n",
       "      <td>clusters_SO2_P10</td>\n",
       "    </tr>\n",
       "    <tr>\n",
       "      <th>6</th>\n",
       "      <td>clusters_SO2_P90</td>\n",
       "      <td>32.411282</td>\n",
       "      <td>clusters_SO2_P90</td>\n",
       "    </tr>\n",
       "    <tr>\n",
       "      <th>7</th>\n",
       "      <td>clusters_year_number</td>\n",
       "      <td>14.948718</td>\n",
       "      <td>clusters_year_number</td>\n",
       "    </tr>\n",
       "  </tbody>\n",
       "</table>\n",
       "</div>"
      ],
      "text/plain": [
       "              variables     values                     0\n",
       "0             ClusterID   4.000000             ClusterID\n",
       "1   clusters_NO2_Median  38.364103   clusters_NO2_Median\n",
       "2      clusters_NO2_P10  35.645641      clusters_NO2_P10\n",
       "3      clusters_NO2_P90  41.345641      clusters_NO2_P90\n",
       "4   clusters_SO2_Median  30.466667   clusters_SO2_Median\n",
       "5      clusters_SO2_P10  29.117949      clusters_SO2_P10\n",
       "6      clusters_SO2_P90  32.411282      clusters_SO2_P90\n",
       "7  clusters_year_number  14.948718  clusters_year_number"
      ]
     },
     "execution_count": 239,
     "metadata": {},
     "output_type": "execute_result"
    }
   ],
   "source": [
    "pd.concat([ClusterOne,pd.Series(df.columns)], axis=1)"
   ]
  },
  {
   "cell_type": "code",
   "execution_count": 240,
   "metadata": {},
   "outputs": [
    {
     "data": {
      "image/png": "[encoded data removed]",
      "text/plain": [
       "<Figure size 1080x360 with 4 Axes>"
      ]
     },
     "metadata": {},
     "output_type": "display_data"
    }
   ],
   "source": [
    "plt.figure(figsize = (15,5))\n",
    "for i in range(0, 4):    \n",
    "    ClusterOne=np.transpose(df[df.ClusterID==i])\n",
    "    ClusterOne.reset_index(inplace=True)\n",
    "    ClusterOne.columns=['variables', 'values']\n",
    "    ClusterOne['values']=ClusterOne['values'].map(float)\n",
    "    plt.subplot(2, 2, i+1)\n",
    "    t=sns.barplot(x='variables',y='values',data=ClusterOne)\n",
    "    t.set_xticklabels(labels=ClusterOne.variables,rotation=90)"
   ]
  },
  {
   "cell_type": "code",
   "execution_count": 221,
   "metadata": {},
   "outputs": [
    {
     "data": {
      "text/plain": [
       "KMeans(algorithm='auto', copy_x=True, init='k-means++', max_iter=50,\n",
       "    n_clusters=4, n_init=10, n_jobs=1, precompute_distances='auto',\n",
       "    random_state=None, tol=0.0001, verbose=0)"
      ]
     },
     "execution_count": 221,
     "metadata": {},
     "output_type": "execute_result"
    }
   ],
   "source": [
    "# Kmeans with K=5\n",
    "model_clus5 = KMeans(n_clusters = 4, max_iter=50)\n",
    "model_clus5.fit(YearClusterDataNSo2_norm)"
   ]
  },
  {
   "cell_type": "code",
   "execution_count": 222,
   "metadata": {},
   "outputs": [],
   "source": [
    "from sklearn.metrics import silhouette_score\n",
    "sse_ = []\n",
    "for k in range(2, 15):\n",
    "    kmeans = KMeans(n_clusters=k).fit(YearClusterDataNSo2_norm)\n",
    "    sse_.append([k, silhouette_score(YearClusterDataNSo2_norm, kmeans.labels_)])"
   ]
  },
  {
   "cell_type": "code",
   "execution_count": 223,
   "metadata": {},
   "outputs": [
    {
     "data": {
      "image/png": "[encoded data removed]",
      "text/plain": [
       "<Figure size 432x288 with 1 Axes>"
      ]
     },
     "metadata": {},
     "output_type": "display_data"
    }
   ],
   "source": [
    "plt.plot(pd.DataFrame(sse_)[0], pd.DataFrame(sse_)[1]);"
   ]
  },
  {
   "cell_type": "code",
   "execution_count": 224,
   "metadata": {},
   "outputs": [
    {
     "data": {
      "text/plain": [
       "[<matplotlib.lines.Line2D at 0x1d513347d30>]"
      ]
     },
     "execution_count": 224,
     "metadata": {},
     "output_type": "execute_result"
    },
    {
     "data": {
      "image/png": "[encoded data removed]",
      "text/plain": [
       "<Figure size 432x288 with 1 Axes>"
      ]
     },
     "metadata": {},
     "output_type": "display_data"
    }
   ],
   "source": [
    "# sum of squared distances\n",
    "ssd = []\n",
    "for num_clusters in list(range(1,21)):\n",
    "    model_clus = KMeans(n_clusters = num_clusters, max_iter=50)\n",
    "    model_clus.fit(YearClusterDataNSo2_norm)\n",
    "    ssd.append(model_clus.inertia_)\n",
    "\n",
    "plt.plot(ssd)"
   ]
  },
  {
   "cell_type": "code",
   "execution_count": null,
   "metadata": {},
   "outputs": [],
   "source": []
  }
 ],
 "metadata": {
  "kernelspec": {
   "display_name": "Python 3",
   "language": "python",
   "name": "python3"
  },
  "language_info": {
   "codemirror_mode": {
    "name": "ipython",
    "version": 3
   },
   "file_extension": ".py",
   "mimetype": "text/x-python",
   "name": "python",
   "nbconvert_exporter": "python",
   "pygments_lexer": "ipython3",
   "version": "3.6.5"
  }
 },
 "nbformat": 4,
 "nbformat_minor": 2
}
