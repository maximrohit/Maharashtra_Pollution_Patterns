{
 "cells": [
  {
   "cell_type": "code",
   "execution_count": 1,
   "metadata": {},
   "outputs": [],
   "source": [
    "# Supress Warnings\n",
    "import warnings\n",
    "warnings.filterwarnings('ignore')\n",
    "import numpy as np\n",
    "import pandas as pd\n",
    "import matplotlib.pyplot as plt\n",
    "import seaborn as sns"
   ]
  },
  {
   "cell_type": "code",
   "execution_count": 2,
   "metadata": {},
   "outputs": [],
   "source": [
    "# To Scale our data\n",
    "from sklearn.preprocessing import scale\n",
    "\n",
    "# To perform KMeans clustering \n",
    "from sklearn.cluster import KMeans\n",
    "\n",
    "# To perform Hierarchical clustering\n",
    "from scipy.cluster.hierarchy import linkage\n",
    "from scipy.cluster.hierarchy import dendrogram\n",
    "from scipy.cluster.hierarchy import cut_tree"
   ]
  },
  {
   "cell_type": "code",
   "execution_count": 3,
   "metadata": {},
   "outputs": [],
   "source": [
    "Base_polpop_iell_csrf=pd.read_csv('E:\\MS\\Base_polpop_iell_csrf_17oct.csv')"
   ]
  },
  {
   "cell_type": "code",
   "execution_count": 9,
   "metadata": {},
   "outputs": [
    {
     "name": "stdout",
     "output_type": "stream",
     "text": [
      "Unnamed: 0\n",
      "City_poll\n",
      "Type_of_Location\n",
      "year_number\n",
      "month_number\n",
      "NO2_Median\n",
      "RSPM_PM10_Median\n",
      "SO2_Median\n",
      "SPM_Median\n",
      "Median_SO2_MOM_diff\n",
      "Median_NO2_MOM_diff\n",
      "Median_RSPM_PM10_MOM_diff\n",
      "Median_SPM_MOM_diff\n",
      "NO2_P10\n",
      "RSPM_PM10_P10\n",
      "SO2_P10\n",
      "SPM_P10\n",
      "P10_NO2_MOM_diff\n",
      "P10_SO2_MOM_diff\n",
      "P10_RSPM_PM10_MOM_diff\n",
      "P10_SPM_MOM_diff\n",
      "NO2_P90\n",
      "RSPM_PM10_P90\n",
      "SO2_P90\n",
      "SPM_P90\n",
      "month_number_diff\n",
      "P90_NO2_MOM_diff\n",
      "P90_SO2_MOM_diff\n",
      "P90_RSPM_PM10_MOM_diff\n",
      "P90_SPM_MOM_diff\n",
      "year_number_diff\n",
      "NO2_Median_YOY_diff\n",
      "SO2_Median_YOY_diff\n",
      "RSPM_PM10_Median_YOY_diff\n",
      "SPM_Median_YOY_diff\n",
      "NO2_P10_YOY_diff\n",
      "SO2_P10_YOY_diff\n",
      "RSPM_PM10_P10_YOY_diff\n",
      "SPM_P10_YOY_diff\n",
      "NO2_P90_YOY_diff\n",
      "SO2_P90_YOY_diff\n",
      "RSPM_PM10_P90_YOY_diff\n",
      "SPM_P90_YOY_diff\n",
      "city_pp\n",
      "Year_pp\n",
      "Male\n",
      "Female\n",
      "Total\n",
      "Population_Density\n",
      "Sex_Ratio\n",
      "Literacy_Rate\n",
      "City\n",
      "elevation_in_mtrs\n",
      "lowlatitude\n",
      "highlatitude\n",
      "lowlongitude\n",
      "highlongitude\n",
      "forestarea_in_thhector\n",
      "forestarea_in_percentage\n",
      "overall_area_thhector\n",
      "non_forest_area\n",
      "non_forest_area_percentage\n",
      "Non_Agriculturea_Land\n",
      "Non_Agriculturea_Land_percentage\n",
      "Cultivablea_Barrena_land\n",
      "Cultivablea_Barrena_land_percentage\n",
      "National_Highway_km\n",
      "State_Highway_km\n",
      "Main_District_Highway_km\n",
      "Other_district_Rural_Roads_km\n",
      "Length_of_rail_line_km\n",
      "Industrial_Areas_hectare\n",
      "micro_industries_manu\n",
      "small_industries_manu\n",
      "medium_industries_manu\n",
      "large_industries_manu\n",
      "micro_industries_services\n",
      "small_industries_services\n",
      "medium_industries_services\n",
      "large_industries_services\n",
      "micrototal\n",
      "smalltotal\n",
      "mediumtotal\n",
      "largetotal\n",
      "manu_total\n",
      "service_total\n",
      "industrytotal\n",
      "year_cs\n",
      "city_cs\n",
      "carsales_count_thousands\n",
      "city_rf\n",
      "Year_rf\n",
      "month_rf\n",
      "rainfall\n",
      "total_road\n",
      "National_Highway_per\n",
      "State_Highway_per\n",
      "Main_District_Highway_per\n",
      "Other_district_Rural_Roads_per\n",
      "indus_by_overall\n",
      "indus_by_forest\n",
      "indus_by_nonforest\n",
      "rec_id\n",
      "RainPerArea\n",
      "CarSalesPerArea\n",
      "RainPerCarSales\n"
     ]
    }
   ],
   "source": [
    "for i in Base_polpop_iell_csrf.columns:\n",
    "    print(i)"
   ]
  },
  {
   "cell_type": "code",
   "execution_count": 7,
   "metadata": {},
   "outputs": [
    {
     "data": {
      "text/plain": [
       "Unnamed: 0               0\n",
       "City_poll                0\n",
       "Type_of_Location         0\n",
       "year_number              0\n",
       "month_number             0\n",
       "                      ... \n",
       "indus_by_nonforest     919\n",
       "rec_id                   0\n",
       "RainPerArea           4251\n",
       "CarSalesPerArea       4474\n",
       "RainPerCarSales       5235\n",
       "Length: 106, dtype: int64"
      ]
     },
     "execution_count": 7,
     "metadata": {},
     "output_type": "execute_result"
    }
   ],
   "source": [
    "Base_polpop_iell_csrf.isnull().sum()\n",
    "   "
   ]
  },
  {
   "cell_type": "code",
   "execution_count": 13,
   "metadata": {},
   "outputs": [],
   "source": [
    "YearClusterDataNSo2=Base_polpop_iell_csrf[['rec_id','RSPM_PM10_Median','RSPM_PM10_P10','RSPM_PM10_P90']]"
   ]
  },
  {
   "cell_type": "code",
   "execution_count": 14,
   "metadata": {},
   "outputs": [
    {
     "data": {
      "text/plain": [
       "rec_id              False\n",
       "RSPM_PM10_Median     True\n",
       "RSPM_PM10_P10        True\n",
       "RSPM_PM10_P90        True\n",
       "dtype: bool"
      ]
     },
     "execution_count": 14,
     "metadata": {},
     "output_type": "execute_result"
    }
   ],
   "source": [
    "YearClusterDataNSo2.isnull().any(axis=0) "
   ]
  },
  {
   "cell_type": "code",
   "execution_count": 15,
   "metadata": {},
   "outputs": [
    {
     "data": {
      "text/plain": [
       "rec_id                 0\n",
       "RSPM_PM10_Median    1738\n",
       "RSPM_PM10_P10       1738\n",
       "RSPM_PM10_P90       1738\n",
       "dtype: int64"
      ]
     },
     "execution_count": 15,
     "metadata": {},
     "output_type": "execute_result"
    }
   ],
   "source": [
    "YearClusterDataNSo2.isnull().sum()"
   ]
  },
  {
   "cell_type": "code",
   "execution_count": 16,
   "metadata": {},
   "outputs": [],
   "source": [
    "YearClusterDataNSo2.dropna(inplace=True)"
   ]
  },
  {
   "cell_type": "code",
   "execution_count": 17,
   "metadata": {},
   "outputs": [],
   "source": [
    "YearClusterDataNSo2_ori=YearClusterDataNSo2"
   ]
  },
  {
   "cell_type": "code",
   "execution_count": 18,
   "metadata": {},
   "outputs": [],
   "source": [
    "YearClusterDataNSo2=YearClusterDataNSo2[['RSPM_PM10_Median','RSPM_PM10_P10','RSPM_PM10_P90']]"
   ]
  },
  {
   "cell_type": "code",
   "execution_count": 19,
   "metadata": {},
   "outputs": [
    {
     "data": {
      "text/plain": [
       "RSPM_PM10_Median    0\n",
       "RSPM_PM10_P10       0\n",
       "RSPM_PM10_P90       0\n",
       "dtype: int64"
      ]
     },
     "execution_count": 19,
     "metadata": {},
     "output_type": "execute_result"
    }
   ],
   "source": [
    "YearClusterDataNSo2.isnull().sum()"
   ]
  },
  {
   "cell_type": "code",
   "execution_count": 21,
   "metadata": {},
   "outputs": [
    {
     "data": {
      "text/plain": [
       "<matplotlib.axes._subplots.AxesSubplot at 0x2989c59a0c8>"
      ]
     },
     "execution_count": 21,
     "metadata": {},
     "output_type": "execute_result"
    },
    {
     "data": {
      "image/png": "[encoded data removed]",
      "text/plain": [
       "<Figure size 432x288 with 1 Axes>"
      ]
     },
     "metadata": {
      "needs_background": "light"
     },
     "output_type": "display_data"
    }
   ],
   "source": [
    "sns.boxplot(y=\"RSPM_PM10_Median\", data=YearClusterDataNSo2)"
   ]
  },
  {
   "cell_type": "code",
   "execution_count": 22,
   "metadata": {},
   "outputs": [],
   "source": [
    "from sklearn.preprocessing import StandardScaler\n",
    "standard_scaler = StandardScaler()\n",
    "YearClusterDataNSo2_norm = standard_scaler.fit_transform(YearClusterDataNSo2)"
   ]
  },
  {
   "cell_type": "code",
   "execution_count": 29,
   "metadata": {},
   "outputs": [],
   "source": [
    "from sklearn.neighbors import NearestNeighbors\n",
    "from random import sample\n",
    "from numpy.random import uniform\n",
    "import numpy as np\n",
    "from math import isnan\n",
    " \n",
    "def hopkins(X):\n",
    "    d = X.shape[1]\n",
    "    #d = len(vars) # columns\n",
    "    n = len(X) # rows\n",
    "    m = int(0.1 * n) \n",
    "    nbrs = NearestNeighbors(n_neighbors=1).fit(X)\n",
    " \n",
    "    rand_X = sample(range(0, n, 1), m)\n",
    " \n",
    "    ujd = []\n",
    "    wjd = []\n",
    "    for j in range(0, m):\n",
    "        u_dist, _ = nbrs.kneighbors(uniform(np.amin(X,axis=0),np.amax(X,axis=0),d).reshape(1, -1), 2, return_distance=True)\n",
    "        ujd.append(u_dist[0][1])\n",
    "        w_dist, _ = nbrs.kneighbors(X[rand_X[j]].reshape(1, -1), 2, return_distance=True)\n",
    "        wjd.append(w_dist[0][1])\n",
    " \n",
    "    H = sum(ujd) / (sum(ujd) + sum(wjd))\n",
    "    if isnan(H):\n",
    "        print(ujd, wjd)\n",
    "        H = 0\n",
    " \n",
    "    return H"
   ]
  },
  {
   "cell_type": "code",
   "execution_count": 30,
   "metadata": {},
   "outputs": [
    {
     "data": {
      "text/plain": [
       "0.949758625913875"
      ]
     },
     "execution_count": 30,
     "metadata": {},
     "output_type": "execute_result"
    }
   ],
   "source": [
    "hopkins(YearClusterDataNSo2_norm)"
   ]
  },
  {
   "cell_type": "code",
   "execution_count": 31,
   "metadata": {},
   "outputs": [
    {
     "data": {
      "image/png": "[encoded data removed]",
      "text/plain": [
       "<Figure size 432x288 with 1 Axes>"
      ]
     },
     "metadata": {
      "needs_background": "light"
     },
     "output_type": "display_data"
    }
   ],
   "source": [
    "# heirarchical clustering\n",
    "mergings = linkage(YearClusterDataNSo2_norm, method = \"single\", metric='euclidean')\n",
    "dendrogram(mergings)\n",
    "plt.show()"
   ]
  },
  {
   "cell_type": "code",
   "execution_count": 32,
   "metadata": {},
   "outputs": [
    {
     "data": {
      "image/png": "[encoded data removed]",
      "text/plain": [
       "<Figure size 432x288 with 1 Axes>"
      ]
     },
     "metadata": {
      "needs_background": "light"
     },
     "output_type": "display_data"
    }
   ],
   "source": [
    "# heirarchical clustering\n",
    "mergings = linkage(YearClusterDataNSo2_norm, method = \"complete\", metric='euclidean')\n",
    "dendrogram(mergings)\n",
    "plt.show()"
   ]
  },
  {
   "cell_type": "markdown",
   "metadata": {},
   "source": [
    "#### seems like 2 clusters"
   ]
  },
  {
   "cell_type": "code",
   "execution_count": 33,
   "metadata": {},
   "outputs": [
    {
     "data": {
      "text/html": [
       "<div>\n",
       "<style scoped>\n",
       "    .dataframe tbody tr th:only-of-type {\n",
       "        vertical-align: middle;\n",
       "    }\n",
       "\n",
       "    .dataframe tbody tr th {\n",
       "        vertical-align: top;\n",
       "    }\n",
       "\n",
       "    .dataframe thead th {\n",
       "        text-align: right;\n",
       "    }\n",
       "</style>\n",
       "<table border=\"1\" class=\"dataframe\">\n",
       "  <thead>\n",
       "    <tr style=\"text-align: right;\">\n",
       "      <th></th>\n",
       "      <th>rec_id</th>\n",
       "      <th>RSPM_PM10_Median</th>\n",
       "      <th>RSPM_PM10_P10</th>\n",
       "      <th>RSPM_PM10_P90</th>\n",
       "    </tr>\n",
       "  </thead>\n",
       "  <tbody>\n",
       "    <tr>\n",
       "      <td>0</td>\n",
       "      <td>0</td>\n",
       "      <td>149.0</td>\n",
       "      <td>129.0</td>\n",
       "      <td>153.8</td>\n",
       "    </tr>\n",
       "    <tr>\n",
       "      <td>1</td>\n",
       "      <td>1</td>\n",
       "      <td>143.0</td>\n",
       "      <td>138.2</td>\n",
       "      <td>147.8</td>\n",
       "    </tr>\n",
       "    <tr>\n",
       "      <td>2</td>\n",
       "      <td>2</td>\n",
       "      <td>139.0</td>\n",
       "      <td>139.0</td>\n",
       "      <td>139.0</td>\n",
       "    </tr>\n",
       "    <tr>\n",
       "      <td>3</td>\n",
       "      <td>3</td>\n",
       "      <td>165.0</td>\n",
       "      <td>164.2</td>\n",
       "      <td>166.0</td>\n",
       "    </tr>\n",
       "    <tr>\n",
       "      <td>4</td>\n",
       "      <td>4</td>\n",
       "      <td>148.0</td>\n",
       "      <td>136.4</td>\n",
       "      <td>161.2</td>\n",
       "    </tr>\n",
       "  </tbody>\n",
       "</table>\n",
       "</div>"
      ],
      "text/plain": [
       "   rec_id  RSPM_PM10_Median  RSPM_PM10_P10  RSPM_PM10_P90\n",
       "0       0             149.0          129.0          153.8\n",
       "1       1             143.0          138.2          147.8\n",
       "2       2             139.0          139.0          139.0\n",
       "3       3             165.0          164.2          166.0\n",
       "4       4             148.0          136.4          161.2"
      ]
     },
     "execution_count": 33,
     "metadata": {},
     "output_type": "execute_result"
    }
   ],
   "source": [
    "YearClusterDataNSo2_ori.head()"
   ]
  },
  {
   "cell_type": "code",
   "execution_count": 59,
   "metadata": {},
   "outputs": [],
   "source": [
    "clusterCut = pd.Series(cut_tree(mergings, n_clusters = 4).reshape(-1,))\n",
    "YearClusterDataNSo2_OriClus = pd.concat([YearClusterDataNSo2_ori, clusterCut], axis=1)"
   ]
  },
  {
   "cell_type": "code",
   "execution_count": 60,
   "metadata": {},
   "outputs": [
    {
     "data": {
      "text/plain": [
       "Index(['rec_id', 'RSPM_PM10_Median', 'RSPM_PM10_P10', 'RSPM_PM10_P90', 0], dtype='object')"
      ]
     },
     "execution_count": 60,
     "metadata": {},
     "output_type": "execute_result"
    }
   ],
   "source": [
    "YearClusterDataNSo2_OriClus.columns"
   ]
  },
  {
   "cell_type": "code",
   "execution_count": 61,
   "metadata": {},
   "outputs": [],
   "source": [
    "YearClusterDataNSo2_OriClus.columns=['rec_id', 'RSPM_PM10_Median', 'RSPM_PM10_P10', 'RSPM_PM10_P90',    'ClusterId']"
   ]
  },
  {
   "cell_type": "code",
   "execution_count": 62,
   "metadata": {},
   "outputs": [
    {
     "data": {
      "text/html": [
       "<div>\n",
       "<style scoped>\n",
       "    .dataframe tbody tr th:only-of-type {\n",
       "        vertical-align: middle;\n",
       "    }\n",
       "\n",
       "    .dataframe tbody tr th {\n",
       "        vertical-align: top;\n",
       "    }\n",
       "\n",
       "    .dataframe thead th {\n",
       "        text-align: right;\n",
       "    }\n",
       "</style>\n",
       "<table border=\"1\" class=\"dataframe\">\n",
       "  <thead>\n",
       "    <tr style=\"text-align: right;\">\n",
       "      <th></th>\n",
       "      <th>rec_id</th>\n",
       "      <th>RSPM_PM10_Median</th>\n",
       "      <th>RSPM_PM10_P10</th>\n",
       "      <th>RSPM_PM10_P90</th>\n",
       "      <th>ClusterId</th>\n",
       "    </tr>\n",
       "  </thead>\n",
       "  <tbody>\n",
       "    <tr>\n",
       "      <td>0</td>\n",
       "      <td>0.0</td>\n",
       "      <td>149.0</td>\n",
       "      <td>129.0</td>\n",
       "      <td>153.8</td>\n",
       "      <td>0.0</td>\n",
       "    </tr>\n",
       "    <tr>\n",
       "      <td>1</td>\n",
       "      <td>1.0</td>\n",
       "      <td>143.0</td>\n",
       "      <td>138.2</td>\n",
       "      <td>147.8</td>\n",
       "      <td>0.0</td>\n",
       "    </tr>\n",
       "    <tr>\n",
       "      <td>2</td>\n",
       "      <td>2.0</td>\n",
       "      <td>139.0</td>\n",
       "      <td>139.0</td>\n",
       "      <td>139.0</td>\n",
       "      <td>0.0</td>\n",
       "    </tr>\n",
       "    <tr>\n",
       "      <td>3</td>\n",
       "      <td>3.0</td>\n",
       "      <td>165.0</td>\n",
       "      <td>164.2</td>\n",
       "      <td>166.0</td>\n",
       "      <td>0.0</td>\n",
       "    </tr>\n",
       "    <tr>\n",
       "      <td>4</td>\n",
       "      <td>4.0</td>\n",
       "      <td>148.0</td>\n",
       "      <td>136.4</td>\n",
       "      <td>161.2</td>\n",
       "      <td>0.0</td>\n",
       "    </tr>\n",
       "  </tbody>\n",
       "</table>\n",
       "</div>"
      ],
      "text/plain": [
       "   rec_id  RSPM_PM10_Median  RSPM_PM10_P10  RSPM_PM10_P90  ClusterId\n",
       "0     0.0             149.0          129.0          153.8        0.0\n",
       "1     1.0             143.0          138.2          147.8        0.0\n",
       "2     2.0             139.0          139.0          139.0        0.0\n",
       "3     3.0             165.0          164.2          166.0        0.0\n",
       "4     4.0             148.0          136.4          161.2        0.0"
      ]
     },
     "execution_count": 62,
     "metadata": {},
     "output_type": "execute_result"
    }
   ],
   "source": [
    "YearClusterDataNSo2_OriClus.head()"
   ]
  },
  {
   "cell_type": "code",
   "execution_count": 63,
   "metadata": {},
   "outputs": [],
   "source": [
    "clusters_RSPM_PM10_Median = \tpd.DataFrame(YearClusterDataNSo2_OriClus.groupby([\"ClusterId\"]).RSPM_PM10_Median.mean())\n",
    "clusters_RSPM_PM10_P10 = \tpd.DataFrame(YearClusterDataNSo2_OriClus.groupby([\"ClusterId\"]).RSPM_PM10_P10.mean())\n",
    "clusters_RSPM_PM10_P90 = \tpd.DataFrame(YearClusterDataNSo2_OriClus.groupby([\"ClusterId\"]).RSPM_PM10_P90.mean())"
   ]
  },
  {
   "cell_type": "code",
   "execution_count": 65,
   "metadata": {},
   "outputs": [
    {
     "data": {
      "text/html": [
       "<div>\n",
       "<style scoped>\n",
       "    .dataframe tbody tr th:only-of-type {\n",
       "        vertical-align: middle;\n",
       "    }\n",
       "\n",
       "    .dataframe tbody tr th {\n",
       "        vertical-align: top;\n",
       "    }\n",
       "\n",
       "    .dataframe thead th {\n",
       "        text-align: right;\n",
       "    }\n",
       "</style>\n",
       "<table border=\"1\" class=\"dataframe\">\n",
       "  <thead>\n",
       "    <tr style=\"text-align: right;\">\n",
       "      <th></th>\n",
       "      <th>ClusterID</th>\n",
       "      <th>clusters_RSPM_PM10_P10</th>\n",
       "      <th>clusters_RSPM_PM10_Median</th>\n",
       "      <th>clusters_RSPM_PM10_P90</th>\n",
       "    </tr>\n",
       "  </thead>\n",
       "  <tbody>\n",
       "    <tr>\n",
       "      <td>0.0</td>\n",
       "      <td>0</td>\n",
       "      <td>79.574946</td>\n",
       "      <td>109.421630</td>\n",
       "      <td>147.710551</td>\n",
       "    </tr>\n",
       "    <tr>\n",
       "      <td>1.0</td>\n",
       "      <td>1</td>\n",
       "      <td>70.243156</td>\n",
       "      <td>104.866080</td>\n",
       "      <td>156.462370</td>\n",
       "    </tr>\n",
       "    <tr>\n",
       "      <td>2.0</td>\n",
       "      <td>2</td>\n",
       "      <td>62.753552</td>\n",
       "      <td>95.032661</td>\n",
       "      <td>139.911749</td>\n",
       "    </tr>\n",
       "    <tr>\n",
       "      <td>3.0</td>\n",
       "      <td>3</td>\n",
       "      <td>67.945455</td>\n",
       "      <td>113.409091</td>\n",
       "      <td>154.236364</td>\n",
       "    </tr>\n",
       "  </tbody>\n",
       "</table>\n",
       "</div>"
      ],
      "text/plain": [
       "     ClusterID  clusters_RSPM_PM10_P10  clusters_RSPM_PM10_Median  \\\n",
       "0.0          0               79.574946                 109.421630   \n",
       "1.0          1               70.243156                 104.866080   \n",
       "2.0          2               62.753552                  95.032661   \n",
       "3.0          3               67.945455                 113.409091   \n",
       "\n",
       "     clusters_RSPM_PM10_P90  \n",
       "0.0              147.710551  \n",
       "1.0              156.462370  \n",
       "2.0              139.911749  \n",
       "3.0              154.236364  "
      ]
     },
     "execution_count": 65,
     "metadata": {},
     "output_type": "execute_result"
    }
   ],
   "source": [
    "df = pd.concat([pd.Series([0,1,2,3]), clusters_RSPM_PM10_P10, clusters_RSPM_PM10_Median, clusters_RSPM_PM10_P90], axis=1)\n",
    "df.columns = [\"ClusterID\", \"clusters_RSPM_PM10_P10\", \"clusters_RSPM_PM10_Median\", \"clusters_RSPM_PM10_P90\"]\n",
    "df.head()"
   ]
  },
  {
   "cell_type": "code",
   "execution_count": 66,
   "metadata": {},
   "outputs": [
    {
     "data": {
      "text/plain": [
       "<matplotlib.axes._subplots.AxesSubplot at 0x2989c9c11c8>"
      ]
     },
     "execution_count": 66,
     "metadata": {},
     "output_type": "execute_result"
    },
    {
     "data": {
      "image/png": "[encoded data removed]",
      "text/plain": [
       "<Figure size 432x288 with 1 Axes>"
      ]
     },
     "metadata": {
      "needs_background": "light"
     },
     "output_type": "display_data"
    }
   ],
   "source": [
    "#plotting barplot\n",
    "sns.barplot(x=df.ClusterID, y=df.clusters_RSPM_PM10_P10)"
   ]
  },
  {
   "cell_type": "code",
   "execution_count": 67,
   "metadata": {},
   "outputs": [
    {
     "data": {
      "text/plain": [
       "<matplotlib.axes._subplots.AxesSubplot at 0x298a03ea8c8>"
      ]
     },
     "execution_count": 67,
     "metadata": {},
     "output_type": "execute_result"
    },
    {
     "data": {
      "image/png": "[encoded data removed]",
      "text/plain": [
       "<Figure size 432x288 with 1 Axes>"
      ]
     },
     "metadata": {
      "needs_background": "light"
     },
     "output_type": "display_data"
    }
   ],
   "source": [
    "#plotting barplot\n",
    "sns.barplot(x=df.ClusterID, y=df.clusters_RSPM_PM10_Median)"
   ]
  },
  {
   "cell_type": "code",
   "execution_count": 68,
   "metadata": {},
   "outputs": [
    {
     "data": {
      "text/plain": [
       "<matplotlib.axes._subplots.AxesSubplot at 0x298a052cbc8>"
      ]
     },
     "execution_count": 68,
     "metadata": {},
     "output_type": "execute_result"
    },
    {
     "data": {
      "image/png": "[encoded data removed]",
      "text/plain": [
       "<Figure size 432x288 with 1 Axes>"
      ]
     },
     "metadata": {
      "needs_background": "light"
     },
     "output_type": "display_data"
    }
   ],
   "source": [
    "#plotting barplot\n",
    "sns.barplot(x=df.ClusterID, y=df.clusters_RSPM_PM10_P90)"
   ]
  },
  {
   "cell_type": "code",
   "execution_count": 69,
   "metadata": {},
   "outputs": [
    {
     "data": {
      "text/plain": [
       "Index(['ClusterID', 'clusters_RSPM_PM10_P10', 'clusters_RSPM_PM10_Median',\n",
       "       'clusters_RSPM_PM10_P90'],\n",
       "      dtype='object')"
      ]
     },
     "execution_count": 69,
     "metadata": {},
     "output_type": "execute_result"
    }
   ],
   "source": [
    "df.columns"
   ]
  },
  {
   "cell_type": "code",
   "execution_count": 71,
   "metadata": {},
   "outputs": [
    {
     "name": "stdout",
     "output_type": "stream",
     "text": [
      "                   variables      values\n",
      "0                  ClusterID    0.000000\n",
      "1     clusters_RSPM_PM10_P10   79.574946\n",
      "2  clusters_RSPM_PM10_Median  109.421630\n",
      "3     clusters_RSPM_PM10_P90  147.710551\n",
      "                   variables      values\n",
      "0                  ClusterID    1.000000\n",
      "1     clusters_RSPM_PM10_P10   70.243156\n",
      "2  clusters_RSPM_PM10_Median  104.866080\n",
      "3     clusters_RSPM_PM10_P90  156.462370\n",
      "                   variables      values\n",
      "0                  ClusterID    2.000000\n",
      "1     clusters_RSPM_PM10_P10   62.753552\n",
      "2  clusters_RSPM_PM10_Median   95.032661\n",
      "3     clusters_RSPM_PM10_P90  139.911749\n",
      "                   variables      values\n",
      "0                  ClusterID    3.000000\n",
      "1     clusters_RSPM_PM10_P10   67.945455\n",
      "2  clusters_RSPM_PM10_Median  113.409091\n",
      "3     clusters_RSPM_PM10_P90  154.236364\n"
     ]
    },
    {
     "data": {
      "image/png": "[encoded data removed]",
      "text/plain": [
       "<Figure size 1080x360 with 4 Axes>"
      ]
     },
     "metadata": {
      "needs_background": "light"
     },
     "output_type": "display_data"
    }
   ],
   "source": [
    "plt.figure(figsize = (15,5))\n",
    "for i in range(0, 4):    \n",
    "    ClusterOne=np.transpose(df[df.ClusterID==i])\n",
    "    ClusterOne.reset_index(inplace=True)\n",
    "    ClusterOne.columns=['variables', 'values']\n",
    "    ClusterOne['values']=ClusterOne['values'].map(float)\n",
    "    print(ClusterOne)\n",
    "    plt.subplot(2, 2, i+1)\n",
    "    t=sns.barplot(x='variables',y='values',data=ClusterOne)\n",
    "    t.set_xticklabels(labels=ClusterOne.variables,rotation=90)"
   ]
  },
  {
   "cell_type": "code",
   "execution_count": 72,
   "metadata": {},
   "outputs": [
    {
     "data": {
      "text/plain": [
       "Index(['rec_id', 'RSPM_PM10_Median', 'RSPM_PM10_P10', 'RSPM_PM10_P90',\n",
       "       'ClusterId'],\n",
       "      dtype='object')"
      ]
     },
     "execution_count": 72,
     "metadata": {},
     "output_type": "execute_result"
    }
   ],
   "source": [
    "YearClusterDataNSo2_OriClus.columns"
   ]
  },
  {
   "cell_type": "code",
   "execution_count": 73,
   "metadata": {},
   "outputs": [],
   "source": [
    "woyCluster=YearClusterDataNSo2_OriClus[['rec_id','ClusterId']]"
   ]
  },
  {
   "cell_type": "code",
   "execution_count": 74,
   "metadata": {},
   "outputs": [],
   "source": [
    "Base_polpop_iell_csrf_ClusWoYear=Base_polpop_iell_csrf.merge(woyCluster,how='left', suffixes=('_data', '_cluster'),left_on=['rec_id'], right_on=['rec_id'])"
   ]
  },
  {
   "cell_type": "code",
   "execution_count": 75,
   "metadata": {},
   "outputs": [
    {
     "data": {
      "text/plain": [
       "Index(['Unnamed: 0', 'City_poll', 'Type_of_Location', 'year_number',\n",
       "       'month_number', 'NO2_Median', 'RSPM_PM10_Median', 'SO2_Median',\n",
       "       'SPM_Median', 'Median_SO2_MOM_diff',\n",
       "       ...\n",
       "       'Main_District_Highway_per', 'Other_district_Rural_Roads_per',\n",
       "       'indus_by_overall', 'indus_by_forest', 'indus_by_nonforest', 'rec_id',\n",
       "       'RainPerArea', 'CarSalesPerArea', 'RainPerCarSales', 'ClusterId'],\n",
       "      dtype='object', length=107)"
      ]
     },
     "execution_count": 75,
     "metadata": {},
     "output_type": "execute_result"
    }
   ],
   "source": [
    "Base_polpop_iell_csrf_ClusWoYear.columns"
   ]
  },
  {
   "cell_type": "code",
   "execution_count": 76,
   "metadata": {},
   "outputs": [],
   "source": [
    "Base_ClusWoYear=Base_polpop_iell_csrf_ClusWoYear[['City_poll','Type_of_Location', 'ClusterId','year_number','month_number']]"
   ]
  },
  {
   "cell_type": "code",
   "execution_count": 77,
   "metadata": {},
   "outputs": [
    {
     "data": {
      "text/html": [
       "<div>\n",
       "<style scoped>\n",
       "    .dataframe tbody tr th:only-of-type {\n",
       "        vertical-align: middle;\n",
       "    }\n",
       "\n",
       "    .dataframe tbody tr th {\n",
       "        vertical-align: top;\n",
       "    }\n",
       "\n",
       "    .dataframe thead th {\n",
       "        text-align: right;\n",
       "    }\n",
       "</style>\n",
       "<table border=\"1\" class=\"dataframe\">\n",
       "  <thead>\n",
       "    <tr style=\"text-align: right;\">\n",
       "      <th></th>\n",
       "      <th>City_poll</th>\n",
       "      <th>Type_of_Location</th>\n",
       "      <th>ClusterId</th>\n",
       "      <th>year_number</th>\n",
       "      <th>month_number</th>\n",
       "    </tr>\n",
       "  </thead>\n",
       "  <tbody>\n",
       "    <tr>\n",
       "      <td>0</td>\n",
       "      <td>AKOLA</td>\n",
       "      <td>Industrial</td>\n",
       "      <td>0.0</td>\n",
       "      <td>2011</td>\n",
       "      <td>1.0</td>\n",
       "    </tr>\n",
       "    <tr>\n",
       "      <td>1</td>\n",
       "      <td>AKOLA</td>\n",
       "      <td>Industrial</td>\n",
       "      <td>0.0</td>\n",
       "      <td>2011</td>\n",
       "      <td>2.0</td>\n",
       "    </tr>\n",
       "    <tr>\n",
       "      <td>2</td>\n",
       "      <td>AKOLA</td>\n",
       "      <td>Industrial</td>\n",
       "      <td>0.0</td>\n",
       "      <td>2011</td>\n",
       "      <td>3.0</td>\n",
       "    </tr>\n",
       "    <tr>\n",
       "      <td>3</td>\n",
       "      <td>AKOLA</td>\n",
       "      <td>Industrial</td>\n",
       "      <td>0.0</td>\n",
       "      <td>2011</td>\n",
       "      <td>4.0</td>\n",
       "    </tr>\n",
       "    <tr>\n",
       "      <td>4</td>\n",
       "      <td>AKOLA</td>\n",
       "      <td>Industrial</td>\n",
       "      <td>0.0</td>\n",
       "      <td>2011</td>\n",
       "      <td>5.0</td>\n",
       "    </tr>\n",
       "  </tbody>\n",
       "</table>\n",
       "</div>"
      ],
      "text/plain": [
       "  City_poll Type_of_Location  ClusterId  year_number  month_number\n",
       "0     AKOLA       Industrial        0.0         2011           1.0\n",
       "1     AKOLA       Industrial        0.0         2011           2.0\n",
       "2     AKOLA       Industrial        0.0         2011           3.0\n",
       "3     AKOLA       Industrial        0.0         2011           4.0\n",
       "4     AKOLA       Industrial        0.0         2011           5.0"
      ]
     },
     "execution_count": 77,
     "metadata": {},
     "output_type": "execute_result"
    }
   ],
   "source": [
    "Base_ClusWoYear.head()"
   ]
  },
  {
   "cell_type": "code",
   "execution_count": 78,
   "metadata": {},
   "outputs": [],
   "source": [
    "Base_ClusWoYear=Base_ClusWoYear.sort_values(by=['City_poll', 'year_number','month_number'])"
   ]
  },
  {
   "cell_type": "code",
   "execution_count": 79,
   "metadata": {},
   "outputs": [
    {
     "data": {
      "text/plain": [
       "(5715, 5)"
      ]
     },
     "execution_count": 79,
     "metadata": {},
     "output_type": "execute_result"
    }
   ],
   "source": [
    "Base_ClusWoYear.shape"
   ]
  },
  {
   "cell_type": "code",
   "execution_count": 80,
   "metadata": {},
   "outputs": [
    {
     "data": {
      "text/html": [
       "<div>\n",
       "<style scoped>\n",
       "    .dataframe tbody tr th:only-of-type {\n",
       "        vertical-align: middle;\n",
       "    }\n",
       "\n",
       "    .dataframe tbody tr th {\n",
       "        vertical-align: top;\n",
       "    }\n",
       "\n",
       "    .dataframe thead th {\n",
       "        text-align: right;\n",
       "    }\n",
       "</style>\n",
       "<table border=\"1\" class=\"dataframe\">\n",
       "  <thead>\n",
       "    <tr style=\"text-align: right;\">\n",
       "      <th></th>\n",
       "      <th>City_poll</th>\n",
       "      <th>Type_of_Location</th>\n",
       "      <th>ClusterId</th>\n",
       "      <th>year_number</th>\n",
       "      <th>month_number</th>\n",
       "    </tr>\n",
       "  </thead>\n",
       "  <tbody>\n",
       "    <tr>\n",
       "      <td>0</td>\n",
       "      <td>AKOLA</td>\n",
       "      <td>Industrial</td>\n",
       "      <td>0.0</td>\n",
       "      <td>2011</td>\n",
       "      <td>1.0</td>\n",
       "    </tr>\n",
       "    <tr>\n",
       "      <td>12</td>\n",
       "      <td>AKOLA</td>\n",
       "      <td>Residential</td>\n",
       "      <td>1.0</td>\n",
       "      <td>2011</td>\n",
       "      <td>1.0</td>\n",
       "    </tr>\n",
       "    <tr>\n",
       "      <td>1</td>\n",
       "      <td>AKOLA</td>\n",
       "      <td>Industrial</td>\n",
       "      <td>0.0</td>\n",
       "      <td>2011</td>\n",
       "      <td>2.0</td>\n",
       "    </tr>\n",
       "    <tr>\n",
       "      <td>13</td>\n",
       "      <td>AKOLA</td>\n",
       "      <td>Residential</td>\n",
       "      <td>1.0</td>\n",
       "      <td>2011</td>\n",
       "      <td>2.0</td>\n",
       "    </tr>\n",
       "    <tr>\n",
       "      <td>2</td>\n",
       "      <td>AKOLA</td>\n",
       "      <td>Industrial</td>\n",
       "      <td>0.0</td>\n",
       "      <td>2011</td>\n",
       "      <td>3.0</td>\n",
       "    </tr>\n",
       "  </tbody>\n",
       "</table>\n",
       "</div>"
      ],
      "text/plain": [
       "   City_poll Type_of_Location  ClusterId  year_number  month_number\n",
       "0      AKOLA       Industrial        0.0         2011           1.0\n",
       "12     AKOLA      Residential        1.0         2011           1.0\n",
       "1      AKOLA       Industrial        0.0         2011           2.0\n",
       "13     AKOLA      Residential        1.0         2011           2.0\n",
       "2      AKOLA       Industrial        0.0         2011           3.0"
      ]
     },
     "execution_count": 80,
     "metadata": {},
     "output_type": "execute_result"
    }
   ],
   "source": [
    "Base_ClusWoYear.head()"
   ]
  },
  {
   "cell_type": "code",
   "execution_count": 81,
   "metadata": {},
   "outputs": [],
   "source": [
    "Base_ClusWoYear.to_csv(path_or_buf ='E:\\MS\\Base_spm_23oct.csv')"
   ]
  },
  {
   "cell_type": "code",
   "execution_count": null,
   "metadata": {},
   "outputs": [],
   "source": []
  },
  {
   "cell_type": "markdown",
   "metadata": {},
   "source": [
    "---- kmeans"
   ]
  },
  {
   "cell_type": "code",
   "execution_count": 56,
   "metadata": {},
   "outputs": [
    {
     "data": {
      "text/plain": [
       "KMeans(algorithm='auto', copy_x=True, init='k-means++', max_iter=50,\n",
       "       n_clusters=4, n_init=10, n_jobs=None, precompute_distances='auto',\n",
       "       random_state=None, tol=0.0001, verbose=0)"
      ]
     },
     "execution_count": 56,
     "metadata": {},
     "output_type": "execute_result"
    }
   ],
   "source": [
    "# Kmeans with K=4\n",
    "model_clus5 = KMeans(n_clusters = 4, max_iter=50)\n",
    "model_clus5.fit(YearClusterDataNSo2_norm)"
   ]
  },
  {
   "cell_type": "markdown",
   "metadata": {},
   "source": [
    "## Silhouette Analysis\n",
    "\n",
    "$$\\text{silhouette score}=\\frac{p-q}{max(p,q)}$$\n",
    "\n",
    "$p$ is the mean distance to the points in the nearest cluster that the data point is not a part of\n",
    "\n",
    "$q$ is the mean intra-cluster distance to all the points in its own cluster.\n",
    "\n",
    "* The value of the silhouette score range lies between -1 to 1. \n",
    "\n",
    "* A score closer to 1 indicates that the data point is very similar to other data points in the cluster, \n",
    "\n",
    "* A score closer to -1 indicates that the data point is not similar to the data points in its cluster.m"
   ]
  },
  {
   "cell_type": "code",
   "execution_count": 57,
   "metadata": {},
   "outputs": [],
   "source": [
    "from sklearn.metrics import silhouette_score\n",
    "sse_ = []\n",
    "for k in range(2, 15):\n",
    "    kmeans = KMeans(n_clusters=k).fit(YearClusterDataNSo2_norm)\n",
    "    sse_.append([k, silhouette_score(YearClusterDataNSo2_norm, kmeans.labels_)])"
   ]
  },
  {
   "cell_type": "code",
   "execution_count": 62,
   "metadata": {},
   "outputs": [
    {
     "data": {
      "image/png": "[encoded data removed]",
      "text/plain": [
       "<Figure size 432x288 with 1 Axes>"
      ]
     },
     "metadata": {},
     "output_type": "display_data"
    }
   ],
   "source": [
    "plt.plot(pd.DataFrame(sse_)[0], pd.DataFrame(sse_)[1]);"
   ]
  },
  {
   "cell_type": "markdown",
   "metadata": {},
   "source": [
    "### 4 seems to get a spike"
   ]
  },
  {
   "cell_type": "code",
   "execution_count": 58,
   "metadata": {},
   "outputs": [
    {
     "data": {
      "text/plain": [
       "[<matplotlib.lines.Line2D at 0x298a03c0e48>]"
      ]
     },
     "execution_count": 58,
     "metadata": {},
     "output_type": "execute_result"
    },
    {
     "data": {
      "image/png": "[encoded data removed]",
      "text/plain": [
       "<Figure size 432x288 with 1 Axes>"
      ]
     },
     "metadata": {
      "needs_background": "light"
     },
     "output_type": "display_data"
    }
   ],
   "source": [
    "# sum of squared distances\n",
    "ssd = []\n",
    "for num_clusters in list(range(1,21)):\n",
    "    model_clus = KMeans(n_clusters = num_clusters, max_iter=50)\n",
    "    model_clus.fit(YearClusterDataNSo2_norm)\n",
    "    ssd.append(model_clus.inertia_)\n",
    "\n",
    "plt.plot(ssd)"
   ]
  },
  {
   "cell_type": "markdown",
   "metadata": {},
   "source": [
    "#### 5 is at a lower end may be four truely is better"
   ]
  },
  {
   "cell_type": "code",
   "execution_count": null,
   "metadata": {},
   "outputs": [],
   "source": []
  },
  {
   "cell_type": "code",
   "execution_count": null,
   "metadata": {},
   "outputs": [],
   "source": []
  }
 ],
 "metadata": {
  "kernelspec": {
   "display_name": "Python 3",
   "language": "python",
   "name": "python3"
  },
  "language_info": {
   "codemirror_mode": {
    "name": "ipython",
    "version": 3
   },
   "file_extension": ".py",
   "mimetype": "text/x-python",
   "name": "python",
   "nbconvert_exporter": "python",
   "pygments_lexer": "ipython3",
   "version": "3.7.4"
  }
 },
 "nbformat": 4,
 "nbformat_minor": 2
}
