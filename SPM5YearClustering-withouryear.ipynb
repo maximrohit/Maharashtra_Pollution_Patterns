{
 "cells": [
  {
   "cell_type": "code",
   "execution_count": 1,
   "metadata": {},
   "outputs": [],
   "source": [
    "# Supress Warnings\n",
    "import warnings\n",
    "warnings.filterwarnings('ignore')\n",
    "import numpy as np\n",
    "import pandas as pd\n",
    "import matplotlib.pyplot as plt\n",
    "import seaborn as sns"
   ]
  },
  {
   "cell_type": "code",
   "execution_count": 2,
   "metadata": {},
   "outputs": [],
   "source": [
    "# To Scale our data\n",
    "from sklearn.preprocessing import scale\n",
    "\n",
    "# To perform KMeans clustering \n",
    "from sklearn.cluster import KMeans\n",
    "\n",
    "# To perform Hierarchical clustering\n",
    "from scipy.cluster.hierarchy import linkage\n",
    "from scipy.cluster.hierarchy import dendrogram\n",
    "from scipy.cluster.hierarchy import cut_tree"
   ]
  },
  {
   "cell_type": "code",
   "execution_count": 30,
   "metadata": {},
   "outputs": [],
   "source": [
    "Base_polpop_iell_csrf=pd.read_csv('C:\\MS\\EDA\\Base_polpop_iell_csrf_17oct.csv')"
   ]
  },
  {
   "cell_type": "code",
   "execution_count": null,
   "metadata": {},
   "outputs": [],
   "source": [
    "for i in Base_polpop_iell_csrf.columns:\n",
    "    print(i)"
   ]
  },
  {
   "cell_type": "code",
   "execution_count": 31,
   "metadata": {},
   "outputs": [],
   "source": [
    "YearClusterDataNSo2=Base_polpop_iell_csrf[['rec_id','SPM_P10','SPM_Median','SPM_P90','Median_SPM_MOM_diff','P10_SPM_MOM_diff','P90_SPM_MOM_diff']]"
   ]
  },
  {
   "cell_type": "code",
   "execution_count": null,
   "metadata": {},
   "outputs": [],
   "source": [
    "#YearClusterDataNSo2=Base_polpop_iell_csrf[['rec_id','SPM_P10','SPM_Median','SPM_P90','Median_SPM_MOM_diff','P10_SPM_MOM_diff','P90_SPM_MOM_diff','SPM_Median_YOY_diff','SPM_P10_YOY_diff','SPM_P90_YOY_diff']]"
   ]
  },
  {
   "cell_type": "code",
   "execution_count": 32,
   "metadata": {},
   "outputs": [
    {
     "data": {
      "text/plain": [
       "rec_id                 False\n",
       "SPM_P10                 True\n",
       "SPM_Median              True\n",
       "SPM_P90                 True\n",
       "Median_SPM_MOM_diff     True\n",
       "P10_SPM_MOM_diff        True\n",
       "P90_SPM_MOM_diff        True\n",
       "dtype: bool"
      ]
     },
     "execution_count": 32,
     "metadata": {},
     "output_type": "execute_result"
    }
   ],
   "source": [
    "YearClusterDataNSo2.isnull().any(axis=0) "
   ]
  },
  {
   "cell_type": "code",
   "execution_count": 33,
   "metadata": {},
   "outputs": [
    {
     "data": {
      "text/plain": [
       "rec_id                    0\n",
       "SPM_P10                2725\n",
       "SPM_Median             2725\n",
       "SPM_P90                2725\n",
       "Median_SPM_MOM_diff    2853\n",
       "P10_SPM_MOM_diff       2853\n",
       "P90_SPM_MOM_diff       2853\n",
       "dtype: int64"
      ]
     },
     "execution_count": 33,
     "metadata": {},
     "output_type": "execute_result"
    }
   ],
   "source": [
    "YearClusterDataNSo2.isnull().sum()"
   ]
  },
  {
   "cell_type": "code",
   "execution_count": 34,
   "metadata": {},
   "outputs": [],
   "source": [
    "YearClusterDataNSo2.dropna(inplace=True)"
   ]
  },
  {
   "cell_type": "code",
   "execution_count": 35,
   "metadata": {},
   "outputs": [
    {
     "data": {
      "text/plain": [
       "rec_id                 0\n",
       "SPM_P10                0\n",
       "SPM_Median             0\n",
       "SPM_P90                0\n",
       "Median_SPM_MOM_diff    0\n",
       "P10_SPM_MOM_diff       0\n",
       "P90_SPM_MOM_diff       0\n",
       "dtype: int64"
      ]
     },
     "execution_count": 35,
     "metadata": {},
     "output_type": "execute_result"
    }
   ],
   "source": [
    "YearClusterDataNSo2.isnull().sum()"
   ]
  },
  {
   "cell_type": "code",
   "execution_count": 36,
   "metadata": {},
   "outputs": [],
   "source": [
    "YearClusterDataNSo2_ori=YearClusterDataNSo2"
   ]
  },
  {
   "cell_type": "code",
   "execution_count": 39,
   "metadata": {},
   "outputs": [
    {
     "data": {
      "text/html": [
       "<div>\n",
       "<style scoped>\n",
       "    .dataframe tbody tr th:only-of-type {\n",
       "        vertical-align: middle;\n",
       "    }\n",
       "\n",
       "    .dataframe tbody tr th {\n",
       "        vertical-align: top;\n",
       "    }\n",
       "\n",
       "    .dataframe thead th {\n",
       "        text-align: right;\n",
       "    }\n",
       "</style>\n",
       "<table border=\"1\" class=\"dataframe\">\n",
       "  <thead>\n",
       "    <tr style=\"text-align: right;\">\n",
       "      <th></th>\n",
       "      <th>rec_id</th>\n",
       "      <th>SPM_P10</th>\n",
       "      <th>SPM_Median</th>\n",
       "      <th>SPM_P90</th>\n",
       "      <th>Median_SPM_MOM_diff</th>\n",
       "      <th>P10_SPM_MOM_diff</th>\n",
       "      <th>P90_SPM_MOM_diff</th>\n",
       "    </tr>\n",
       "  </thead>\n",
       "  <tbody>\n",
       "    <tr>\n",
       "      <th>310</th>\n",
       "      <td>310</td>\n",
       "      <td>48.7</td>\n",
       "      <td>83.5</td>\n",
       "      <td>118.3</td>\n",
       "      <td>-119.5</td>\n",
       "      <td>-67.1</td>\n",
       "      <td>-159.1</td>\n",
       "    </tr>\n",
       "    <tr>\n",
       "      <th>311</th>\n",
       "      <td>311</td>\n",
       "      <td>51.4</td>\n",
       "      <td>113.0</td>\n",
       "      <td>204.2</td>\n",
       "      <td>29.5</td>\n",
       "      <td>2.7</td>\n",
       "      <td>85.9</td>\n",
       "    </tr>\n",
       "    <tr>\n",
       "      <th>312</th>\n",
       "      <td>312</td>\n",
       "      <td>119.4</td>\n",
       "      <td>246.5</td>\n",
       "      <td>300.0</td>\n",
       "      <td>133.5</td>\n",
       "      <td>68.0</td>\n",
       "      <td>95.8</td>\n",
       "    </tr>\n",
       "    <tr>\n",
       "      <th>313</th>\n",
       "      <td>313</td>\n",
       "      <td>106.1</td>\n",
       "      <td>203.0</td>\n",
       "      <td>259.9</td>\n",
       "      <td>-43.5</td>\n",
       "      <td>-13.3</td>\n",
       "      <td>-40.1</td>\n",
       "    </tr>\n",
       "    <tr>\n",
       "      <th>314</th>\n",
       "      <td>314</td>\n",
       "      <td>72.5</td>\n",
       "      <td>133.5</td>\n",
       "      <td>212.0</td>\n",
       "      <td>-69.5</td>\n",
       "      <td>-33.6</td>\n",
       "      <td>-47.9</td>\n",
       "    </tr>\n",
       "  </tbody>\n",
       "</table>\n",
       "</div>"
      ],
      "text/plain": [
       "     rec_id  SPM_P10  SPM_Median  SPM_P90  Median_SPM_MOM_diff  \\\n",
       "310     310     48.7        83.5    118.3               -119.5   \n",
       "311     311     51.4       113.0    204.2                 29.5   \n",
       "312     312    119.4       246.5    300.0                133.5   \n",
       "313     313    106.1       203.0    259.9                -43.5   \n",
       "314     314     72.5       133.5    212.0                -69.5   \n",
       "\n",
       "     P10_SPM_MOM_diff  P90_SPM_MOM_diff  \n",
       "310             -67.1            -159.1  \n",
       "311               2.7              85.9  \n",
       "312              68.0              95.8  \n",
       "313             -13.3             -40.1  \n",
       "314             -33.6             -47.9  "
      ]
     },
     "execution_count": 39,
     "metadata": {},
     "output_type": "execute_result"
    }
   ],
   "source": [
    "YearClusterDataNSo2_ori.head()"
   ]
  },
  {
   "cell_type": "code",
   "execution_count": 37,
   "metadata": {},
   "outputs": [
    {
     "data": {
      "text/html": [
       "<div>\n",
       "<style scoped>\n",
       "    .dataframe tbody tr th:only-of-type {\n",
       "        vertical-align: middle;\n",
       "    }\n",
       "\n",
       "    .dataframe tbody tr th {\n",
       "        vertical-align: top;\n",
       "    }\n",
       "\n",
       "    .dataframe thead th {\n",
       "        text-align: right;\n",
       "    }\n",
       "</style>\n",
       "<table border=\"1\" class=\"dataframe\">\n",
       "  <thead>\n",
       "    <tr style=\"text-align: right;\">\n",
       "      <th></th>\n",
       "      <th>rec_id</th>\n",
       "      <th>SPM_P10</th>\n",
       "      <th>SPM_Median</th>\n",
       "      <th>SPM_P90</th>\n",
       "      <th>Median_SPM_MOM_diff</th>\n",
       "      <th>P10_SPM_MOM_diff</th>\n",
       "      <th>P90_SPM_MOM_diff</th>\n",
       "    </tr>\n",
       "  </thead>\n",
       "  <tbody>\n",
       "    <tr>\n",
       "      <th>310</th>\n",
       "      <td>310</td>\n",
       "      <td>48.7</td>\n",
       "      <td>83.5</td>\n",
       "      <td>118.3</td>\n",
       "      <td>-119.5</td>\n",
       "      <td>-67.1</td>\n",
       "      <td>-159.1</td>\n",
       "    </tr>\n",
       "    <tr>\n",
       "      <th>311</th>\n",
       "      <td>311</td>\n",
       "      <td>51.4</td>\n",
       "      <td>113.0</td>\n",
       "      <td>204.2</td>\n",
       "      <td>29.5</td>\n",
       "      <td>2.7</td>\n",
       "      <td>85.9</td>\n",
       "    </tr>\n",
       "    <tr>\n",
       "      <th>312</th>\n",
       "      <td>312</td>\n",
       "      <td>119.4</td>\n",
       "      <td>246.5</td>\n",
       "      <td>300.0</td>\n",
       "      <td>133.5</td>\n",
       "      <td>68.0</td>\n",
       "      <td>95.8</td>\n",
       "    </tr>\n",
       "    <tr>\n",
       "      <th>313</th>\n",
       "      <td>313</td>\n",
       "      <td>106.1</td>\n",
       "      <td>203.0</td>\n",
       "      <td>259.9</td>\n",
       "      <td>-43.5</td>\n",
       "      <td>-13.3</td>\n",
       "      <td>-40.1</td>\n",
       "    </tr>\n",
       "    <tr>\n",
       "      <th>314</th>\n",
       "      <td>314</td>\n",
       "      <td>72.5</td>\n",
       "      <td>133.5</td>\n",
       "      <td>212.0</td>\n",
       "      <td>-69.5</td>\n",
       "      <td>-33.6</td>\n",
       "      <td>-47.9</td>\n",
       "    </tr>\n",
       "  </tbody>\n",
       "</table>\n",
       "</div>"
      ],
      "text/plain": [
       "     rec_id  SPM_P10  SPM_Median  SPM_P90  Median_SPM_MOM_diff  \\\n",
       "310     310     48.7        83.5    118.3               -119.5   \n",
       "311     311     51.4       113.0    204.2                 29.5   \n",
       "312     312    119.4       246.5    300.0                133.5   \n",
       "313     313    106.1       203.0    259.9                -43.5   \n",
       "314     314     72.5       133.5    212.0                -69.5   \n",
       "\n",
       "     P10_SPM_MOM_diff  P90_SPM_MOM_diff  \n",
       "310             -67.1            -159.1  \n",
       "311               2.7              85.9  \n",
       "312              68.0              95.8  \n",
       "313             -13.3             -40.1  \n",
       "314             -33.6             -47.9  "
      ]
     },
     "execution_count": 37,
     "metadata": {},
     "output_type": "execute_result"
    }
   ],
   "source": [
    "YearClusterDataNSo2.head()"
   ]
  },
  {
   "cell_type": "code",
   "execution_count": 40,
   "metadata": {},
   "outputs": [],
   "source": [
    "YearClusterDataNSo2=YearClusterDataNSo2[['SPM_P10','SPM_Median','SPM_P90','Median_SPM_MOM_diff','P10_SPM_MOM_diff','P90_SPM_MOM_diff']]"
   ]
  },
  {
   "cell_type": "code",
   "execution_count": 41,
   "metadata": {},
   "outputs": [
    {
     "data": {
      "text/plain": [
       "SPM_P10                0\n",
       "SPM_Median             0\n",
       "SPM_P90                0\n",
       "Median_SPM_MOM_diff    0\n",
       "P10_SPM_MOM_diff       0\n",
       "P90_SPM_MOM_diff       0\n",
       "dtype: int64"
      ]
     },
     "execution_count": 41,
     "metadata": {},
     "output_type": "execute_result"
    }
   ],
   "source": [
    "YearClusterDataNSo2.isnull().sum()"
   ]
  },
  {
   "cell_type": "code",
   "execution_count": 42,
   "metadata": {},
   "outputs": [
    {
     "data": {
      "text/plain": [
       "<matplotlib.axes._subplots.AxesSubplot at 0x21480603a20>"
      ]
     },
     "execution_count": 42,
     "metadata": {},
     "output_type": "execute_result"
    },
    {
     "data": {
      "image/png": "[encoded data removed]",
      "text/plain": [
       "<Figure size 432x288 with 1 Axes>"
      ]
     },
     "metadata": {},
     "output_type": "display_data"
    }
   ],
   "source": [
    "sns.boxplot(y=\"SPM_Median\", data=YearClusterDataNSo2)"
   ]
  },
  {
   "cell_type": "code",
   "execution_count": 43,
   "metadata": {},
   "outputs": [],
   "source": [
    "from sklearn.preprocessing import StandardScaler\n",
    "standard_scaler = StandardScaler()\n",
    "YearClusterDataNSo2_norm = standard_scaler.fit_transform(YearClusterDataNSo2)"
   ]
  },
  {
   "cell_type": "code",
   "execution_count": 44,
   "metadata": {},
   "outputs": [],
   "source": [
    "from sklearn.neighbors import NearestNeighbors\n",
    "from random import sample\n",
    "from numpy.random import uniform\n",
    "import numpy as np\n",
    "from math import isnan\n",
    " \n",
    "def hopkins(X):\n",
    "    d = X.shape[1]\n",
    "    #d = len(vars) # columns\n",
    "    n = len(X) # rows\n",
    "    m = int(0.1 * n) \n",
    "    nbrs = NearestNeighbors(n_neighbors=1).fit(X)\n",
    " \n",
    "    rand_X = sample(range(0, n, 1), m)\n",
    " \n",
    "    ujd = []\n",
    "    wjd = []\n",
    "    for j in range(0, m):\n",
    "        u_dist, _ = nbrs.kneighbors(uniform(np.amin(X,axis=0),np.amax(X,axis=0),d).reshape(1, -1), 2, return_distance=True)\n",
    "        ujd.append(u_dist[0][1])\n",
    "        w_dist, _ = nbrs.kneighbors(X[rand_X[j]].reshape(1, -1), 2, return_distance=True)\n",
    "        wjd.append(w_dist[0][1])\n",
    " \n",
    "    H = sum(ujd) / (sum(ujd) + sum(wjd))\n",
    "    if isnan(H):\n",
    "        print(ujd, wjd)\n",
    "        H = 0\n",
    " \n",
    "    return H"
   ]
  },
  {
   "cell_type": "code",
   "execution_count": 45,
   "metadata": {},
   "outputs": [
    {
     "data": {
      "text/plain": [
       "0.9155055038846958"
      ]
     },
     "execution_count": 45,
     "metadata": {},
     "output_type": "execute_result"
    }
   ],
   "source": [
    "hopkins(YearClusterDataNSo2_norm)"
   ]
  },
  {
   "cell_type": "code",
   "execution_count": 19,
   "metadata": {},
   "outputs": [
    {
     "data": {
      "image/png": "[encoded data removed]",
      "text/plain": [
       "<Figure size 432x288 with 1 Axes>"
      ]
     },
     "metadata": {},
     "output_type": "display_data"
    }
   ],
   "source": [
    "# heirarchical clustering\n",
    "mergings = linkage(YearClusterDataNSo2_norm, method = \"single\", metric='euclidean')\n",
    "dendrogram(mergings)\n",
    "plt.show()"
   ]
  },
  {
   "cell_type": "code",
   "execution_count": 46,
   "metadata": {},
   "outputs": [
    {
     "data": {
      "image/png": "[encoded data removed]",
      "text/plain": [
       "<Figure size 432x288 with 1 Axes>"
      ]
     },
     "metadata": {},
     "output_type": "display_data"
    }
   ],
   "source": [
    "# heirarchical clustering\n",
    "mergings = linkage(YearClusterDataNSo2_norm, method = \"complete\", metric='euclidean')\n",
    "dendrogram(mergings)\n",
    "plt.show()"
   ]
  },
  {
   "cell_type": "markdown",
   "metadata": {},
   "source": [
    "#### seems like 2 clusters"
   ]
  },
  {
   "cell_type": "code",
   "execution_count": 47,
   "metadata": {},
   "outputs": [
    {
     "data": {
      "text/html": [
       "<div>\n",
       "<style scoped>\n",
       "    .dataframe tbody tr th:only-of-type {\n",
       "        vertical-align: middle;\n",
       "    }\n",
       "\n",
       "    .dataframe tbody tr th {\n",
       "        vertical-align: top;\n",
       "    }\n",
       "\n",
       "    .dataframe thead th {\n",
       "        text-align: right;\n",
       "    }\n",
       "</style>\n",
       "<table border=\"1\" class=\"dataframe\">\n",
       "  <thead>\n",
       "    <tr style=\"text-align: right;\">\n",
       "      <th></th>\n",
       "      <th>rec_id</th>\n",
       "      <th>SPM_P10</th>\n",
       "      <th>SPM_Median</th>\n",
       "      <th>SPM_P90</th>\n",
       "      <th>Median_SPM_MOM_diff</th>\n",
       "      <th>P10_SPM_MOM_diff</th>\n",
       "      <th>P90_SPM_MOM_diff</th>\n",
       "    </tr>\n",
       "  </thead>\n",
       "  <tbody>\n",
       "    <tr>\n",
       "      <th>310</th>\n",
       "      <td>310</td>\n",
       "      <td>48.7</td>\n",
       "      <td>83.5</td>\n",
       "      <td>118.3</td>\n",
       "      <td>-119.5</td>\n",
       "      <td>-67.1</td>\n",
       "      <td>-159.1</td>\n",
       "    </tr>\n",
       "    <tr>\n",
       "      <th>311</th>\n",
       "      <td>311</td>\n",
       "      <td>51.4</td>\n",
       "      <td>113.0</td>\n",
       "      <td>204.2</td>\n",
       "      <td>29.5</td>\n",
       "      <td>2.7</td>\n",
       "      <td>85.9</td>\n",
       "    </tr>\n",
       "    <tr>\n",
       "      <th>312</th>\n",
       "      <td>312</td>\n",
       "      <td>119.4</td>\n",
       "      <td>246.5</td>\n",
       "      <td>300.0</td>\n",
       "      <td>133.5</td>\n",
       "      <td>68.0</td>\n",
       "      <td>95.8</td>\n",
       "    </tr>\n",
       "    <tr>\n",
       "      <th>313</th>\n",
       "      <td>313</td>\n",
       "      <td>106.1</td>\n",
       "      <td>203.0</td>\n",
       "      <td>259.9</td>\n",
       "      <td>-43.5</td>\n",
       "      <td>-13.3</td>\n",
       "      <td>-40.1</td>\n",
       "    </tr>\n",
       "    <tr>\n",
       "      <th>314</th>\n",
       "      <td>314</td>\n",
       "      <td>72.5</td>\n",
       "      <td>133.5</td>\n",
       "      <td>212.0</td>\n",
       "      <td>-69.5</td>\n",
       "      <td>-33.6</td>\n",
       "      <td>-47.9</td>\n",
       "    </tr>\n",
       "  </tbody>\n",
       "</table>\n",
       "</div>"
      ],
      "text/plain": [
       "     rec_id  SPM_P10  SPM_Median  SPM_P90  Median_SPM_MOM_diff  \\\n",
       "310     310     48.7        83.5    118.3               -119.5   \n",
       "311     311     51.4       113.0    204.2                 29.5   \n",
       "312     312    119.4       246.5    300.0                133.5   \n",
       "313     313    106.1       203.0    259.9                -43.5   \n",
       "314     314     72.5       133.5    212.0                -69.5   \n",
       "\n",
       "     P10_SPM_MOM_diff  P90_SPM_MOM_diff  \n",
       "310             -67.1            -159.1  \n",
       "311               2.7              85.9  \n",
       "312              68.0              95.8  \n",
       "313             -13.3             -40.1  \n",
       "314             -33.6             -47.9  "
      ]
     },
     "execution_count": 47,
     "metadata": {},
     "output_type": "execute_result"
    }
   ],
   "source": [
    "YearClusterDataNSo2_ori.head()"
   ]
  },
  {
   "cell_type": "markdown",
   "metadata": {},
   "source": [
    "### k-menas elbow and skilhoute recommedned 4"
   ]
  },
  {
   "cell_type": "code",
   "execution_count": 59,
   "metadata": {},
   "outputs": [],
   "source": [
    "YearClusterDataNSo2_ori.reset_index(drop=True, inplace=True)\n",
    "clusterCut.reset_index(drop=True, inplace=True)"
   ]
  },
  {
   "cell_type": "code",
   "execution_count": 95,
   "metadata": {},
   "outputs": [],
   "source": [
    "clusterCut = pd.Series(cut_tree(mergings, n_clusters = 4).reshape(-1,))\n",
    "YearClusterDataNSo2_OriClus = pd.concat([YearClusterDataNSo2_ori, clusterCut], axis=1)"
   ]
  },
  {
   "cell_type": "code",
   "execution_count": 96,
   "metadata": {},
   "outputs": [
    {
     "data": {
      "text/plain": [
       "(2862,)"
      ]
     },
     "execution_count": 96,
     "metadata": {},
     "output_type": "execute_result"
    }
   ],
   "source": [
    "clusterCut.shape"
   ]
  },
  {
   "cell_type": "code",
   "execution_count": 97,
   "metadata": {},
   "outputs": [
    {
     "data": {
      "text/plain": [
       "(2862, 7)"
      ]
     },
     "execution_count": 97,
     "metadata": {},
     "output_type": "execute_result"
    }
   ],
   "source": [
    "YearClusterDataNSo2_ori.shape"
   ]
  },
  {
   "cell_type": "code",
   "execution_count": 98,
   "metadata": {},
   "outputs": [
    {
     "data": {
      "text/plain": [
       "Index([             'rec_id',             'SPM_P10',          'SPM_Median',\n",
       "                   'SPM_P90', 'Median_SPM_MOM_diff',    'P10_SPM_MOM_diff',\n",
       "          'P90_SPM_MOM_diff',                     0],\n",
       "      dtype='object')"
      ]
     },
     "execution_count": 98,
     "metadata": {},
     "output_type": "execute_result"
    }
   ],
   "source": [
    "YearClusterDataNSo2_OriClus.columns"
   ]
  },
  {
   "cell_type": "code",
   "execution_count": 99,
   "metadata": {},
   "outputs": [],
   "source": [
    "YearClusterDataNSo2_OriClus.columns=['rec_id',             'SPM_P10',          'SPM_Median',\n",
    "                   'SPM_P90', 'Median_SPM_MOM_diff',    'P10_SPM_MOM_diff',\n",
    "          'P90_SPM_MOM_diff',    'ClusterId']"
   ]
  },
  {
   "cell_type": "code",
   "execution_count": 100,
   "metadata": {},
   "outputs": [
    {
     "data": {
      "text/plain": [
       "(2862, 8)"
      ]
     },
     "execution_count": 100,
     "metadata": {},
     "output_type": "execute_result"
    }
   ],
   "source": [
    "YearClusterDataNSo2_OriClus.shape"
   ]
  },
  {
   "cell_type": "code",
   "execution_count": 101,
   "metadata": {},
   "outputs": [
    {
     "data": {
      "text/html": [
       "<div>\n",
       "<style scoped>\n",
       "    .dataframe tbody tr th:only-of-type {\n",
       "        vertical-align: middle;\n",
       "    }\n",
       "\n",
       "    .dataframe tbody tr th {\n",
       "        vertical-align: top;\n",
       "    }\n",
       "\n",
       "    .dataframe thead th {\n",
       "        text-align: right;\n",
       "    }\n",
       "</style>\n",
       "<table border=\"1\" class=\"dataframe\">\n",
       "  <thead>\n",
       "    <tr style=\"text-align: right;\">\n",
       "      <th></th>\n",
       "      <th>rec_id</th>\n",
       "      <th>SPM_P10</th>\n",
       "      <th>SPM_Median</th>\n",
       "      <th>SPM_P90</th>\n",
       "      <th>Median_SPM_MOM_diff</th>\n",
       "      <th>P10_SPM_MOM_diff</th>\n",
       "      <th>P90_SPM_MOM_diff</th>\n",
       "      <th>ClusterId</th>\n",
       "    </tr>\n",
       "  </thead>\n",
       "  <tbody>\n",
       "    <tr>\n",
       "      <th>0</th>\n",
       "      <td>310</td>\n",
       "      <td>48.7</td>\n",
       "      <td>83.5</td>\n",
       "      <td>118.3</td>\n",
       "      <td>-119.5</td>\n",
       "      <td>-67.1</td>\n",
       "      <td>-159.1</td>\n",
       "      <td>0</td>\n",
       "    </tr>\n",
       "    <tr>\n",
       "      <th>1</th>\n",
       "      <td>311</td>\n",
       "      <td>51.4</td>\n",
       "      <td>113.0</td>\n",
       "      <td>204.2</td>\n",
       "      <td>29.5</td>\n",
       "      <td>2.7</td>\n",
       "      <td>85.9</td>\n",
       "      <td>1</td>\n",
       "    </tr>\n",
       "    <tr>\n",
       "      <th>2</th>\n",
       "      <td>312</td>\n",
       "      <td>119.4</td>\n",
       "      <td>246.5</td>\n",
       "      <td>300.0</td>\n",
       "      <td>133.5</td>\n",
       "      <td>68.0</td>\n",
       "      <td>95.8</td>\n",
       "      <td>1</td>\n",
       "    </tr>\n",
       "    <tr>\n",
       "      <th>3</th>\n",
       "      <td>313</td>\n",
       "      <td>106.1</td>\n",
       "      <td>203.0</td>\n",
       "      <td>259.9</td>\n",
       "      <td>-43.5</td>\n",
       "      <td>-13.3</td>\n",
       "      <td>-40.1</td>\n",
       "      <td>1</td>\n",
       "    </tr>\n",
       "    <tr>\n",
       "      <th>4</th>\n",
       "      <td>314</td>\n",
       "      <td>72.5</td>\n",
       "      <td>133.5</td>\n",
       "      <td>212.0</td>\n",
       "      <td>-69.5</td>\n",
       "      <td>-33.6</td>\n",
       "      <td>-47.9</td>\n",
       "      <td>0</td>\n",
       "    </tr>\n",
       "  </tbody>\n",
       "</table>\n",
       "</div>"
      ],
      "text/plain": [
       "   rec_id  SPM_P10  SPM_Median  SPM_P90  Median_SPM_MOM_diff  \\\n",
       "0     310     48.7        83.5    118.3               -119.5   \n",
       "1     311     51.4       113.0    204.2                 29.5   \n",
       "2     312    119.4       246.5    300.0                133.5   \n",
       "3     313    106.1       203.0    259.9                -43.5   \n",
       "4     314     72.5       133.5    212.0                -69.5   \n",
       "\n",
       "   P10_SPM_MOM_diff  P90_SPM_MOM_diff  ClusterId  \n",
       "0             -67.1            -159.1          0  \n",
       "1               2.7              85.9          1  \n",
       "2              68.0              95.8          1  \n",
       "3             -13.3             -40.1          1  \n",
       "4             -33.6             -47.9          0  "
      ]
     },
     "execution_count": 101,
     "metadata": {},
     "output_type": "execute_result"
    }
   ],
   "source": [
    "YearClusterDataNSo2_OriClus.head()"
   ]
  },
  {
   "cell_type": "code",
   "execution_count": 102,
   "metadata": {},
   "outputs": [],
   "source": [
    "clusters_SPM_Median = \tpd.DataFrame(YearClusterDataNSo2_OriClus.groupby([\"ClusterId\"]).SPM_Median.mean())\n",
    "clusters_SPM_P10 = \tpd.DataFrame(YearClusterDataNSo2_OriClus.groupby([\"ClusterId\"]).SPM_P10.mean())\n",
    "clusters_SPM_P90 = \tpd.DataFrame(YearClusterDataNSo2_OriClus.groupby([\"ClusterId\"]).SPM_P90.mean())\n",
    "clusters_Median_SPM_MOM_diff = \tpd.DataFrame(YearClusterDataNSo2_OriClus.groupby([\"ClusterId\"]).Median_SPM_MOM_diff.mean())\n",
    "clusters_P10_SPM_MOM_diff = \tpd.DataFrame(YearClusterDataNSo2_OriClus.groupby([\"ClusterId\"]).P10_SPM_MOM_diff.mean())\n",
    "clusters_P90_SPM_MOM_diff = \tpd.DataFrame(YearClusterDataNSo2_OriClus.groupby([\"ClusterId\"]).P90_SPM_MOM_diff.mean())"
   ]
  },
  {
   "cell_type": "code",
   "execution_count": 105,
   "metadata": {},
   "outputs": [
    {
     "data": {
      "text/html": [
       "<div>\n",
       "<style scoped>\n",
       "    .dataframe tbody tr th:only-of-type {\n",
       "        vertical-align: middle;\n",
       "    }\n",
       "\n",
       "    .dataframe tbody tr th {\n",
       "        vertical-align: top;\n",
       "    }\n",
       "\n",
       "    .dataframe thead th {\n",
       "        text-align: right;\n",
       "    }\n",
       "</style>\n",
       "<table border=\"1\" class=\"dataframe\">\n",
       "  <thead>\n",
       "    <tr style=\"text-align: right;\">\n",
       "      <th></th>\n",
       "      <th>ClusterID</th>\n",
       "      <th>clusters_SPM_P10</th>\n",
       "      <th>clusters_P10_SPM_MOM_diff</th>\n",
       "      <th>clusters_SPM_Median</th>\n",
       "      <th>clusters_Median_SPM_MOM_diff</th>\n",
       "      <th>clusters_SPM_P90</th>\n",
       "      <th>clusters_P90_SPM_MOM_diff</th>\n",
       "    </tr>\n",
       "  </thead>\n",
       "  <tbody>\n",
       "    <tr>\n",
       "      <th>0</th>\n",
       "      <td>0</td>\n",
       "      <td>171.092756</td>\n",
       "      <td>-38.432965</td>\n",
       "      <td>207.774517</td>\n",
       "      <td>-49.244653</td>\n",
       "      <td>255.948076</td>\n",
       "      <td>-51.065487</td>\n",
       "    </tr>\n",
       "    <tr>\n",
       "      <th>1</th>\n",
       "      <td>1</td>\n",
       "      <td>143.065181</td>\n",
       "      <td>12.066009</td>\n",
       "      <td>182.792853</td>\n",
       "      <td>16.442040</td>\n",
       "      <td>233.504887</td>\n",
       "      <td>18.694293</td>\n",
       "    </tr>\n",
       "    <tr>\n",
       "      <th>2</th>\n",
       "      <td>2</td>\n",
       "      <td>295.052778</td>\n",
       "      <td>132.764167</td>\n",
       "      <td>360.395833</td>\n",
       "      <td>155.680556</td>\n",
       "      <td>396.423611</td>\n",
       "      <td>127.342500</td>\n",
       "    </tr>\n",
       "    <tr>\n",
       "      <th>3</th>\n",
       "      <td>3</td>\n",
       "      <td>131.142857</td>\n",
       "      <td>-253.285714</td>\n",
       "      <td>131.142857</td>\n",
       "      <td>-253.285714</td>\n",
       "      <td>131.142857</td>\n",
       "      <td>-253.285714</td>\n",
       "    </tr>\n",
       "  </tbody>\n",
       "</table>\n",
       "</div>"
      ],
      "text/plain": [
       "   ClusterID  clusters_SPM_P10  clusters_P10_SPM_MOM_diff  \\\n",
       "0          0        171.092756                 -38.432965   \n",
       "1          1        143.065181                  12.066009   \n",
       "2          2        295.052778                 132.764167   \n",
       "3          3        131.142857                -253.285714   \n",
       "\n",
       "   clusters_SPM_Median  clusters_Median_SPM_MOM_diff  clusters_SPM_P90  \\\n",
       "0           207.774517                    -49.244653        255.948076   \n",
       "1           182.792853                     16.442040        233.504887   \n",
       "2           360.395833                    155.680556        396.423611   \n",
       "3           131.142857                   -253.285714        131.142857   \n",
       "\n",
       "   clusters_P90_SPM_MOM_diff  \n",
       "0                 -51.065487  \n",
       "1                  18.694293  \n",
       "2                 127.342500  \n",
       "3                -253.285714  "
      ]
     },
     "execution_count": 105,
     "metadata": {},
     "output_type": "execute_result"
    }
   ],
   "source": [
    "df = pd.concat([pd.Series([0,1,2,3]), clusters_SPM_P10,clusters_P10_SPM_MOM_diff,clusters_SPM_Median,clusters_Median_SPM_MOM_diff,  clusters_SPM_P90,clusters_P90_SPM_MOM_diff], axis=1)\n",
    "df.columns = [\"ClusterID\", \"clusters_SPM_P10\", \"clusters_P10_SPM_MOM_diff\", \"clusters_SPM_Median\",\"clusters_Median_SPM_MOM_diff\",\"clusters_SPM_P90\",\"clusters_P90_SPM_MOM_diff\"]\n",
    "df.head()"
   ]
  },
  {
   "cell_type": "code",
   "execution_count": 106,
   "metadata": {},
   "outputs": [
    {
     "data": {
      "text/plain": [
       "<matplotlib.axes._subplots.AxesSubplot at 0x21482962710>"
      ]
     },
     "execution_count": 106,
     "metadata": {},
     "output_type": "execute_result"
    },
    {
     "data": {
      "image/png": "[encoded data removed]",
      "text/plain": [
       "<Figure size 432x288 with 1 Axes>"
      ]
     },
     "metadata": {},
     "output_type": "display_data"
    }
   ],
   "source": [
    "#plotting barplot\n",
    "sns.barplot(x=df.ClusterID, y=df.clusters_SPM_P10)"
   ]
  },
  {
   "cell_type": "code",
   "execution_count": 107,
   "metadata": {},
   "outputs": [
    {
     "data": {
      "text/plain": [
       "<matplotlib.axes._subplots.AxesSubplot at 0x21482ee46a0>"
      ]
     },
     "execution_count": 107,
     "metadata": {},
     "output_type": "execute_result"
    },
    {
     "data": {
      "image/png": "[encoded data removed]",
      "text/plain": [
       "<Figure size 432x288 with 1 Axes>"
      ]
     },
     "metadata": {},
     "output_type": "display_data"
    }
   ],
   "source": [
    "#plotting barplot\n",
    "sns.barplot(x=df.ClusterID, y=df.clusters_SPM_Median)"
   ]
  },
  {
   "cell_type": "code",
   "execution_count": 108,
   "metadata": {},
   "outputs": [
    {
     "data": {
      "text/plain": [
       "<matplotlib.axes._subplots.AxesSubplot at 0x2148294e9b0>"
      ]
     },
     "execution_count": 108,
     "metadata": {},
     "output_type": "execute_result"
    },
    {
     "data": {
      "image/png": "[encoded data removed]",
      "text/plain": [
       "<Figure size 432x288 with 1 Axes>"
      ]
     },
     "metadata": {},
     "output_type": "display_data"
    }
   ],
   "source": [
    "#plotting barplot\n",
    "sns.barplot(x=df.ClusterID, y=df.clusters_SPM_P90)"
   ]
  },
  {
   "cell_type": "code",
   "execution_count": 109,
   "metadata": {},
   "outputs": [
    {
     "data": {
      "text/plain": [
       "Index(['ClusterID', 'clusters_SPM_P10', 'clusters_P10_SPM_MOM_diff',\n",
       "       'clusters_SPM_Median', 'clusters_Median_SPM_MOM_diff',\n",
       "       'clusters_SPM_P90', 'clusters_P90_SPM_MOM_diff'],\n",
       "      dtype='object')"
      ]
     },
     "execution_count": 109,
     "metadata": {},
     "output_type": "execute_result"
    }
   ],
   "source": [
    "df.columns"
   ]
  },
  {
   "cell_type": "code",
   "execution_count": 110,
   "metadata": {},
   "outputs": [
    {
     "name": "stdout",
     "output_type": "stream",
     "text": [
      "                      variables      values\n",
      "0                     ClusterID    0.000000\n",
      "1              clusters_SPM_P10  171.092756\n",
      "2     clusters_P10_SPM_MOM_diff  -38.432965\n",
      "3           clusters_SPM_Median  207.774517\n",
      "4  clusters_Median_SPM_MOM_diff  -49.244653\n",
      "5              clusters_SPM_P90  255.948076\n",
      "6     clusters_P90_SPM_MOM_diff  -51.065487\n",
      "                      variables      values\n",
      "0                     ClusterID    1.000000\n",
      "1              clusters_SPM_P10  143.065181\n",
      "2     clusters_P10_SPM_MOM_diff   12.066009\n",
      "3           clusters_SPM_Median  182.792853\n",
      "4  clusters_Median_SPM_MOM_diff   16.442040\n",
      "5              clusters_SPM_P90  233.504887\n",
      "6     clusters_P90_SPM_MOM_diff   18.694293\n",
      "                      variables      values\n",
      "0                     ClusterID    2.000000\n",
      "1              clusters_SPM_P10  295.052778\n",
      "2     clusters_P10_SPM_MOM_diff  132.764167\n",
      "3           clusters_SPM_Median  360.395833\n",
      "4  clusters_Median_SPM_MOM_diff  155.680556\n",
      "5              clusters_SPM_P90  396.423611\n",
      "6     clusters_P90_SPM_MOM_diff  127.342500\n",
      "                      variables      values\n",
      "0                     ClusterID    3.000000\n",
      "1              clusters_SPM_P10  131.142857\n",
      "2     clusters_P10_SPM_MOM_diff -253.285714\n",
      "3           clusters_SPM_Median  131.142857\n",
      "4  clusters_Median_SPM_MOM_diff -253.285714\n",
      "5              clusters_SPM_P90  131.142857\n",
      "6     clusters_P90_SPM_MOM_diff -253.285714\n"
     ]
    },
    {
     "data": {
      "image/png": "[encoded data removed]",
      "text/plain": [
       "<Figure size 1080x360 with 4 Axes>"
      ]
     },
     "metadata": {},
     "output_type": "display_data"
    }
   ],
   "source": [
    "plt.figure(figsize = (15,5))\n",
    "for i in range(0, 4):    \n",
    "    ClusterOne=np.transpose(df[df.ClusterID==i])\n",
    "    ClusterOne.reset_index(inplace=True)\n",
    "    ClusterOne.columns=['variables', 'values']\n",
    "    ClusterOne['values']=ClusterOne['values'].map(float)\n",
    "    print(ClusterOne)\n",
    "    plt.subplot(2, 3, i+1)\n",
    "    t=sns.barplot(x='variables',y='values',data=ClusterOne)\n",
    "    t.set_xticklabels(labels=ClusterOne.variables,rotation=90)"
   ]
  },
  {
   "cell_type": "code",
   "execution_count": 111,
   "metadata": {},
   "outputs": [
    {
     "data": {
      "text/plain": [
       "Index(['rec_id', 'SPM_P10', 'SPM_Median', 'SPM_P90', 'Median_SPM_MOM_diff',\n",
       "       'P10_SPM_MOM_diff', 'P90_SPM_MOM_diff', 'ClusterId'],\n",
       "      dtype='object')"
      ]
     },
     "execution_count": 111,
     "metadata": {},
     "output_type": "execute_result"
    }
   ],
   "source": [
    "YearClusterDataNSo2_OriClus.columns"
   ]
  },
  {
   "cell_type": "code",
   "execution_count": 112,
   "metadata": {},
   "outputs": [],
   "source": [
    "woyCluster=YearClusterDataNSo2_OriClus[['rec_id','ClusterId']]"
   ]
  },
  {
   "cell_type": "code",
   "execution_count": 113,
   "metadata": {},
   "outputs": [],
   "source": [
    "Base_polpop_iell_csrf_ClusWoYear=Base_polpop_iell_csrf.merge(woyCluster,how='left', suffixes=('_data', '_cluster'),left_on=['rec_id'], right_on=['rec_id'])"
   ]
  },
  {
   "cell_type": "code",
   "execution_count": 114,
   "metadata": {},
   "outputs": [
    {
     "data": {
      "text/plain": [
       "Index(['Unnamed: 0', 'City_poll', 'Type_of_Location', 'year_number',\n",
       "       'month_number', 'NO2_Median', 'RSPM_PM10_Median', 'SO2_Median',\n",
       "       'SPM_Median', 'Median_SO2_MOM_diff',\n",
       "       ...\n",
       "       'Main_District_Highway_per', 'Other_district_Rural_Roads_per',\n",
       "       'indus_by_overall', 'indus_by_forest', 'indus_by_nonforest', 'rec_id',\n",
       "       'RainPerArea', 'CarSalesPerArea', 'RainPerCarSales', 'ClusterId'],\n",
       "      dtype='object', length=107)"
      ]
     },
     "execution_count": 114,
     "metadata": {},
     "output_type": "execute_result"
    }
   ],
   "source": [
    "Base_polpop_iell_csrf_ClusWoYear.columns"
   ]
  },
  {
   "cell_type": "code",
   "execution_count": 115,
   "metadata": {},
   "outputs": [],
   "source": [
    "Base_ClusWoYear=Base_polpop_iell_csrf_ClusWoYear[['City_poll','Type_of_Location', 'ClusterId','year_number','month_number']]"
   ]
  },
  {
   "cell_type": "code",
   "execution_count": 116,
   "metadata": {},
   "outputs": [
    {
     "data": {
      "text/html": [
       "<div>\n",
       "<style scoped>\n",
       "    .dataframe tbody tr th:only-of-type {\n",
       "        vertical-align: middle;\n",
       "    }\n",
       "\n",
       "    .dataframe tbody tr th {\n",
       "        vertical-align: top;\n",
       "    }\n",
       "\n",
       "    .dataframe thead th {\n",
       "        text-align: right;\n",
       "    }\n",
       "</style>\n",
       "<table border=\"1\" class=\"dataframe\">\n",
       "  <thead>\n",
       "    <tr style=\"text-align: right;\">\n",
       "      <th></th>\n",
       "      <th>City_poll</th>\n",
       "      <th>Type_of_Location</th>\n",
       "      <th>ClusterId</th>\n",
       "      <th>year_number</th>\n",
       "      <th>month_number</th>\n",
       "    </tr>\n",
       "  </thead>\n",
       "  <tbody>\n",
       "    <tr>\n",
       "      <th>0</th>\n",
       "      <td>AKOLA</td>\n",
       "      <td>Industrial</td>\n",
       "      <td>NaN</td>\n",
       "      <td>2011</td>\n",
       "      <td>1.0</td>\n",
       "    </tr>\n",
       "    <tr>\n",
       "      <th>1</th>\n",
       "      <td>AKOLA</td>\n",
       "      <td>Industrial</td>\n",
       "      <td>NaN</td>\n",
       "      <td>2011</td>\n",
       "      <td>2.0</td>\n",
       "    </tr>\n",
       "    <tr>\n",
       "      <th>2</th>\n",
       "      <td>AKOLA</td>\n",
       "      <td>Industrial</td>\n",
       "      <td>NaN</td>\n",
       "      <td>2011</td>\n",
       "      <td>3.0</td>\n",
       "    </tr>\n",
       "    <tr>\n",
       "      <th>3</th>\n",
       "      <td>AKOLA</td>\n",
       "      <td>Industrial</td>\n",
       "      <td>NaN</td>\n",
       "      <td>2011</td>\n",
       "      <td>4.0</td>\n",
       "    </tr>\n",
       "    <tr>\n",
       "      <th>4</th>\n",
       "      <td>AKOLA</td>\n",
       "      <td>Industrial</td>\n",
       "      <td>NaN</td>\n",
       "      <td>2011</td>\n",
       "      <td>5.0</td>\n",
       "    </tr>\n",
       "  </tbody>\n",
       "</table>\n",
       "</div>"
      ],
      "text/plain": [
       "  City_poll Type_of_Location  ClusterId  year_number  month_number\n",
       "0     AKOLA       Industrial        NaN         2011           1.0\n",
       "1     AKOLA       Industrial        NaN         2011           2.0\n",
       "2     AKOLA       Industrial        NaN         2011           3.0\n",
       "3     AKOLA       Industrial        NaN         2011           4.0\n",
       "4     AKOLA       Industrial        NaN         2011           5.0"
      ]
     },
     "execution_count": 116,
     "metadata": {},
     "output_type": "execute_result"
    }
   ],
   "source": [
    "Base_ClusWoYear.head()"
   ]
  },
  {
   "cell_type": "code",
   "execution_count": 117,
   "metadata": {},
   "outputs": [],
   "source": [
    "Base_ClusWoYear=Base_ClusWoYear.sort_values(by=['City_poll', 'year_number','month_number'])"
   ]
  },
  {
   "cell_type": "code",
   "execution_count": 118,
   "metadata": {},
   "outputs": [
    {
     "data": {
      "text/plain": [
       "(5715, 5)"
      ]
     },
     "execution_count": 118,
     "metadata": {},
     "output_type": "execute_result"
    }
   ],
   "source": [
    "Base_ClusWoYear.shape"
   ]
  },
  {
   "cell_type": "code",
   "execution_count": 119,
   "metadata": {},
   "outputs": [
    {
     "data": {
      "text/html": [
       "<div>\n",
       "<style scoped>\n",
       "    .dataframe tbody tr th:only-of-type {\n",
       "        vertical-align: middle;\n",
       "    }\n",
       "\n",
       "    .dataframe tbody tr th {\n",
       "        vertical-align: top;\n",
       "    }\n",
       "\n",
       "    .dataframe thead th {\n",
       "        text-align: right;\n",
       "    }\n",
       "</style>\n",
       "<table border=\"1\" class=\"dataframe\">\n",
       "  <thead>\n",
       "    <tr style=\"text-align: right;\">\n",
       "      <th></th>\n",
       "      <th>City_poll</th>\n",
       "      <th>Type_of_Location</th>\n",
       "      <th>ClusterId</th>\n",
       "      <th>year_number</th>\n",
       "      <th>month_number</th>\n",
       "    </tr>\n",
       "  </thead>\n",
       "  <tbody>\n",
       "    <tr>\n",
       "      <th>0</th>\n",
       "      <td>AKOLA</td>\n",
       "      <td>Industrial</td>\n",
       "      <td>NaN</td>\n",
       "      <td>2011</td>\n",
       "      <td>1.0</td>\n",
       "    </tr>\n",
       "    <tr>\n",
       "      <th>12</th>\n",
       "      <td>AKOLA</td>\n",
       "      <td>Residential</td>\n",
       "      <td>NaN</td>\n",
       "      <td>2011</td>\n",
       "      <td>1.0</td>\n",
       "    </tr>\n",
       "    <tr>\n",
       "      <th>1</th>\n",
       "      <td>AKOLA</td>\n",
       "      <td>Industrial</td>\n",
       "      <td>NaN</td>\n",
       "      <td>2011</td>\n",
       "      <td>2.0</td>\n",
       "    </tr>\n",
       "    <tr>\n",
       "      <th>13</th>\n",
       "      <td>AKOLA</td>\n",
       "      <td>Residential</td>\n",
       "      <td>NaN</td>\n",
       "      <td>2011</td>\n",
       "      <td>2.0</td>\n",
       "    </tr>\n",
       "    <tr>\n",
       "      <th>2</th>\n",
       "      <td>AKOLA</td>\n",
       "      <td>Industrial</td>\n",
       "      <td>NaN</td>\n",
       "      <td>2011</td>\n",
       "      <td>3.0</td>\n",
       "    </tr>\n",
       "  </tbody>\n",
       "</table>\n",
       "</div>"
      ],
      "text/plain": [
       "   City_poll Type_of_Location  ClusterId  year_number  month_number\n",
       "0      AKOLA       Industrial        NaN         2011           1.0\n",
       "12     AKOLA      Residential        NaN         2011           1.0\n",
       "1      AKOLA       Industrial        NaN         2011           2.0\n",
       "13     AKOLA      Residential        NaN         2011           2.0\n",
       "2      AKOLA       Industrial        NaN         2011           3.0"
      ]
     },
     "execution_count": 119,
     "metadata": {},
     "output_type": "execute_result"
    }
   ],
   "source": [
    "Base_ClusWoYear.head()"
   ]
  },
  {
   "cell_type": "code",
   "execution_count": 121,
   "metadata": {},
   "outputs": [],
   "source": [
    "Base_ClusWoYear.to_csv(path_or_buf ='C:\\MS\\EDA\\Base_spm5_24oct.csv')"
   ]
  },
  {
   "cell_type": "code",
   "execution_count": null,
   "metadata": {},
   "outputs": [],
   "source": []
  },
  {
   "cell_type": "markdown",
   "metadata": {},
   "source": [
    "---- kmeans"
   ]
  },
  {
   "cell_type": "code",
   "execution_count": 89,
   "metadata": {},
   "outputs": [
    {
     "data": {
      "text/plain": [
       "KMeans(algorithm='auto', copy_x=True, init='k-means++', max_iter=50,\n",
       "    n_clusters=4, n_init=10, n_jobs=1, precompute_distances='auto',\n",
       "    random_state=None, tol=0.0001, verbose=0)"
      ]
     },
     "execution_count": 89,
     "metadata": {},
     "output_type": "execute_result"
    }
   ],
   "source": [
    "# Kmeans with K=4\n",
    "model_clus5 = KMeans(n_clusters = 4, max_iter=50)\n",
    "model_clus5.fit(YearClusterDataNSo2_norm)"
   ]
  },
  {
   "cell_type": "markdown",
   "metadata": {},
   "source": [
    "## Silhouette Analysis\n",
    "\n",
    "$$\\text{silhouette score}=\\frac{p-q}{max(p,q)}$$\n",
    "\n",
    "$p$ is the mean distance to the points in the nearest cluster that the data point is not a part of\n",
    "\n",
    "$q$ is the mean intra-cluster distance to all the points in its own cluster.\n",
    "\n",
    "* The value of the silhouette score range lies between -1 to 1. \n",
    "\n",
    "* A score closer to 1 indicates that the data point is very similar to other data points in the cluster, \n",
    "\n",
    "* A score closer to -1 indicates that the data point is not similar to the data points in its cluster.m"
   ]
  },
  {
   "cell_type": "code",
   "execution_count": 90,
   "metadata": {},
   "outputs": [],
   "source": [
    "from sklearn.metrics import silhouette_score\n",
    "sse_ = []\n",
    "for k in range(2, 15):\n",
    "    kmeans = KMeans(n_clusters=k).fit(YearClusterDataNSo2_norm)\n",
    "    sse_.append([k, silhouette_score(YearClusterDataNSo2_norm, kmeans.labels_)])"
   ]
  },
  {
   "cell_type": "code",
   "execution_count": 91,
   "metadata": {},
   "outputs": [
    {
     "data": {
      "image/png": "[encoded data removed]",
      "text/plain": [
       "<Figure size 432x288 with 1 Axes>"
      ]
     },
     "metadata": {},
     "output_type": "display_data"
    }
   ],
   "source": [
    "plt.plot(pd.DataFrame(sse_)[0], pd.DataFrame(sse_)[1]);"
   ]
  },
  {
   "cell_type": "markdown",
   "metadata": {},
   "source": [
    "### 4 seems to get a spike"
   ]
  },
  {
   "cell_type": "code",
   "execution_count": 94,
   "metadata": {},
   "outputs": [
    {
     "data": {
      "text/plain": [
       "[<matplotlib.lines.Line2D at 0x21482750d68>]"
      ]
     },
     "execution_count": 94,
     "metadata": {},
     "output_type": "execute_result"
    },
    {
     "data": {
      "image/png": "[encoded data removed]",
      "text/plain": [
       "<Figure size 432x288 with 1 Axes>"
      ]
     },
     "metadata": {},
     "output_type": "display_data"
    }
   ],
   "source": [
    "# sum of squared distances\n",
    "ssd = []\n",
    "for num_clusters in list(range(1,21)):\n",
    "    model_clus = KMeans(n_clusters = num_clusters, max_iter=50)\n",
    "    model_clus.fit(YearClusterDataNSo2_norm)\n",
    "    ssd.append(model_clus.inertia_)\n",
    "plt.xticks(np.arange(1, 21, 1.0))\n",
    "plt.plot(ssd)\n"
   ]
  },
  {
   "cell_type": "markdown",
   "metadata": {},
   "source": [
    "#### 5 is at a lower end may be four truely is better"
   ]
  },
  {
   "cell_type": "code",
   "execution_count": null,
   "metadata": {},
   "outputs": [],
   "source": []
  },
  {
   "cell_type": "code",
   "execution_count": null,
   "metadata": {},
   "outputs": [],
   "source": []
  }
 ],
 "metadata": {
  "kernelspec": {
   "display_name": "Python 3",
   "language": "python",
   "name": "python3"
  },
  "language_info": {
   "codemirror_mode": {
    "name": "ipython",
    "version": 3
   },
   "file_extension": ".py",
   "mimetype": "text/x-python",
   "name": "python",
   "nbconvert_exporter": "python",
   "pygments_lexer": "ipython3",
   "version": "3.6.5"
  }
 },
 "nbformat": 4,
 "nbformat_minor": 2
}
