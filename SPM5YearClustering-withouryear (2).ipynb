{
 "cells": [
  {
   "cell_type": "code",
   "execution_count": 1,
   "metadata": {},
   "outputs": [],
   "source": [
    "# Supress Warnings\n",
    "import warnings\n",
    "warnings.filterwarnings('ignore')\n",
    "import numpy as np\n",
    "import pandas as pd\n",
    "import matplotlib.pyplot as plt\n",
    "import seaborn as sns"
   ]
  },
  {
   "cell_type": "code",
   "execution_count": 2,
   "metadata": {},
   "outputs": [],
   "source": [
    "# To Scale our data\n",
    "from sklearn.preprocessing import scale\n",
    "\n",
    "# To perform KMeans clustering \n",
    "from sklearn.cluster import KMeans\n",
    "\n",
    "# To perform Hierarchical clustering\n",
    "from scipy.cluster.hierarchy import linkage\n",
    "from scipy.cluster.hierarchy import dendrogram\n",
    "from scipy.cluster.hierarchy import cut_tree"
   ]
  },
  {
   "cell_type": "code",
   "execution_count": 3,
   "metadata": {},
   "outputs": [],
   "source": [
    "Base_polpop_iell_csrf=pd.read_csv('E:\\MS\\Base_polpop_iell_csrf_17oct.csv')"
   ]
  },
  {
   "cell_type": "code",
   "execution_count": 20,
   "metadata": {},
   "outputs": [],
   "source": [
    "Base_polpop_iell_csrf=Base_polpop_iell_csrf.loc[~Base_polpop_iell_csrf.rec_id.isin(['1138','1150','1198','2365','4090','4824','4834'])]"
   ]
  },
  {
   "cell_type": "code",
   "execution_count": 21,
   "metadata": {},
   "outputs": [
    {
     "data": {
      "text/html": [
       "<div>\n",
       "<style scoped>\n",
       "    .dataframe tbody tr th:only-of-type {\n",
       "        vertical-align: middle;\n",
       "    }\n",
       "\n",
       "    .dataframe tbody tr th {\n",
       "        vertical-align: top;\n",
       "    }\n",
       "\n",
       "    .dataframe thead th {\n",
       "        text-align: right;\n",
       "    }\n",
       "</style>\n",
       "<table border=\"1\" class=\"dataframe\">\n",
       "  <thead>\n",
       "    <tr style=\"text-align: right;\">\n",
       "      <th></th>\n",
       "      <th>Unnamed: 0</th>\n",
       "      <th>City_poll</th>\n",
       "      <th>Type_of_Location</th>\n",
       "      <th>year_number</th>\n",
       "      <th>month_number</th>\n",
       "      <th>NO2_Median</th>\n",
       "      <th>RSPM_PM10_Median</th>\n",
       "      <th>SO2_Median</th>\n",
       "      <th>SPM_Median</th>\n",
       "      <th>Median_SO2_MOM_diff</th>\n",
       "      <th>...</th>\n",
       "      <th>State_Highway_per</th>\n",
       "      <th>Main_District_Highway_per</th>\n",
       "      <th>Other_district_Rural_Roads_per</th>\n",
       "      <th>indus_by_overall</th>\n",
       "      <th>indus_by_forest</th>\n",
       "      <th>indus_by_nonforest</th>\n",
       "      <th>rec_id</th>\n",
       "      <th>RainPerArea</th>\n",
       "      <th>CarSalesPerArea</th>\n",
       "      <th>RainPerCarSales</th>\n",
       "    </tr>\n",
       "  </thead>\n",
       "  <tbody>\n",
       "  </tbody>\n",
       "</table>\n",
       "<p>0 rows × 106 columns</p>\n",
       "</div>"
      ],
      "text/plain": [
       "Empty DataFrame\n",
       "Columns: [Unnamed: 0, City_poll, Type_of_Location, year_number, month_number, NO2_Median, RSPM_PM10_Median, SO2_Median, SPM_Median, Median_SO2_MOM_diff, Median_NO2_MOM_diff, Median_RSPM_PM10_MOM_diff, Median_SPM_MOM_diff, NO2_P10, RSPM_PM10_P10, SO2_P10, SPM_P10, P10_NO2_MOM_diff, P10_SO2_MOM_diff, P10_RSPM_PM10_MOM_diff, P10_SPM_MOM_diff, NO2_P90, RSPM_PM10_P90, SO2_P90, SPM_P90, month_number_diff, P90_NO2_MOM_diff, P90_SO2_MOM_diff, P90_RSPM_PM10_MOM_diff, P90_SPM_MOM_diff, year_number_diff, NO2_Median_YOY_diff, SO2_Median_YOY_diff, RSPM_PM10_Median_YOY_diff, SPM_Median_YOY_diff, NO2_P10_YOY_diff, SO2_P10_YOY_diff, RSPM_PM10_P10_YOY_diff, SPM_P10_YOY_diff, NO2_P90_YOY_diff, SO2_P90_YOY_diff, RSPM_PM10_P90_YOY_diff, SPM_P90_YOY_diff, city_pp, Year_pp, Male, Female, Total, Population_Density, Sex_Ratio, Literacy_Rate, City, elevation_in_mtrs, lowlatitude, highlatitude, lowlongitude, highlongitude, forestarea_in_thhector, forestarea_in_percentage, overall_area_thhector, non_forest_area, non_forest_area_percentage, Non_Agriculturea_Land, Non_Agriculturea_Land_percentage, Cultivablea_Barrena_land, Cultivablea_Barrena_land_percentage, National_Highway_km, State_Highway_km, Main_District_Highway_km, Other_district_Rural_Roads_km, Length_of_rail_line_km, Industrial_Areas_hectare, micro_industries_manu, small_industries_manu, medium_industries_manu, large_industries_manu, micro_industries_services, small_industries_services, medium_industries_services, large_industries_services, micrototal, smalltotal, mediumtotal, largetotal, manu_total, service_total, industrytotal, year_cs, city_cs, carsales_count_thousands, city_rf, Year_rf, month_rf, rainfall, total_road, National_Highway_per, State_Highway_per, Main_District_Highway_per, Other_district_Rural_Roads_per, indus_by_overall, ...]\n",
       "Index: []\n",
       "\n",
       "[0 rows x 106 columns]"
      ]
     },
     "execution_count": 21,
     "metadata": {},
     "output_type": "execute_result"
    }
   ],
   "source": [
    "Base_polpop_iell_csrf.loc[Base_polpop_iell_csrf.rec_id.isin(['1138','1150','1198','2365','4090','4824','4834'])]"
   ]
  },
  {
   "cell_type": "code",
   "execution_count": null,
   "metadata": {},
   "outputs": [],
   "source": [
    "for i in Base_polpop_iell_csrf.columns:\n",
    "    print(i)"
   ]
  },
  {
   "cell_type": "code",
   "execution_count": 22,
   "metadata": {},
   "outputs": [],
   "source": [
    "YearClusterDataNSo2=Base_polpop_iell_csrf[['rec_id','SPM_P10','SPM_Median','SPM_P90','Median_SPM_MOM_diff','P10_SPM_MOM_diff','P90_SPM_MOM_diff']]"
   ]
  },
  {
   "cell_type": "code",
   "execution_count": 23,
   "metadata": {},
   "outputs": [],
   "source": [
    "#YearClusterDataNSo2=Base_polpop_iell_csrf[['rec_id','SPM_P10','SPM_Median','SPM_P90','Median_SPM_MOM_diff','P10_SPM_MOM_diff','P90_SPM_MOM_diff','SPM_Median_YOY_diff','SPM_P10_YOY_diff','SPM_P90_YOY_diff']]"
   ]
  },
  {
   "cell_type": "code",
   "execution_count": 24,
   "metadata": {},
   "outputs": [
    {
     "data": {
      "text/plain": [
       "rec_id                 False\n",
       "SPM_P10                 True\n",
       "SPM_Median              True\n",
       "SPM_P90                 True\n",
       "Median_SPM_MOM_diff     True\n",
       "P10_SPM_MOM_diff        True\n",
       "P90_SPM_MOM_diff        True\n",
       "dtype: bool"
      ]
     },
     "execution_count": 24,
     "metadata": {},
     "output_type": "execute_result"
    }
   ],
   "source": [
    "YearClusterDataNSo2.isnull().any(axis=0) "
   ]
  },
  {
   "cell_type": "code",
   "execution_count": 25,
   "metadata": {},
   "outputs": [
    {
     "data": {
      "text/plain": [
       "rec_id                    0\n",
       "SPM_P10                2725\n",
       "SPM_Median             2725\n",
       "SPM_P90                2725\n",
       "Median_SPM_MOM_diff    2853\n",
       "P10_SPM_MOM_diff       2853\n",
       "P90_SPM_MOM_diff       2853\n",
       "dtype: int64"
      ]
     },
     "execution_count": 25,
     "metadata": {},
     "output_type": "execute_result"
    }
   ],
   "source": [
    "YearClusterDataNSo2.isnull().sum()"
   ]
  },
  {
   "cell_type": "code",
   "execution_count": 26,
   "metadata": {},
   "outputs": [],
   "source": [
    "YearClusterDataNSo2.dropna(inplace=True)"
   ]
  },
  {
   "cell_type": "code",
   "execution_count": 27,
   "metadata": {},
   "outputs": [
    {
     "data": {
      "text/plain": [
       "rec_id                 0\n",
       "SPM_P10                0\n",
       "SPM_Median             0\n",
       "SPM_P90                0\n",
       "Median_SPM_MOM_diff    0\n",
       "P10_SPM_MOM_diff       0\n",
       "P90_SPM_MOM_diff       0\n",
       "dtype: int64"
      ]
     },
     "execution_count": 27,
     "metadata": {},
     "output_type": "execute_result"
    }
   ],
   "source": [
    "YearClusterDataNSo2.isnull().sum()"
   ]
  },
  {
   "cell_type": "code",
   "execution_count": 28,
   "metadata": {},
   "outputs": [],
   "source": [
    "YearClusterDataNSo2_ori=YearClusterDataNSo2"
   ]
  },
  {
   "cell_type": "code",
   "execution_count": 29,
   "metadata": {},
   "outputs": [
    {
     "data": {
      "text/html": [
       "<div>\n",
       "<style scoped>\n",
       "    .dataframe tbody tr th:only-of-type {\n",
       "        vertical-align: middle;\n",
       "    }\n",
       "\n",
       "    .dataframe tbody tr th {\n",
       "        vertical-align: top;\n",
       "    }\n",
       "\n",
       "    .dataframe thead th {\n",
       "        text-align: right;\n",
       "    }\n",
       "</style>\n",
       "<table border=\"1\" class=\"dataframe\">\n",
       "  <thead>\n",
       "    <tr style=\"text-align: right;\">\n",
       "      <th></th>\n",
       "      <th>rec_id</th>\n",
       "      <th>SPM_P10</th>\n",
       "      <th>SPM_Median</th>\n",
       "      <th>SPM_P90</th>\n",
       "      <th>Median_SPM_MOM_diff</th>\n",
       "      <th>P10_SPM_MOM_diff</th>\n",
       "      <th>P90_SPM_MOM_diff</th>\n",
       "    </tr>\n",
       "  </thead>\n",
       "  <tbody>\n",
       "    <tr>\n",
       "      <td>310</td>\n",
       "      <td>310</td>\n",
       "      <td>48.7</td>\n",
       "      <td>83.5</td>\n",
       "      <td>118.3</td>\n",
       "      <td>-119.5</td>\n",
       "      <td>-67.1</td>\n",
       "      <td>-159.1</td>\n",
       "    </tr>\n",
       "    <tr>\n",
       "      <td>311</td>\n",
       "      <td>311</td>\n",
       "      <td>51.4</td>\n",
       "      <td>113.0</td>\n",
       "      <td>204.2</td>\n",
       "      <td>29.5</td>\n",
       "      <td>2.7</td>\n",
       "      <td>85.9</td>\n",
       "    </tr>\n",
       "    <tr>\n",
       "      <td>312</td>\n",
       "      <td>312</td>\n",
       "      <td>119.4</td>\n",
       "      <td>246.5</td>\n",
       "      <td>300.0</td>\n",
       "      <td>133.5</td>\n",
       "      <td>68.0</td>\n",
       "      <td>95.8</td>\n",
       "    </tr>\n",
       "    <tr>\n",
       "      <td>313</td>\n",
       "      <td>313</td>\n",
       "      <td>106.1</td>\n",
       "      <td>203.0</td>\n",
       "      <td>259.9</td>\n",
       "      <td>-43.5</td>\n",
       "      <td>-13.3</td>\n",
       "      <td>-40.1</td>\n",
       "    </tr>\n",
       "    <tr>\n",
       "      <td>314</td>\n",
       "      <td>314</td>\n",
       "      <td>72.5</td>\n",
       "      <td>133.5</td>\n",
       "      <td>212.0</td>\n",
       "      <td>-69.5</td>\n",
       "      <td>-33.6</td>\n",
       "      <td>-47.9</td>\n",
       "    </tr>\n",
       "  </tbody>\n",
       "</table>\n",
       "</div>"
      ],
      "text/plain": [
       "     rec_id  SPM_P10  SPM_Median  SPM_P90  Median_SPM_MOM_diff  \\\n",
       "310     310     48.7        83.5    118.3               -119.5   \n",
       "311     311     51.4       113.0    204.2                 29.5   \n",
       "312     312    119.4       246.5    300.0                133.5   \n",
       "313     313    106.1       203.0    259.9                -43.5   \n",
       "314     314     72.5       133.5    212.0                -69.5   \n",
       "\n",
       "     P10_SPM_MOM_diff  P90_SPM_MOM_diff  \n",
       "310             -67.1            -159.1  \n",
       "311               2.7              85.9  \n",
       "312              68.0              95.8  \n",
       "313             -13.3             -40.1  \n",
       "314             -33.6             -47.9  "
      ]
     },
     "execution_count": 29,
     "metadata": {},
     "output_type": "execute_result"
    }
   ],
   "source": [
    "YearClusterDataNSo2_ori.head()"
   ]
  },
  {
   "cell_type": "code",
   "execution_count": 30,
   "metadata": {},
   "outputs": [
    {
     "data": {
      "text/html": [
       "<div>\n",
       "<style scoped>\n",
       "    .dataframe tbody tr th:only-of-type {\n",
       "        vertical-align: middle;\n",
       "    }\n",
       "\n",
       "    .dataframe tbody tr th {\n",
       "        vertical-align: top;\n",
       "    }\n",
       "\n",
       "    .dataframe thead th {\n",
       "        text-align: right;\n",
       "    }\n",
       "</style>\n",
       "<table border=\"1\" class=\"dataframe\">\n",
       "  <thead>\n",
       "    <tr style=\"text-align: right;\">\n",
       "      <th></th>\n",
       "      <th>rec_id</th>\n",
       "      <th>SPM_P10</th>\n",
       "      <th>SPM_Median</th>\n",
       "      <th>SPM_P90</th>\n",
       "      <th>Median_SPM_MOM_diff</th>\n",
       "      <th>P10_SPM_MOM_diff</th>\n",
       "      <th>P90_SPM_MOM_diff</th>\n",
       "    </tr>\n",
       "  </thead>\n",
       "  <tbody>\n",
       "    <tr>\n",
       "      <td>310</td>\n",
       "      <td>310</td>\n",
       "      <td>48.7</td>\n",
       "      <td>83.5</td>\n",
       "      <td>118.3</td>\n",
       "      <td>-119.5</td>\n",
       "      <td>-67.1</td>\n",
       "      <td>-159.1</td>\n",
       "    </tr>\n",
       "    <tr>\n",
       "      <td>311</td>\n",
       "      <td>311</td>\n",
       "      <td>51.4</td>\n",
       "      <td>113.0</td>\n",
       "      <td>204.2</td>\n",
       "      <td>29.5</td>\n",
       "      <td>2.7</td>\n",
       "      <td>85.9</td>\n",
       "    </tr>\n",
       "    <tr>\n",
       "      <td>312</td>\n",
       "      <td>312</td>\n",
       "      <td>119.4</td>\n",
       "      <td>246.5</td>\n",
       "      <td>300.0</td>\n",
       "      <td>133.5</td>\n",
       "      <td>68.0</td>\n",
       "      <td>95.8</td>\n",
       "    </tr>\n",
       "    <tr>\n",
       "      <td>313</td>\n",
       "      <td>313</td>\n",
       "      <td>106.1</td>\n",
       "      <td>203.0</td>\n",
       "      <td>259.9</td>\n",
       "      <td>-43.5</td>\n",
       "      <td>-13.3</td>\n",
       "      <td>-40.1</td>\n",
       "    </tr>\n",
       "    <tr>\n",
       "      <td>314</td>\n",
       "      <td>314</td>\n",
       "      <td>72.5</td>\n",
       "      <td>133.5</td>\n",
       "      <td>212.0</td>\n",
       "      <td>-69.5</td>\n",
       "      <td>-33.6</td>\n",
       "      <td>-47.9</td>\n",
       "    </tr>\n",
       "  </tbody>\n",
       "</table>\n",
       "</div>"
      ],
      "text/plain": [
       "     rec_id  SPM_P10  SPM_Median  SPM_P90  Median_SPM_MOM_diff  \\\n",
       "310     310     48.7        83.5    118.3               -119.5   \n",
       "311     311     51.4       113.0    204.2                 29.5   \n",
       "312     312    119.4       246.5    300.0                133.5   \n",
       "313     313    106.1       203.0    259.9                -43.5   \n",
       "314     314     72.5       133.5    212.0                -69.5   \n",
       "\n",
       "     P10_SPM_MOM_diff  P90_SPM_MOM_diff  \n",
       "310             -67.1            -159.1  \n",
       "311               2.7              85.9  \n",
       "312              68.0              95.8  \n",
       "313             -13.3             -40.1  \n",
       "314             -33.6             -47.9  "
      ]
     },
     "execution_count": 30,
     "metadata": {},
     "output_type": "execute_result"
    }
   ],
   "source": [
    "YearClusterDataNSo2.head()"
   ]
  },
  {
   "cell_type": "code",
   "execution_count": 31,
   "metadata": {},
   "outputs": [],
   "source": [
    "YearClusterDataNSo2=YearClusterDataNSo2[['SPM_P10','SPM_Median','SPM_P90','Median_SPM_MOM_diff','P10_SPM_MOM_diff','P90_SPM_MOM_diff']]"
   ]
  },
  {
   "cell_type": "code",
   "execution_count": 32,
   "metadata": {},
   "outputs": [
    {
     "data": {
      "text/plain": [
       "SPM_P10                0\n",
       "SPM_Median             0\n",
       "SPM_P90                0\n",
       "Median_SPM_MOM_diff    0\n",
       "P10_SPM_MOM_diff       0\n",
       "P90_SPM_MOM_diff       0\n",
       "dtype: int64"
      ]
     },
     "execution_count": 32,
     "metadata": {},
     "output_type": "execute_result"
    }
   ],
   "source": [
    "YearClusterDataNSo2.isnull().sum()"
   ]
  },
  {
   "cell_type": "code",
   "execution_count": 33,
   "metadata": {},
   "outputs": [
    {
     "data": {
      "text/plain": [
       "<matplotlib.axes._subplots.AxesSubplot at 0x2d30c6f7648>"
      ]
     },
     "execution_count": 33,
     "metadata": {},
     "output_type": "execute_result"
    },
    {
     "data": {
      "image/png": "[encoded data removed]",
      "text/plain": [
       "<Figure size 432x288 with 1 Axes>"
      ]
     },
     "metadata": {
      "needs_background": "light"
     },
     "output_type": "display_data"
    }
   ],
   "source": [
    "sns.boxplot(y=\"SPM_Median\", data=YearClusterDataNSo2)"
   ]
  },
  {
   "cell_type": "code",
   "execution_count": 34,
   "metadata": {},
   "outputs": [],
   "source": [
    "from sklearn.preprocessing import StandardScaler\n",
    "standard_scaler = StandardScaler()\n",
    "YearClusterDataNSo2_norm = standard_scaler.fit_transform(YearClusterDataNSo2)"
   ]
  },
  {
   "cell_type": "code",
   "execution_count": 35,
   "metadata": {},
   "outputs": [],
   "source": [
    "from sklearn.neighbors import NearestNeighbors\n",
    "from random import sample\n",
    "from numpy.random import uniform\n",
    "import numpy as np\n",
    "from math import isnan\n",
    " \n",
    "def hopkins(X):\n",
    "    d = X.shape[1]\n",
    "    #d = len(vars) # columns\n",
    "    n = len(X) # rows\n",
    "    m = int(0.1 * n) \n",
    "    nbrs = NearestNeighbors(n_neighbors=1).fit(X)\n",
    " \n",
    "    rand_X = sample(range(0, n, 1), m)\n",
    " \n",
    "    ujd = []\n",
    "    wjd = []\n",
    "    for j in range(0, m):\n",
    "        u_dist, _ = nbrs.kneighbors(uniform(np.amin(X,axis=0),np.amax(X,axis=0),d).reshape(1, -1), 2, return_distance=True)\n",
    "        ujd.append(u_dist[0][1])\n",
    "        w_dist, _ = nbrs.kneighbors(X[rand_X[j]].reshape(1, -1), 2, return_distance=True)\n",
    "        wjd.append(w_dist[0][1])\n",
    " \n",
    "    H = sum(ujd) / (sum(ujd) + sum(wjd))\n",
    "    if isnan(H):\n",
    "        print(ujd, wjd)\n",
    "        H = 0\n",
    " \n",
    "    return H"
   ]
  },
  {
   "cell_type": "code",
   "execution_count": 36,
   "metadata": {},
   "outputs": [
    {
     "data": {
      "text/plain": [
       "0.9039449081490383"
      ]
     },
     "execution_count": 36,
     "metadata": {},
     "output_type": "execute_result"
    }
   ],
   "source": [
    "hopkins(YearClusterDataNSo2_norm)"
   ]
  },
  {
   "cell_type": "code",
   "execution_count": 37,
   "metadata": {},
   "outputs": [
    {
     "data": {
      "image/png": "[encoded data removed]",
      "text/plain": [
       "<Figure size 432x288 with 1 Axes>"
      ]
     },
     "metadata": {
      "needs_background": "light"
     },
     "output_type": "display_data"
    }
   ],
   "source": [
    "# heirarchical clustering\n",
    "mergings = linkage(YearClusterDataNSo2_norm, method = \"single\", metric='euclidean')\n",
    "dendrogram(mergings)\n",
    "plt.show()"
   ]
  },
  {
   "cell_type": "code",
   "execution_count": 38,
   "metadata": {},
   "outputs": [
    {
     "data": {
      "image/png": "[encoded data removed]",
      "text/plain": [
       "<Figure size 432x288 with 1 Axes>"
      ]
     },
     "metadata": {
      "needs_background": "light"
     },
     "output_type": "display_data"
    }
   ],
   "source": [
    "# heirarchical clustering\n",
    "mergings = linkage(YearClusterDataNSo2_norm, method = \"complete\", metric='euclidean')\n",
    "dendrogram(mergings)\n",
    "plt.show()"
   ]
  },
  {
   "cell_type": "markdown",
   "metadata": {},
   "source": [
    "#### seems like 2 clusters"
   ]
  },
  {
   "cell_type": "code",
   "execution_count": null,
   "metadata": {},
   "outputs": [],
   "source": [
    "YearClusterDataNSo2_ori.head()"
   ]
  },
  {
   "cell_type": "markdown",
   "metadata": {},
   "source": [
    "### k-menas elbow and skilhoute recommedned 4"
   ]
  },
  {
   "cell_type": "code",
   "execution_count": 50,
   "metadata": {},
   "outputs": [],
   "source": [
    "YearClusterDataNSo2_ori.reset_index(drop=True, inplace=True)\n",
    "clusterCut.reset_index(drop=True, inplace=True)"
   ]
  },
  {
   "cell_type": "code",
   "execution_count": 49,
   "metadata": {},
   "outputs": [],
   "source": [
    "clusterCut = pd.Series(cut_tree(mergings, n_clusters = 4).reshape(-1,))\n",
    "YearClusterDataNSo2_OriClus = pd.concat([YearClusterDataNSo2_ori, clusterCut], axis=1)"
   ]
  },
  {
   "cell_type": "code",
   "execution_count": 51,
   "metadata": {},
   "outputs": [
    {
     "data": {
      "text/plain": [
       "(2855,)"
      ]
     },
     "execution_count": 51,
     "metadata": {},
     "output_type": "execute_result"
    }
   ],
   "source": [
    "clusterCut.shape"
   ]
  },
  {
   "cell_type": "code",
   "execution_count": 47,
   "metadata": {},
   "outputs": [
    {
     "data": {
      "text/plain": [
       "(2855, 7)"
      ]
     },
     "execution_count": 47,
     "metadata": {},
     "output_type": "execute_result"
    }
   ],
   "source": [
    "YearClusterDataNSo2_ori.shape"
   ]
  },
  {
   "cell_type": "code",
   "execution_count": 52,
   "metadata": {},
   "outputs": [
    {
     "data": {
      "text/plain": [
       "Index([             'rec_id',             'SPM_P10',          'SPM_Median',\n",
       "                   'SPM_P90', 'Median_SPM_MOM_diff',    'P10_SPM_MOM_diff',\n",
       "          'P90_SPM_MOM_diff',                     0],\n",
       "      dtype='object')"
      ]
     },
     "execution_count": 52,
     "metadata": {},
     "output_type": "execute_result"
    }
   ],
   "source": [
    "YearClusterDataNSo2_OriClus.columns"
   ]
  },
  {
   "cell_type": "code",
   "execution_count": 53,
   "metadata": {},
   "outputs": [],
   "source": [
    "YearClusterDataNSo2_OriClus.columns=['rec_id',             'SPM_P10',          'SPM_Median',\n",
    "                   'SPM_P90', 'Median_SPM_MOM_diff',    'P10_SPM_MOM_diff',\n",
    "          'P90_SPM_MOM_diff',    'ClusterId']"
   ]
  },
  {
   "cell_type": "code",
   "execution_count": 54,
   "metadata": {},
   "outputs": [
    {
     "data": {
      "text/plain": [
       "(2855, 8)"
      ]
     },
     "execution_count": 54,
     "metadata": {},
     "output_type": "execute_result"
    }
   ],
   "source": [
    "YearClusterDataNSo2_OriClus.shape"
   ]
  },
  {
   "cell_type": "code",
   "execution_count": 55,
   "metadata": {},
   "outputs": [
    {
     "data": {
      "text/html": [
       "<div>\n",
       "<style scoped>\n",
       "    .dataframe tbody tr th:only-of-type {\n",
       "        vertical-align: middle;\n",
       "    }\n",
       "\n",
       "    .dataframe tbody tr th {\n",
       "        vertical-align: top;\n",
       "    }\n",
       "\n",
       "    .dataframe thead th {\n",
       "        text-align: right;\n",
       "    }\n",
       "</style>\n",
       "<table border=\"1\" class=\"dataframe\">\n",
       "  <thead>\n",
       "    <tr style=\"text-align: right;\">\n",
       "      <th></th>\n",
       "      <th>rec_id</th>\n",
       "      <th>SPM_P10</th>\n",
       "      <th>SPM_Median</th>\n",
       "      <th>SPM_P90</th>\n",
       "      <th>Median_SPM_MOM_diff</th>\n",
       "      <th>P10_SPM_MOM_diff</th>\n",
       "      <th>P90_SPM_MOM_diff</th>\n",
       "      <th>ClusterId</th>\n",
       "    </tr>\n",
       "  </thead>\n",
       "  <tbody>\n",
       "    <tr>\n",
       "      <td>0</td>\n",
       "      <td>310</td>\n",
       "      <td>48.7</td>\n",
       "      <td>83.5</td>\n",
       "      <td>118.3</td>\n",
       "      <td>-119.5</td>\n",
       "      <td>-67.1</td>\n",
       "      <td>-159.1</td>\n",
       "      <td>0</td>\n",
       "    </tr>\n",
       "    <tr>\n",
       "      <td>1</td>\n",
       "      <td>311</td>\n",
       "      <td>51.4</td>\n",
       "      <td>113.0</td>\n",
       "      <td>204.2</td>\n",
       "      <td>29.5</td>\n",
       "      <td>2.7</td>\n",
       "      <td>85.9</td>\n",
       "      <td>1</td>\n",
       "    </tr>\n",
       "    <tr>\n",
       "      <td>2</td>\n",
       "      <td>312</td>\n",
       "      <td>119.4</td>\n",
       "      <td>246.5</td>\n",
       "      <td>300.0</td>\n",
       "      <td>133.5</td>\n",
       "      <td>68.0</td>\n",
       "      <td>95.8</td>\n",
       "      <td>2</td>\n",
       "    </tr>\n",
       "    <tr>\n",
       "      <td>3</td>\n",
       "      <td>313</td>\n",
       "      <td>106.1</td>\n",
       "      <td>203.0</td>\n",
       "      <td>259.9</td>\n",
       "      <td>-43.5</td>\n",
       "      <td>-13.3</td>\n",
       "      <td>-40.1</td>\n",
       "      <td>1</td>\n",
       "    </tr>\n",
       "    <tr>\n",
       "      <td>4</td>\n",
       "      <td>314</td>\n",
       "      <td>72.5</td>\n",
       "      <td>133.5</td>\n",
       "      <td>212.0</td>\n",
       "      <td>-69.5</td>\n",
       "      <td>-33.6</td>\n",
       "      <td>-47.9</td>\n",
       "      <td>0</td>\n",
       "    </tr>\n",
       "  </tbody>\n",
       "</table>\n",
       "</div>"
      ],
      "text/plain": [
       "   rec_id  SPM_P10  SPM_Median  SPM_P90  Median_SPM_MOM_diff  \\\n",
       "0     310     48.7        83.5    118.3               -119.5   \n",
       "1     311     51.4       113.0    204.2                 29.5   \n",
       "2     312    119.4       246.5    300.0                133.5   \n",
       "3     313    106.1       203.0    259.9                -43.5   \n",
       "4     314     72.5       133.5    212.0                -69.5   \n",
       "\n",
       "   P10_SPM_MOM_diff  P90_SPM_MOM_diff  ClusterId  \n",
       "0             -67.1            -159.1          0  \n",
       "1               2.7              85.9          1  \n",
       "2              68.0              95.8          2  \n",
       "3             -13.3             -40.1          1  \n",
       "4             -33.6             -47.9          0  "
      ]
     },
     "execution_count": 55,
     "metadata": {},
     "output_type": "execute_result"
    }
   ],
   "source": [
    "YearClusterDataNSo2_OriClus.head()"
   ]
  },
  {
   "cell_type": "code",
   "execution_count": 56,
   "metadata": {},
   "outputs": [],
   "source": [
    "clusters_SPM_Median = \tpd.DataFrame(YearClusterDataNSo2_OriClus.groupby([\"ClusterId\"]).SPM_Median.mean())\n",
    "clusters_SPM_P10 = \tpd.DataFrame(YearClusterDataNSo2_OriClus.groupby([\"ClusterId\"]).SPM_P10.mean())\n",
    "clusters_SPM_P90 = \tpd.DataFrame(YearClusterDataNSo2_OriClus.groupby([\"ClusterId\"]).SPM_P90.mean())\n",
    "clusters_Median_SPM_MOM_diff = \tpd.DataFrame(YearClusterDataNSo2_OriClus.groupby([\"ClusterId\"]).Median_SPM_MOM_diff.mean())\n",
    "clusters_P10_SPM_MOM_diff = \tpd.DataFrame(YearClusterDataNSo2_OriClus.groupby([\"ClusterId\"]).P10_SPM_MOM_diff.mean())\n",
    "clusters_P90_SPM_MOM_diff = \tpd.DataFrame(YearClusterDataNSo2_OriClus.groupby([\"ClusterId\"]).P90_SPM_MOM_diff.mean())"
   ]
  },
  {
   "cell_type": "code",
   "execution_count": 57,
   "metadata": {},
   "outputs": [
    {
     "data": {
      "text/html": [
       "<div>\n",
       "<style scoped>\n",
       "    .dataframe tbody tr th:only-of-type {\n",
       "        vertical-align: middle;\n",
       "    }\n",
       "\n",
       "    .dataframe tbody tr th {\n",
       "        vertical-align: top;\n",
       "    }\n",
       "\n",
       "    .dataframe thead th {\n",
       "        text-align: right;\n",
       "    }\n",
       "</style>\n",
       "<table border=\"1\" class=\"dataframe\">\n",
       "  <thead>\n",
       "    <tr style=\"text-align: right;\">\n",
       "      <th></th>\n",
       "      <th>ClusterID</th>\n",
       "      <th>clusters_SPM_P10</th>\n",
       "      <th>clusters_P10_SPM_MOM_diff</th>\n",
       "      <th>clusters_SPM_Median</th>\n",
       "      <th>clusters_Median_SPM_MOM_diff</th>\n",
       "      <th>clusters_SPM_P90</th>\n",
       "      <th>clusters_P90_SPM_MOM_diff</th>\n",
       "    </tr>\n",
       "  </thead>\n",
       "  <tbody>\n",
       "    <tr>\n",
       "      <td>0</td>\n",
       "      <td>0</td>\n",
       "      <td>111.927658</td>\n",
       "      <td>-56.396150</td>\n",
       "      <td>139.477402</td>\n",
       "      <td>-70.322022</td>\n",
       "      <td>185.440226</td>\n",
       "      <td>-74.728095</td>\n",
       "    </tr>\n",
       "    <tr>\n",
       "      <td>1</td>\n",
       "      <td>1</td>\n",
       "      <td>125.811485</td>\n",
       "      <td>0.782260</td>\n",
       "      <td>164.236180</td>\n",
       "      <td>1.463821</td>\n",
       "      <td>216.223142</td>\n",
       "      <td>3.022857</td>\n",
       "    </tr>\n",
       "    <tr>\n",
       "      <td>2</td>\n",
       "      <td>2</td>\n",
       "      <td>265.210326</td>\n",
       "      <td>19.958048</td>\n",
       "      <td>316.736570</td>\n",
       "      <td>27.703961</td>\n",
       "      <td>364.085028</td>\n",
       "      <td>29.109118</td>\n",
       "    </tr>\n",
       "    <tr>\n",
       "      <td>3</td>\n",
       "      <td>3</td>\n",
       "      <td>286.761039</td>\n",
       "      <td>138.631429</td>\n",
       "      <td>326.571429</td>\n",
       "      <td>152.603896</td>\n",
       "      <td>354.266234</td>\n",
       "      <td>138.735844</td>\n",
       "    </tr>\n",
       "  </tbody>\n",
       "</table>\n",
       "</div>"
      ],
      "text/plain": [
       "   ClusterID  clusters_SPM_P10  clusters_P10_SPM_MOM_diff  \\\n",
       "0          0        111.927658                 -56.396150   \n",
       "1          1        125.811485                   0.782260   \n",
       "2          2        265.210326                  19.958048   \n",
       "3          3        286.761039                 138.631429   \n",
       "\n",
       "   clusters_SPM_Median  clusters_Median_SPM_MOM_diff  clusters_SPM_P90  \\\n",
       "0           139.477402                    -70.322022        185.440226   \n",
       "1           164.236180                      1.463821        216.223142   \n",
       "2           316.736570                     27.703961        364.085028   \n",
       "3           326.571429                    152.603896        354.266234   \n",
       "\n",
       "   clusters_P90_SPM_MOM_diff  \n",
       "0                 -74.728095  \n",
       "1                   3.022857  \n",
       "2                  29.109118  \n",
       "3                 138.735844  "
      ]
     },
     "execution_count": 57,
     "metadata": {},
     "output_type": "execute_result"
    }
   ],
   "source": [
    "df = pd.concat([pd.Series([0,1,2,3]), clusters_SPM_P10,clusters_P10_SPM_MOM_diff,clusters_SPM_Median,clusters_Median_SPM_MOM_diff,  clusters_SPM_P90,clusters_P90_SPM_MOM_diff], axis=1)\n",
    "df.columns = [\"ClusterID\", \"clusters_SPM_P10\", \"clusters_P10_SPM_MOM_diff\", \"clusters_SPM_Median\",\"clusters_Median_SPM_MOM_diff\",\"clusters_SPM_P90\",\"clusters_P90_SPM_MOM_diff\"]\n",
    "df.head()"
   ]
  },
  {
   "cell_type": "code",
   "execution_count": 58,
   "metadata": {},
   "outputs": [
    {
     "data": {
      "text/plain": [
       "<matplotlib.axes._subplots.AxesSubplot at 0x2d3109bb348>"
      ]
     },
     "execution_count": 58,
     "metadata": {},
     "output_type": "execute_result"
    },
    {
     "data": {
      "image/png": "[encoded data removed]",
      "text/plain": [
       "<Figure size 432x288 with 1 Axes>"
      ]
     },
     "metadata": {
      "needs_background": "light"
     },
     "output_type": "display_data"
    }
   ],
   "source": [
    "#plotting barplot\n",
    "sns.barplot(x=df.ClusterID, y=df.clusters_SPM_P10)"
   ]
  },
  {
   "cell_type": "code",
   "execution_count": 59,
   "metadata": {},
   "outputs": [
    {
     "data": {
      "text/plain": [
       "<matplotlib.axes._subplots.AxesSubplot at 0x2d31070d6c8>"
      ]
     },
     "execution_count": 59,
     "metadata": {},
     "output_type": "execute_result"
    },
    {
     "data": {
      "image/png": "[encoded data removed]",
      "text/plain": [
       "<Figure size 432x288 with 1 Axes>"
      ]
     },
     "metadata": {
      "needs_background": "light"
     },
     "output_type": "display_data"
    }
   ],
   "source": [
    "#plotting barplot\n",
    "sns.barplot(x=df.ClusterID, y=df.clusters_SPM_Median)"
   ]
  },
  {
   "cell_type": "code",
   "execution_count": 60,
   "metadata": {},
   "outputs": [
    {
     "data": {
      "text/plain": [
       "<matplotlib.axes._subplots.AxesSubplot at 0x2d30f118488>"
      ]
     },
     "execution_count": 60,
     "metadata": {},
     "output_type": "execute_result"
    },
    {
     "data": {
      "image/png": "[encoded data removed]",
      "text/plain": [
       "<Figure size 432x288 with 1 Axes>"
      ]
     },
     "metadata": {
      "needs_background": "light"
     },
     "output_type": "display_data"
    }
   ],
   "source": [
    "#plotting barplot\n",
    "sns.barplot(x=df.ClusterID, y=df.clusters_SPM_P90)"
   ]
  },
  {
   "cell_type": "code",
   "execution_count": 61,
   "metadata": {},
   "outputs": [
    {
     "data": {
      "text/plain": [
       "Index(['ClusterID', 'clusters_SPM_P10', 'clusters_P10_SPM_MOM_diff',\n",
       "       'clusters_SPM_Median', 'clusters_Median_SPM_MOM_diff',\n",
       "       'clusters_SPM_P90', 'clusters_P90_SPM_MOM_diff'],\n",
       "      dtype='object')"
      ]
     },
     "execution_count": 61,
     "metadata": {},
     "output_type": "execute_result"
    }
   ],
   "source": [
    "df.columns"
   ]
  },
  {
   "cell_type": "code",
   "execution_count": 62,
   "metadata": {},
   "outputs": [
    {
     "name": "stdout",
     "output_type": "stream",
     "text": [
      "                      variables      values\n",
      "0                     ClusterID    0.000000\n",
      "1              clusters_SPM_P10  111.927658\n",
      "2     clusters_P10_SPM_MOM_diff  -56.396150\n",
      "3           clusters_SPM_Median  139.477402\n",
      "4  clusters_Median_SPM_MOM_diff  -70.322022\n",
      "5              clusters_SPM_P90  185.440226\n",
      "6     clusters_P90_SPM_MOM_diff  -74.728095\n",
      "                      variables      values\n",
      "0                     ClusterID    1.000000\n",
      "1              clusters_SPM_P10  125.811485\n",
      "2     clusters_P10_SPM_MOM_diff    0.782260\n",
      "3           clusters_SPM_Median  164.236180\n",
      "4  clusters_Median_SPM_MOM_diff    1.463821\n",
      "5              clusters_SPM_P90  216.223142\n",
      "6     clusters_P90_SPM_MOM_diff    3.022857\n",
      "                      variables      values\n",
      "0                     ClusterID    2.000000\n",
      "1              clusters_SPM_P10  265.210326\n",
      "2     clusters_P10_SPM_MOM_diff   19.958048\n",
      "3           clusters_SPM_Median  316.736570\n",
      "4  clusters_Median_SPM_MOM_diff   27.703961\n",
      "5              clusters_SPM_P90  364.085028\n",
      "6     clusters_P90_SPM_MOM_diff   29.109118\n",
      "                      variables      values\n",
      "0                     ClusterID    3.000000\n",
      "1              clusters_SPM_P10  286.761039\n",
      "2     clusters_P10_SPM_MOM_diff  138.631429\n",
      "3           clusters_SPM_Median  326.571429\n",
      "4  clusters_Median_SPM_MOM_diff  152.603896\n",
      "5              clusters_SPM_P90  354.266234\n",
      "6     clusters_P90_SPM_MOM_diff  138.735844\n"
     ]
    },
    {
     "data": {
      "image/png": "[encoded data removed]",
      "text/plain": [
       "<Figure size 1080x360 with 4 Axes>"
      ]
     },
     "metadata": {
      "needs_background": "light"
     },
     "output_type": "display_data"
    }
   ],
   "source": [
    "plt.figure(figsize = (15,5))\n",
    "for i in range(0, 4):    \n",
    "    ClusterOne=np.transpose(df[df.ClusterID==i])\n",
    "    ClusterOne.reset_index(inplace=True)\n",
    "    ClusterOne.columns=['variables', 'values']\n",
    "    ClusterOne['values']=ClusterOne['values'].map(float)\n",
    "    print(ClusterOne)\n",
    "    plt.subplot(2, 3, i+1)\n",
    "    t=sns.barplot(x='variables',y='values',data=ClusterOne)\n",
    "    t.set_xticklabels(labels=ClusterOne.variables,rotation=90)"
   ]
  },
  {
   "cell_type": "code",
   "execution_count": 63,
   "metadata": {},
   "outputs": [
    {
     "data": {
      "text/plain": [
       "Index(['rec_id', 'SPM_P10', 'SPM_Median', 'SPM_P90', 'Median_SPM_MOM_diff',\n",
       "       'P10_SPM_MOM_diff', 'P90_SPM_MOM_diff', 'ClusterId'],\n",
       "      dtype='object')"
      ]
     },
     "execution_count": 63,
     "metadata": {},
     "output_type": "execute_result"
    }
   ],
   "source": [
    "YearClusterDataNSo2_OriClus.columns"
   ]
  },
  {
   "cell_type": "code",
   "execution_count": 64,
   "metadata": {},
   "outputs": [],
   "source": [
    "woyCluster=YearClusterDataNSo2_OriClus[['rec_id','ClusterId']]"
   ]
  },
  {
   "cell_type": "code",
   "execution_count": 65,
   "metadata": {},
   "outputs": [],
   "source": [
    "Base_polpop_iell_csrf_ClusWoYear=Base_polpop_iell_csrf.merge(woyCluster,how='left', suffixes=('_data', '_cluster'),left_on=['rec_id'], right_on=['rec_id'])"
   ]
  },
  {
   "cell_type": "code",
   "execution_count": 66,
   "metadata": {},
   "outputs": [
    {
     "data": {
      "text/plain": [
       "Index(['Unnamed: 0', 'City_poll', 'Type_of_Location', 'year_number',\n",
       "       'month_number', 'NO2_Median', 'RSPM_PM10_Median', 'SO2_Median',\n",
       "       'SPM_Median', 'Median_SO2_MOM_diff',\n",
       "       ...\n",
       "       'Main_District_Highway_per', 'Other_district_Rural_Roads_per',\n",
       "       'indus_by_overall', 'indus_by_forest', 'indus_by_nonforest', 'rec_id',\n",
       "       'RainPerArea', 'CarSalesPerArea', 'RainPerCarSales', 'ClusterId'],\n",
       "      dtype='object', length=107)"
      ]
     },
     "execution_count": 66,
     "metadata": {},
     "output_type": "execute_result"
    }
   ],
   "source": [
    "Base_polpop_iell_csrf_ClusWoYear.columns"
   ]
  },
  {
   "cell_type": "code",
   "execution_count": 67,
   "metadata": {},
   "outputs": [
    {
     "data": {
      "text/html": [
       "<div>\n",
       "<style scoped>\n",
       "    .dataframe tbody tr th:only-of-type {\n",
       "        vertical-align: middle;\n",
       "    }\n",
       "\n",
       "    .dataframe tbody tr th {\n",
       "        vertical-align: top;\n",
       "    }\n",
       "\n",
       "    .dataframe thead th {\n",
       "        text-align: right;\n",
       "    }\n",
       "</style>\n",
       "<table border=\"1\" class=\"dataframe\">\n",
       "  <thead>\n",
       "    <tr style=\"text-align: right;\">\n",
       "      <th></th>\n",
       "      <th>rec_id</th>\n",
       "    </tr>\n",
       "  </thead>\n",
       "  <tbody>\n",
       "    <tr>\n",
       "      <td>342</td>\n",
       "      <td>342</td>\n",
       "    </tr>\n",
       "    <tr>\n",
       "      <td>655</td>\n",
       "      <td>655</td>\n",
       "    </tr>\n",
       "    <tr>\n",
       "      <td>757</td>\n",
       "      <td>757</td>\n",
       "    </tr>\n",
       "    <tr>\n",
       "      <td>769</td>\n",
       "      <td>769</td>\n",
       "    </tr>\n",
       "    <tr>\n",
       "      <td>780</td>\n",
       "      <td>780</td>\n",
       "    </tr>\n",
       "    <tr>\n",
       "      <td>...</td>\n",
       "      <td>...</td>\n",
       "    </tr>\n",
       "    <tr>\n",
       "      <td>4827</td>\n",
       "      <td>4833</td>\n",
       "    </tr>\n",
       "    <tr>\n",
       "      <td>4828</td>\n",
       "      <td>4835</td>\n",
       "    </tr>\n",
       "    <tr>\n",
       "      <td>4841</td>\n",
       "      <td>4848</td>\n",
       "    </tr>\n",
       "    <tr>\n",
       "      <td>4853</td>\n",
       "      <td>4860</td>\n",
       "    </tr>\n",
       "    <tr>\n",
       "      <td>5243</td>\n",
       "      <td>5250</td>\n",
       "    </tr>\n",
       "  </tbody>\n",
       "</table>\n",
       "<p>77 rows × 1 columns</p>\n",
       "</div>"
      ],
      "text/plain": [
       "      rec_id\n",
       "342      342\n",
       "655      655\n",
       "757      757\n",
       "769      769\n",
       "780      780\n",
       "...      ...\n",
       "4827    4833\n",
       "4828    4835\n",
       "4841    4848\n",
       "4853    4860\n",
       "5243    5250\n",
       "\n",
       "[77 rows x 1 columns]"
      ]
     },
     "execution_count": 67,
     "metadata": {},
     "output_type": "execute_result"
    }
   ],
   "source": [
    "Base_polpop_iell_csrf_ClusWoYear.loc[Base_polpop_iell_csrf_ClusWoYear.ClusterId==3,[ 'rec_id']]"
   ]
  },
  {
   "cell_type": "code",
   "execution_count": null,
   "metadata": {},
   "outputs": [],
   "source": []
  },
  {
   "cell_type": "code",
   "execution_count": 68,
   "metadata": {},
   "outputs": [],
   "source": [
    "Base_ClusWoYear=Base_polpop_iell_csrf_ClusWoYear[['City_poll','Type_of_Location', 'ClusterId','year_number','month_number']]"
   ]
  },
  {
   "cell_type": "code",
   "execution_count": 69,
   "metadata": {},
   "outputs": [
    {
     "data": {
      "text/html": [
       "<div>\n",
       "<style scoped>\n",
       "    .dataframe tbody tr th:only-of-type {\n",
       "        vertical-align: middle;\n",
       "    }\n",
       "\n",
       "    .dataframe tbody tr th {\n",
       "        vertical-align: top;\n",
       "    }\n",
       "\n",
       "    .dataframe thead th {\n",
       "        text-align: right;\n",
       "    }\n",
       "</style>\n",
       "<table border=\"1\" class=\"dataframe\">\n",
       "  <thead>\n",
       "    <tr style=\"text-align: right;\">\n",
       "      <th></th>\n",
       "      <th>City_poll</th>\n",
       "      <th>Type_of_Location</th>\n",
       "      <th>ClusterId</th>\n",
       "      <th>year_number</th>\n",
       "      <th>month_number</th>\n",
       "    </tr>\n",
       "  </thead>\n",
       "  <tbody>\n",
       "    <tr>\n",
       "      <td>0</td>\n",
       "      <td>AKOLA</td>\n",
       "      <td>Industrial</td>\n",
       "      <td>NaN</td>\n",
       "      <td>2011</td>\n",
       "      <td>1.0</td>\n",
       "    </tr>\n",
       "    <tr>\n",
       "      <td>1</td>\n",
       "      <td>AKOLA</td>\n",
       "      <td>Industrial</td>\n",
       "      <td>NaN</td>\n",
       "      <td>2011</td>\n",
       "      <td>2.0</td>\n",
       "    </tr>\n",
       "    <tr>\n",
       "      <td>2</td>\n",
       "      <td>AKOLA</td>\n",
       "      <td>Industrial</td>\n",
       "      <td>NaN</td>\n",
       "      <td>2011</td>\n",
       "      <td>3.0</td>\n",
       "    </tr>\n",
       "    <tr>\n",
       "      <td>3</td>\n",
       "      <td>AKOLA</td>\n",
       "      <td>Industrial</td>\n",
       "      <td>NaN</td>\n",
       "      <td>2011</td>\n",
       "      <td>4.0</td>\n",
       "    </tr>\n",
       "    <tr>\n",
       "      <td>4</td>\n",
       "      <td>AKOLA</td>\n",
       "      <td>Industrial</td>\n",
       "      <td>NaN</td>\n",
       "      <td>2011</td>\n",
       "      <td>5.0</td>\n",
       "    </tr>\n",
       "  </tbody>\n",
       "</table>\n",
       "</div>"
      ],
      "text/plain": [
       "  City_poll Type_of_Location  ClusterId  year_number  month_number\n",
       "0     AKOLA       Industrial        NaN         2011           1.0\n",
       "1     AKOLA       Industrial        NaN         2011           2.0\n",
       "2     AKOLA       Industrial        NaN         2011           3.0\n",
       "3     AKOLA       Industrial        NaN         2011           4.0\n",
       "4     AKOLA       Industrial        NaN         2011           5.0"
      ]
     },
     "execution_count": 69,
     "metadata": {},
     "output_type": "execute_result"
    }
   ],
   "source": [
    "Base_ClusWoYear.head()"
   ]
  },
  {
   "cell_type": "code",
   "execution_count": 70,
   "metadata": {},
   "outputs": [],
   "source": [
    "Base_ClusWoYear=Base_ClusWoYear.sort_values(by=['City_poll', 'year_number','month_number'])"
   ]
  },
  {
   "cell_type": "code",
   "execution_count": null,
   "metadata": {},
   "outputs": [],
   "source": [
    "Base_ClusWoYear.shape"
   ]
  },
  {
   "cell_type": "code",
   "execution_count": null,
   "metadata": {},
   "outputs": [],
   "source": [
    "Base_ClusWoYear.head()"
   ]
  },
  {
   "cell_type": "code",
   "execution_count": 71,
   "metadata": {},
   "outputs": [],
   "source": [
    "Base_ClusWoYear.to_csv(path_or_buf ='E:\\MS\\Base_spm5_25oct.csv')"
   ]
  },
  {
   "cell_type": "code",
   "execution_count": null,
   "metadata": {},
   "outputs": [],
   "source": []
  },
  {
   "cell_type": "markdown",
   "metadata": {},
   "source": [
    "---- kmeans"
   ]
  },
  {
   "cell_type": "code",
   "execution_count": 39,
   "metadata": {},
   "outputs": [
    {
     "data": {
      "text/plain": [
       "KMeans(algorithm='auto', copy_x=True, init='k-means++', max_iter=50,\n",
       "       n_clusters=4, n_init=10, n_jobs=None, precompute_distances='auto',\n",
       "       random_state=None, tol=0.0001, verbose=0)"
      ]
     },
     "execution_count": 39,
     "metadata": {},
     "output_type": "execute_result"
    }
   ],
   "source": [
    "# Kmeans with K=4\n",
    "model_clus5 = KMeans(n_clusters = 4, max_iter=50)\n",
    "model_clus5.fit(YearClusterDataNSo2_norm)"
   ]
  },
  {
   "cell_type": "markdown",
   "metadata": {},
   "source": [
    "## Silhouette Analysis\n",
    "\n",
    "$$\\text{silhouette score}=\\frac{p-q}{max(p,q)}$$\n",
    "\n",
    "$p$ is the mean distance to the points in the nearest cluster that the data point is not a part of\n",
    "\n",
    "$q$ is the mean intra-cluster distance to all the points in its own cluster.\n",
    "\n",
    "* The value of the silhouette score range lies between -1 to 1. \n",
    "\n",
    "* A score closer to 1 indicates that the data point is very similar to other data points in the cluster, \n",
    "\n",
    "* A score closer to -1 indicates that the data point is not similar to the data points in its cluster.m"
   ]
  },
  {
   "cell_type": "code",
   "execution_count": 40,
   "metadata": {},
   "outputs": [],
   "source": [
    "from sklearn.metrics import silhouette_score\n",
    "sse_ = []\n",
    "for k in range(2, 15):\n",
    "    kmeans = KMeans(n_clusters=k).fit(YearClusterDataNSo2_norm)\n",
    "    sse_.append([k, silhouette_score(YearClusterDataNSo2_norm, kmeans.labels_)])"
   ]
  },
  {
   "cell_type": "code",
   "execution_count": 41,
   "metadata": {},
   "outputs": [
    {
     "data": {
      "image/png": "[encoded data removed]",
      "text/plain": [
       "<Figure size 432x288 with 1 Axes>"
      ]
     },
     "metadata": {
      "needs_background": "light"
     },
     "output_type": "display_data"
    }
   ],
   "source": [
    "plt.plot(pd.DataFrame(sse_)[0], pd.DataFrame(sse_)[1]);"
   ]
  },
  {
   "cell_type": "markdown",
   "metadata": {},
   "source": [
    "### 4 seems to get a spike"
   ]
  },
  {
   "cell_type": "code",
   "execution_count": 42,
   "metadata": {},
   "outputs": [
    {
     "data": {
      "text/plain": [
       "[<matplotlib.lines.Line2D at 0x2d30cf5f148>]"
      ]
     },
     "execution_count": 42,
     "metadata": {},
     "output_type": "execute_result"
    },
    {
     "data": {
      "image/png": "[encoded data removed]",
      "text/plain": [
       "<Figure size 432x288 with 1 Axes>"
      ]
     },
     "metadata": {
      "needs_background": "light"
     },
     "output_type": "display_data"
    }
   ],
   "source": [
    "# sum of squared distances\n",
    "ssd = []\n",
    "for num_clusters in list(range(1,21)):\n",
    "    model_clus = KMeans(n_clusters = num_clusters, max_iter=50)\n",
    "    model_clus.fit(YearClusterDataNSo2_norm)\n",
    "    ssd.append(model_clus.inertia_)\n",
    "plt.xticks(np.arange(1, 21, 1.0))\n",
    "plt.plot(ssd)\n"
   ]
  },
  {
   "cell_type": "markdown",
   "metadata": {},
   "source": [
    "#### 5 is at a lower end may be four truely is better"
   ]
  },
  {
   "cell_type": "code",
   "execution_count": null,
   "metadata": {},
   "outputs": [],
   "source": []
  },
  {
   "cell_type": "code",
   "execution_count": null,
   "metadata": {},
   "outputs": [],
   "source": []
  }
 ],
 "metadata": {
  "kernelspec": {
   "display_name": "Python 3",
   "language": "python",
   "name": "python3"
  },
  "language_info": {
   "codemirror_mode": {
    "name": "ipython",
    "version": 3
   },
   "file_extension": ".py",
   "mimetype": "text/x-python",
   "name": "python",
   "nbconvert_exporter": "python",
   "pygments_lexer": "ipython3",
   "version": "3.7.4"
  }
 },
 "nbformat": 4,
 "nbformat_minor": 2
}
